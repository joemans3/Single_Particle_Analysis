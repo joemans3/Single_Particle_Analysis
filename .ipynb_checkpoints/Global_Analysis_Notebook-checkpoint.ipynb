{
 "cells": [
  {
   "cell_type": "code",
   "execution_count": 3,
   "metadata": {
    "collapsed": false
   },
   "outputs": [
    {
     "ename": "NameError",
     "evalue": "name 'frame_total' is not defined",
     "output_type": "error",
     "traceback": [
      "\u001b[0;31m---------------------------------------------------------------------------\u001b[0m",
      "\u001b[0;31mNameError\u001b[0m                                 Traceback (most recent call last)",
      "\u001b[0;32m<ipython-input-3-dcc485937e51>\u001b[0m in \u001b[0;36m<module>\u001b[0;34m()\u001b[0m\n\u001b[1;32m      2\u001b[0m \u001b[0;32mimport\u001b[0m \u001b[0mmatplotlib\u001b[0m \u001b[0;32mas\u001b[0m \u001b[0mplt\u001b[0m\u001b[0;34m\u001b[0m\u001b[0m\n\u001b[1;32m      3\u001b[0m \u001b[0;34m\u001b[0m\u001b[0m\n\u001b[0;32m----> 4\u001b[0;31m \u001b[0;32mfrom\u001b[0m \u001b[0mtrajectory_analysis_script\u001b[0m \u001b[0;32mimport\u001b[0m \u001b[0;34m*\u001b[0m\u001b[0;34m\u001b[0m\u001b[0m\n\u001b[0m\u001b[1;32m      5\u001b[0m \u001b[0;34m\u001b[0m\u001b[0m\n\u001b[1;32m      6\u001b[0m \u001b[0;32mfrom\u001b[0m \u001b[0m__future__\u001b[0m \u001b[0;32mimport\u001b[0m \u001b[0mprint_function\u001b[0m\u001b[0;34m\u001b[0m\u001b[0m\n",
      "\u001b[0;32m/Users/baljyot/Desktop/Baljyot_EXP_RPOC/Scripts/trajectory_analysis_script.py\u001b[0m in \u001b[0;36m<module>\u001b[0;34m()\u001b[0m\n\u001b[1;32m    334\u001b[0m \u001b[0;34m\u001b[0m\u001b[0m\n\u001b[1;32m    335\u001b[0m \u001b[0;34m\u001b[0m\u001b[0m\n\u001b[0;32m--> 336\u001b[0;31m \u001b[0;32mclass\u001b[0m \u001b[0mrun_analysis\u001b[0m\u001b[0;34m:\u001b[0m\u001b[0;34m\u001b[0m\u001b[0m\n\u001b[0m\u001b[1;32m    337\u001b[0m \u001b[0;34m\u001b[0m\u001b[0m\n\u001b[1;32m    338\u001b[0m         \u001b[0;32mdef\u001b[0m \u001b[0m__init__\u001b[0m\u001b[0;34m(\u001b[0m\u001b[0mself\u001b[0m\u001b[0;34m,\u001b[0m\u001b[0mwd\u001b[0m\u001b[0;34m,\u001b[0m\u001b[0mt_string\u001b[0m\u001b[0;34m)\u001b[0m\u001b[0;34m:\u001b[0m\u001b[0;34m\u001b[0m\u001b[0m\n",
      "\u001b[0;32m/Users/baljyot/Desktop/Baljyot_EXP_RPOC/Scripts/trajectory_analysis_script.py\u001b[0m in \u001b[0;36mrun_analysis\u001b[0;34m()\u001b[0m\n\u001b[1;32m    368\u001b[0m                 \u001b[0mrun_flow\u001b[0m\u001b[0;34m(\u001b[0m\u001b[0;34m)\u001b[0m\u001b[0;34m\u001b[0m\u001b[0m\n\u001b[1;32m    369\u001b[0m                 \u001b[0;32mreturn\u001b[0m\u001b[0;34m\u001b[0m\u001b[0m\n\u001b[0;32m--> 370\u001b[0;31m         \u001b[0mframes\u001b[0m \u001b[0;34m=\u001b[0m \u001b[0mint\u001b[0m\u001b[0;34m(\u001b[0m\u001b[0mframe_total\u001b[0m\u001b[0;34m/\u001b[0m\u001b[0mframe_step\u001b[0m\u001b[0;34m)\u001b[0m\u001b[0;34m\u001b[0m\u001b[0m\n\u001b[0m\u001b[1;32m    371\u001b[0m         \u001b[0mtmframe_occ\u001b[0m \u001b[0;34m=\u001b[0m \u001b[0;34m[\u001b[0m\u001b[0;34m[\u001b[0m\u001b[0;34m]\u001b[0m \u001b[0;32mfor\u001b[0m \u001b[0mi\u001b[0m \u001b[0;32min\u001b[0m \u001b[0mrange\u001b[0m\u001b[0;34m(\u001b[0m\u001b[0mframes\u001b[0m\u001b[0;34m)\u001b[0m\u001b[0;34m]\u001b[0m \u001b[0;31m#occupation per frame step for all experiments\u001b[0m\u001b[0;34m\u001b[0m\u001b[0m\n\u001b[1;32m    372\u001b[0m \u001b[0;34m\u001b[0m\u001b[0m\n",
      "\u001b[0;31mNameError\u001b[0m: name 'frame_total' is not defined"
     ]
    }
   ],
   "source": [
    "import numpy as np\n",
    "import matplotlib as plt \n",
    "\n",
    "from trajectory_analysis_script import *\n",
    "\n",
    "from __future__ import print_function\n",
    "from ipywidgets import interact, interactive, fixed, interact_manual, FloatSlider, IntSlider\n",
    "import ipywidgets as widgets\n",
    "'''\n",
    "frame_step = 1000 #change manual\n",
    "frame_total = 5000 #change manual\n",
    "#cutoff for track length\n",
    "t_len_l = 10 #change manual #people use 5\n",
    "\n",
    "\n",
    "t_len_u = 100 #change manual #100 #use 20\n",
    "MSD_avg_threshold = 0.001\n",
    "#upper and lower \"bound proportion\" threshold for determining if in_out track or out only.\n",
    "upper_bp = 0.99\n",
    "lower_bp = 0.50\n",
    "max_track_decomp = 1.0\n",
    "frames = int(frame_total/frame_step)\n",
    "conversion_p_nm = 130.\n",
    "minimum_tracks_per_drop = 3\n",
    "'''\n",
    "def define_variables(frame_step,frame_total,t_len_l,t_len_u,MSD_avg_threshold,upper_bp,lower_bp,max_track_decomp,\n",
    "                     conversion_p_nm,minimum_tracks_per_drop):\n",
    "    \n",
    "    frame_step = frame_step #change manual\n",
    "    frame_total = frame_total #change manual\n",
    "    #cutoff for track length\n",
    "    t_len_l = t_len_l #change manual #people use 5\n",
    "    t_len_u = t_len_u #change manual #100 #use 20\n",
    "    MSD_avg_threshold = MSD_avg_threshold\n",
    "    #upper and lower \"bound proportion\" threshold for determining if in_out track or out only.\n",
    "    upper_bp = upper_bp\n",
    "    lower_bp = lower_bp\n",
    "    max_track_decomp = max_track_decomp\n",
    "    conversion_p_nm = conversion_p_nm\n",
    "    minimum_tracks_per_drop = minimum_tracks_per_drop\n",
    "    return\n",
    "\n",
    "#first rpoc\n",
    "rpoc_1 = run_analysis(\"/Users/baljyot/Desktop/Baljyot_EXP_RPOC/DATA\",\"RPOC\")\n",
    "print(rpoc_1.frames)\n",
    "#rpoc_1.read_parameters\n",
    "interact_manual(rpoc_1.read_parameters,frame_step = FloatSlider(min=100,max=1000,step=100,value=1000),\n",
    "                frame_total = FloatSlider(min=0,max=5000,step=1000,value=5000),\n",
    "                t_len_l = FloatSlider(min=1,max=50,step=1,value=10),\n",
    "                t_len_u = FloatSlider(min=20,max=100,step=10,value=20),\n",
    "                MSD_avg_threshold = 0.001,\n",
    "                upper_bp = FloatSlider(min=0,max=1,step=0.05,value=0.95),\n",
    "                lower_bp = FloatSlider(min=0,max=1,step=0.05,value=0.50),\n",
    "                max_track_decomp = 1.0, \n",
    "                conversion_p_nm = 130,\n",
    "                minimum_tracks_per_drop = FloatSlider(min=0,max=10,step=1,value=3))\n"
   ]
  },
  {
   "cell_type": "code",
   "execution_count": null,
   "metadata": {
    "collapsed": false
   },
   "outputs": [],
   "source": [
    "print(rpoc_1.wd)"
   ]
  },
  {
   "cell_type": "code",
   "execution_count": null,
   "metadata": {
    "collapsed": true
   },
   "outputs": [],
   "source": []
  }
 ],
 "metadata": {
  "kernelspec": {
   "display_name": "Python 2",
   "language": "python",
   "name": "python2"
  },
  "language_info": {
   "codemirror_mode": {
    "name": "ipython",
    "version": 2
   },
   "file_extension": ".py",
   "mimetype": "text/x-python",
   "name": "python",
   "nbconvert_exporter": "python",
   "pygments_lexer": "ipython2",
   "version": "2.7.3"
  }
 },
 "nbformat": 4,
 "nbformat_minor": 0
}
