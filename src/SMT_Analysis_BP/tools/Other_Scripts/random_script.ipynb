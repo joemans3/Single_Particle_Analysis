{
 "cells": [
  {
   "cell_type": "code",
   "execution_count": 1,
   "metadata": {},
   "outputs": [
    {
     "name": "stderr",
     "output_type": "stream",
     "text": [
      "/var/folders/_t/qlzp5l894v16vmr8m_81x5x80000gn/T/ipykernel_2007/4029924809.py:16: DeprecationWarning: `set_matplotlib_formats` is deprecated since IPython 7.23, directly use `matplotlib_inline.backend_inline.set_matplotlib_formats()`\n",
      "  set_matplotlib_formats('svg')\n"
     ]
    }
   ],
   "source": [
    "if __name__==\"__main__\":\n",
    "\timport sys\n",
    "\tsys.path.append('/Users/baljyot/Documents/CODE/GitHub_t2/Baljyot_EXP_RPOC/Scripts')\n",
    "\n",
    "from src.SMT_Analysis_BP.databases.trajectory_analysis_script import *\n",
    "import os\n",
    "import numpy as np\n",
    "from src.SMT_Analysis_BP.helpers.MSD_Utils import *\n",
    "from src.SMT_Analysis_BP.helpers.plotting_functions import *\n",
    "from src.SMT_Analysis_BP.helpers.import_functions import *\n",
    "from src.SMT_Analysis_BP.helpers.Analysis_functions import *\n",
    "from src.SMT_Analysis_BP.helpers.diff_mw import *\n",
    "from src.SMT_Analysis_BP.Random.scalebars import *\n",
    "%matplotlib inline\n",
    "from IPython.display import set_matplotlib_formats\n",
    "set_matplotlib_formats('svg')  \n",
    "from src.SMT_Analysis_BP.helpers.guassian_fit import gaussian2D_residual,SM_localization_movie\n",
    "from src.SMT_Analysis_BP.Parameter_Store.global_params import *\n",
    "from src.SMT_Analysis_BP.databases.data_path_container import rpoc\n",
    "from skimage.io import imread,imsave"
   ]
  },
  {
   "cell_type": "code",
   "execution_count": 3,
   "metadata": {},
   "outputs": [
    {
     "name": "stdout",
     "output_type": "stream",
     "text": [
      "Found 3 movies\n",
      "Saving ll_ez_fixed_17.tif\n"
     ]
    },
    {
     "name": "stderr",
     "output_type": "stream",
     "text": [
      "/var/folders/_t/qlzp5l894v16vmr8m_81x5x80000gn/T/ipykernel_2007/2892544802.py:20: UserWarning: /Volumes/Baljyot_HD/20231012/ll_ez_fixed/gfp_mask/ll_ez_fixed_17.tif is a low contrast image\n",
      "  imsave(os.path.join(mask_path,movie_name),movie)\n"
     ]
    },
    {
     "name": "stdout",
     "output_type": "stream",
     "text": [
      "Saving ll_ez_fixed_2.tif\n"
     ]
    },
    {
     "name": "stderr",
     "output_type": "stream",
     "text": [
      "/var/folders/_t/qlzp5l894v16vmr8m_81x5x80000gn/T/ipykernel_2007/2892544802.py:20: UserWarning: /Volumes/Baljyot_HD/20231012/ll_ez_fixed/gfp_mask/ll_ez_fixed_2.tif is a low contrast image\n",
      "  imsave(os.path.join(mask_path,movie_name),movie)\n"
     ]
    },
    {
     "name": "stdout",
     "output_type": "stream",
     "text": [
      "Saving ll_ez_fixed_7.tif\n"
     ]
    },
    {
     "name": "stderr",
     "output_type": "stream",
     "text": [
      "/var/folders/_t/qlzp5l894v16vmr8m_81x5x80000gn/T/ipykernel_2007/2892544802.py:20: UserWarning: /Volumes/Baljyot_HD/20231012/ll_ez_fixed/gfp_mask/ll_ez_fixed_7.tif is a low contrast image\n",
      "  imsave(os.path.join(mask_path,movie_name),movie)\n"
     ]
    }
   ],
   "source": [
    "movie_path = \"/Volumes/Baljyot_HD/20231012/ll_ez_fixed/Movie\"\n",
    "#find all .tif files in the movie path\n",
    "movies = glob.glob(movie_path+\"/*.tif\")\n",
    "print(\"Found {} movies\".format(len(movies)))\n",
    "\n",
    "#make a new directory in the parent directory of the movie path called gfp_mask\n",
    "mask_path = os.path.join(os.path.dirname(movie_path),\"gfp_mask\")\n",
    "if not os.path.exists(mask_path):\n",
    "    os.mkdir(mask_path)\n",
    "\n",
    "#get the middle frame from each movie and save that as a .tif file in the mask_path with the same name\n",
    "for movie in movies:\n",
    "    movie_name = os.path.basename(movie)\n",
    "    movie_name = movie_name.split(\".tif\")[0]\n",
    "    movie_name = movie_name + \".tif\"\n",
    "    movie = imread(movie)\n",
    "    movie = movie[1,:,:]\n",
    "    movie = movie.astype(np.uint16)\n",
    "    print(\"Saving {}\".format(movie_name))\n",
    "    imsave(os.path.join(mask_path,movie_name),movie)\n"
   ]
  },
  {
   "cell_type": "code",
   "execution_count": null,
   "metadata": {},
   "outputs": [],
   "source": []
  },
  {
   "cell_type": "code",
   "execution_count": null,
   "metadata": {},
   "outputs": [],
   "source": []
  }
 ],
 "metadata": {
  "kernelspec": {
   "display_name": "SMT_env_BP",
   "language": "python",
   "name": "python3"
  },
  "language_info": {
   "codemirror_mode": {
    "name": "ipython",
    "version": 3
   },
   "file_extension": ".py",
   "mimetype": "text/x-python",
   "name": "python",
   "nbconvert_exporter": "python",
   "pygments_lexer": "ipython3",
   "version": "3.10.12"
  }
 },
 "nbformat": 4,
 "nbformat_minor": 2
}
