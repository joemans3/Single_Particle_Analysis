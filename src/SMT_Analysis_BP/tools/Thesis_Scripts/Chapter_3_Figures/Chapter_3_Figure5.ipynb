{
 "cells": [
  {
   "cell_type": "code",
   "execution_count": 1,
   "metadata": {},
   "outputs": [],
   "source": [
    "if __name__==\"__main__\":\n",
    "\timport sys\n",
    "\tsys.path.append('/Users/baljyot/Documents/CODE/GitHub_t2/Baljyot_EXP_RPOC/Scripts')"
   ]
  },
  {
   "cell_type": "code",
   "execution_count": 2,
   "metadata": {},
   "outputs": [],
   "source": [
    "import numpy as np\n",
    "import os\n",
    "import scipy.stats as stats\n",
    "import matplotlib.pyplot as plt\n",
    "import tifffile as tiff\n",
    "from src.SMT_Analysis_BP.helpers.Analysis_functions import *\n",
    "from src.SMT_Analysis_BP.helpers.blob_detection import *\n",
    "from skimage import io\n",
    "#import curve_fit \n",
    "from scipy.optimize import curve_fit\n",
    "import src.SMT_Analysis_BP.helpers.fbm_utility as fbm_utility\n",
    "import src.SMT_Analysis_BP.helpers.simulate_foci as simulate_foci\n",
    "import src.SMT_Analysis_BP.helpers.simulate_cells as simulate_cells\n",
    "import src.SMT_Analysis_BP.helpers.SMT_converters as smt\n",
    "import src.SMT_Analysis_BP.helpers.smallestenclosingcircle as smallestenclosingcircle\n",
    "#import convexhull\n",
    "from scipy.spatial import ConvexHull\n",
    "from sklearn.cluster import DBSCAN\n",
    "import pickle"
   ]
  },
  {
   "cell_type": "code",
   "execution_count": 3,
   "metadata": {},
   "outputs": [],
   "source": [
    "SAVE = False"
   ]
  },
  {
   "cell_type": "code",
   "execution_count": 4,
   "metadata": {},
   "outputs": [],
   "source": [
    "initial_dict = {\n",
    "    \"initial_centers\":np.array([[100,95],[90,95],[110,95]]),\n",
    "    \"initial_scale\": np.array([2.,2.,2.]),\n",
    "    \"diffusion_coefficient\": np.array([10,10,10]),\n",
    "    \"hurst_exponent\": np.array([0.5,0.5,0.5])  \n",
    "}\n",
    "cell_parms = {\n",
    "    \"diffusion_coefficients\":np.array(list(0.45*np.ones(1000))),\n",
    "    \"initials\": initial_dict,\n",
    "    \"num_tracks\":1000,\n",
    "    \"track_type\":\"fbm\",\n",
    "    \"hursts\":np.array(list(0.2*np.ones(1000))),\n",
    "    \"dims\":(200,200),\n",
    "    \"movie_frames\":500,\n",
    "    \"cell_space\":np.array([80,120,90,102])\n",
    "}     \n",
    "global_sim_params = {\n",
    "    \"track_length_mean\":1,\n",
    "    \"track_distribution\":\"constant\",\n",
    "    \"exposure_time\":20,#ms same as frame_time\n",
    "    \"base_noise\":140,\n",
    "    \"point_intensity\":20,\n",
    "    \"psf_sigma\":1.,\n",
    "    \"frame_time\":20,#ms\n",
    "    \"pixel_size\":130,\n",
    "    \"axial_function\":\"exponential\",\n",
    "    \"density_dif\": 10\n",
    "}"
   ]
  },
  {
   "cell_type": "code",
   "execution_count": 4,
   "metadata": {},
   "outputs": [],
   "source": [
    "#utility function to create the parameter dics\n",
    "\n",
    "def utility_params(initial_dict,num_tracks,mean_track_length,density_dif,track_distribution,psf):\n",
    "    initial_dict = initial_dict\n",
    "    cell_parms = {\n",
    "        \"diffusion_coefficients\":np.array(list(0.45*np.ones(num_tracks))),\n",
    "        \"initials\": initial_dict,\n",
    "        \"num_tracks\":num_tracks,\n",
    "        \"track_type\":\"constant\",\n",
    "        \"hursts\":np.array(list(0.2*np.ones(num_tracks))),\n",
    "        \"dims\":(200,200),\n",
    "        \"movie_frames\":500,\n",
    "        \"cell_space\":np.array([80,120,90,105])\n",
    "    }     \n",
    "    global_sim_params = {\n",
    "        \"track_length_mean\":mean_track_length,\n",
    "        \"track_distribution\":track_distribution,\n",
    "        \"exposure_time\":20,#ms same as frame_time\n",
    "        \"base_noise\":140,\n",
    "        \"point_intensity\":20,\n",
    "        \"psf_sigma\":psf,\n",
    "        \"frame_time\":20,#ms\n",
    "        \"pixel_size\":130,\n",
    "        \"axial_function\":\"exponential\",\n",
    "        \"density_dif\": density_dif\n",
    "    }\n",
    "    return initial_dict,cell_parms,global_sim_params\n",
    "#lets make a utility function to perform the scale-space\n",
    "def scale_utility(img_map,threshold):\n",
    "    b = blob_detection(path = img_map,\\\n",
    "                    median= False,\\\n",
    "                    threshold= threshold, \\\n",
    "                    min_sigma= 1/np.sqrt(2), \\\n",
    "                    max_sigma = 10/np.sqrt(2), \\\n",
    "                    num_sigma= 500, \\\n",
    "                    overlap = 0.5, \\\n",
    "                    logscale=False,\n",
    "                    verbose=True)\n",
    "    b._update_fitting_parameters(kwargs={\"mask_size\":5,\n",
    "                                \"plot_fit\":False,\n",
    "                                \"fitting_image\":\"Original\",\n",
    "                                \"radius_func\":None,\n",
    "                                \"sigma_range\":2,\n",
    "                                \"centroid_range\":2})\n",
    "    c = b.detection(type = \"bp\")\n",
    "    return c\n",
    "\n",
    "#define a utility function to detect the true positives and the error in the centers and scale\n",
    "def true_positive_and_erros(true_clusters,found_clusters,center_threshold=0.5):\n",
    "    '''true clusters is the initial_dict, the found is the scale space output from the blob detection'''\n",
    "    #get the true centers and scale\n",
    "    true_centers = true_clusters[\"initial_centers\"]\n",
    "    true_scale = true_clusters[\"initial_scale\"]\n",
    "    #get the found centers and scale\n",
    "    found_centers = np.array([found_clusters[\"Fitted\"][i][:2] for i in range(len(found_clusters[\"Fitted\"]))])\n",
    "\n",
    "    found_scale = np.array([np.mean([found_clusters[\"Fitted\"][i][2],found_clusters[\"Fitted\"][i][3]]) for i in range(len(found_clusters[\"Fitted\"]))])\n",
    "    #get the true positives\n",
    "    true_center_TP_center_error = np.ones(len(true_centers))*np.nan\n",
    "    true_center_TP_scale_error = np.ones(len(true_centers))*np.nan\n",
    "    for i in range(len(true_centers)):\n",
    "        for j in range(len(found_centers)):\n",
    "            if np.linalg.norm(true_centers[i]-found_centers[j][::-1])<center_threshold:\n",
    "                if true_center_TP_center_error[i] > np.linalg.norm(true_centers[i]-found_centers[j][::-1]) or np.isnan(true_center_TP_center_error[i]):\n",
    "                    true_center_TP_center_error[i] = np.linalg.norm(true_centers[i]-found_centers[j][::-1])\n",
    "                    true_center_TP_scale_error[i] = np.abs(true_scale[i]-found_scale[j])/true_scale[i]\n",
    "\n",
    "    #get the false positives\n",
    "    #this is just the total number of found centers minus the true positives (len of the true_center_TP_center_error without the nans)\n",
    "    false_positives = len(found_centers)-len(true_center_TP_center_error[~np.isnan(true_center_TP_center_error)])\n",
    "    #get the true positives\n",
    "    true_positive_num = len(true_center_TP_center_error[~np.isnan(true_center_TP_center_error)])\n",
    "\n",
    "    \n",
    "    return true_positive_num,false_positives,true_center_TP_center_error,true_center_TP_scale_error\n",
    "\n",
    "#lets make a utility function to create all points in the cell using the points per frame dict\n",
    "def create_all_points(points_per_frame_dict):\n",
    "    all_points = []\n",
    "    for frame in points_per_frame_dict.keys():\n",
    "        #only take the x,y coordinates\n",
    "        if len(points_per_frame_dict[frame])>0:\n",
    "            all_points.extend(np.array(points_per_frame_dict[frame])[:,0:2])\n",
    "    return np.array(all_points)\n",
    "\n",
    "#lets make a utility function to perform DBSCAN on the points per frame dict using supplied parameters D and minPts.\n",
    "def perform_DBSCAN(points_per_frame_dict,D,minPts,convert=False):\n",
    "    if convert == True:\n",
    "        all_points = create_all_points(points_per_frame_dict)\n",
    "    else:\n",
    "        all_points = points_per_frame_dict\n",
    "    db = DBSCAN(eps=D, min_samples=minPts).fit(all_points)\n",
    "    labels = db.labels_\n",
    "    return labels\n",
    "\n",
    "#make a utility function for DBSCAN TP and FP and center and scale errors\n",
    "def DBSCAN_TP_FP_center_scale_error(ID_dict,points_per_frame,D,minPts,convert=False,threshold=1.):\n",
    "    #convert the points_perf_frame dict to a list of points\n",
    "    if convert == True:\n",
    "        all_points = create_all_points(points_per_frame)\n",
    "    else:\n",
    "        all_points = points_per_frame\n",
    "    #perform DBSCAN\n",
    "    labels = perform_DBSCAN(all_points,D,minPts,convert=False)\n",
    "    #number of clusters\n",
    "    num_clusters = len(np.unique(labels))-1\n",
    "\n",
    "    cluster_scales = []\n",
    "    cluster_centers = []\n",
    "    for cluster in np.unique(labels):\n",
    "        if cluster != -1:\n",
    "            circle_made = smallestenclosingcircle.make_circle(points_per_frame[labels==cluster])\n",
    "            cluster_scales.append(circle_made[2])\n",
    "            cluster_centers.append(circle_made[0:2])\n",
    "    cluster_scales = np.array(cluster_scales)\n",
    "    cluster_centers = np.array(cluster_centers)\n",
    "    #lets get the true positives and errors\n",
    "    #find the true centers and scales\n",
    "    true_centers = np.array(ID_dict[\"initial_centers\"])\n",
    "    true_scale = np.array(ID_dict[\"initial_scale\"])\n",
    "    true_center_TP_center_error = np.ones(len(true_centers))*np.nan\n",
    "    true_center_TP_scale_error = np.ones(len(true_centers))*np.nan\n",
    "\n",
    "    if num_clusters > 0:\n",
    "        for l in range(len(true_centers)):\n",
    "            for m in range(len(cluster_centers)):\n",
    "                if np.linalg.norm(true_centers[l]-cluster_centers[m])<threshold:\n",
    "                    if true_center_TP_center_error[l] > np.linalg.norm(true_centers[l]-cluster_centers[m]) or np.isnan(true_center_TP_center_error[l]):\n",
    "                        true_center_TP_center_error[l] = np.linalg.norm(true_centers[l]-cluster_centers[m])\n",
    "                        true_center_TP_scale_error[l] = np.abs(true_scale[l]-cluster_scales[m])/true_scale[l]\n",
    "    false_positives = len(cluster_centers)-len(true_center_TP_center_error[~np.isnan(true_center_TP_center_error)])\n",
    "    #get the true positives\n",
    "    true_positive_num = len(true_center_TP_center_error[~np.isnan(true_center_TP_center_error)])\n",
    "    return true_positive_num,false_positives,true_center_TP_center_error,true_center_TP_scale_error\n",
    "\n",
    "#make a utility function to perfrom the sim for the different threshold changes, track lengths and density dif\n",
    "def perform_sim_for_diff_thresholds(track_lengths,density_dif,threshold_changes,repeats,initial_dict_used,D_DBSCAN,minPts_DBSCAN):\n",
    "    #make the collection of TP and FP and center and scale errors\n",
    "    TP_collection_DB = np.zeros((len(track_lengths),len(density_dif),repeats))\n",
    "    FP_collection_DB = np.zeros((len(track_lengths),len(density_dif),repeats))\n",
    "    center_error_collection_DB = np.zeros((len(track_lengths),len(density_dif),repeats,len(initial_dict_used[\"initial_centers\"])))\n",
    "    scale_error_collection_DB = np.zeros((len(track_lengths),len(density_dif),repeats,len(initial_dict_used[\"initial_centers\"])))\n",
    "\n",
    "    #lets contain the points per frame dict\n",
    "    points_per_frame_collection = []\n",
    "    #TP for the scale selection\n",
    "    TP_collection_scale = np.zeros((len(track_lengths),len(density_dif),len(threshold_changes),repeats))\n",
    "    FP_collection_scale = np.zeros((len(track_lengths),len(density_dif),len(threshold_changes),repeats))\n",
    "    center_error_collection_scale = np.zeros((len(track_lengths),len(density_dif),len(threshold_changes),repeats,len(initial_dict_used[\"initial_centers\"])))\n",
    "    scale_error_collection_scale = np.zeros((len(track_lengths),len(density_dif),len(threshold_changes),repeats,len(initial_dict_used[\"initial_centers\"])))\n",
    "    #lets contain the summed sim maps\n",
    "    map_collection = np.zeros((len(track_lengths),len(density_dif),len(threshold_changes),repeats,200,200))\n",
    "\n",
    "    for i in range(len(track_lengths)):\n",
    "        for j in range(len(density_dif)):\n",
    "            for k in range(repeats):\n",
    "                #okay lets make the initial dict\n",
    "                ID_sim, cell_parms_sim, global_sim_params_sim = utility_params(initial_dict_used,track_lengths[i],1,density_dif[j],\"constant\",1.)\n",
    "                #lets simulate the data\n",
    "                cell_sim = simulate_cells.Simulate_cells(cell_parms_sim,global_sim_params_sim)\n",
    "                a_sim = cell_sim.get_cell()\n",
    "                \n",
    "                #store the points per frame dict\n",
    "                points_per_frame_collection.append(a_sim[\"points_per_frame\"])\n",
    "                #store the summed map\n",
    "                map_collection[i,j,k,:,:] = np.sum(a_sim[\"map\"],axis=0)\n",
    "\n",
    "                #lets get the points per frame dict\n",
    "                points_per_frame_dict = create_all_points(a_sim[\"points_per_frame\"])\n",
    "                #lets perform DBSCAN using the utility function\n",
    "                DBSCAN_TP,DBSCAN_FP,DBSCAN_center_error,DBSCAN_scale_error = DBSCAN_TP_FP_center_scale_error(ID_sim,points_per_frame_dict,D_DBSCAN,minPts_DBSCAN,convert=False)\n",
    "                #lets update the collection\n",
    "                TP_collection_DB[i,j,k] = DBSCAN_TP\n",
    "                FP_collection_DB[i,j,k] = DBSCAN_FP\n",
    "                center_error_collection_DB[i,j,k,:] = DBSCAN_center_error\n",
    "                scale_error_collection_DB[i,j,k,:] = DBSCAN_scale_error\n",
    "\n",
    "                #lets perform scale selection on the simulated data\n",
    "                for l in range(len(threshold_changes)):\n",
    "                    c_sim_LD = scale_utility(img_map = np.sum(a_sim[\"map\"],axis=0),threshold = threshold_changes[l])\n",
    "                    #lets get the true positives and errors\n",
    "                    true_positive_num,false_positives,true_center_TP_center_error,true_center_TP_scale_error = true_positive_and_erros(ID_sim,c_sim_LD,center_threshold=1)\n",
    "                    #lets update the collection\n",
    "                    TP_collection_scale[i,j,l,k] = true_positive_num\n",
    "                    FP_collection_scale[i,j,l,k] = false_positives\n",
    "                    center_error_collection_scale[i,j,l,k,:] = true_center_TP_center_error\n",
    "                    scale_error_collection_scale[i,j,l,k,:] = true_center_TP_scale_error\n",
    "                #print updates\n",
    "                print(\"Completed: \",i+1,\"/\",len(track_lengths),\" \",j+1,\"/\",len(density_dif),\" \",k+1,\"/\",repeats)\n",
    "    #make a collection of the TP and FP and center and scale errors for DBSCAN and scale selection\n",
    "    DBSCAN_collection = [TP_collection_DB,FP_collection_DB,center_error_collection_DB,scale_error_collection_DB]\n",
    "    scale_collection = [TP_collection_scale,FP_collection_scale,center_error_collection_scale,scale_error_collection_scale]\n",
    "    return DBSCAN_collection,scale_collection,map_collection,points_per_frame_collection\n",
    " \n",
    "#make a utility function to perfrom the sim for the different threshold changes, track lengths and density dif\n",
    "def perform_sim_for_diff_thresholds_plus_sim_cells(track_lengths,density_dif,threshold_changes,repeats,initial_dict_used,D_DBSCAN,minPts_DBSCAN):\n",
    "    #make the collection of TP and FP and center and scale errors\n",
    "    TP_collection_DB = np.zeros((len(track_lengths),len(density_dif),repeats))\n",
    "    FP_collection_DB = np.zeros((len(track_lengths),len(density_dif),repeats))\n",
    "    center_error_collection_DB = np.zeros((len(track_lengths),len(density_dif),repeats,len(initial_dict_used[\"initial_centers\"])))\n",
    "    scale_error_collection_DB = np.zeros((len(track_lengths),len(density_dif),repeats,len(initial_dict_used[\"initial_centers\"])))\n",
    "\n",
    "    #lets contain the points per frame dict\n",
    "    points_per_frame_collection = []\n",
    "    #TP for the scale selection\n",
    "    TP_collection_scale = np.zeros((len(track_lengths),len(density_dif),len(threshold_changes),repeats))\n",
    "    FP_collection_scale = np.zeros((len(track_lengths),len(density_dif),len(threshold_changes),repeats))\n",
    "    center_error_collection_scale = np.zeros((len(track_lengths),len(density_dif),len(threshold_changes),repeats,len(initial_dict_used[\"initial_centers\"])))\n",
    "    scale_error_collection_scale = np.zeros((len(track_lengths),len(density_dif),len(threshold_changes),repeats,len(initial_dict_used[\"initial_centers\"])))\n",
    "    #lets contain the summed sim maps\n",
    "    map_collection = np.zeros((len(track_lengths),len(density_dif),repeats,200,200))\n",
    "\n",
    "    for i in range(len(track_lengths)):\n",
    "        for j in range(len(density_dif)):\n",
    "            for k in range(repeats):\n",
    "                #okay lets make the initial dict\n",
    "                ID_sim, cell_parms_sim, global_sim_params_sim = utility_params(initial_dict_used,track_lengths[i],1,density_dif[j],\"constant\",1.)\n",
    "                #lets simulate the data\n",
    "                cell_sim = simulate_cells.Simulate_cells(cell_parms_sim,global_sim_params_sim)\n",
    "                a_sim = cell_sim.get_cell()\n",
    "                \n",
    "                #store the points per frame dict\n",
    "                points_per_frame_collection.append(a_sim[\"points_per_frame\"])\n",
    "                #store the summed map\n",
    "                map_collection[i,j,k] = np.sum(a_sim[\"map\"],axis=0)\n",
    "\n",
    "                #lets get the points per frame dict\n",
    "                points_per_frame_dict = create_all_points(a_sim[\"points_per_frame\"])\n",
    "                #lets perform DBSCAN using the utility function\n",
    "                DBSCAN_TP,DBSCAN_FP,DBSCAN_center_error,DBSCAN_scale_error = DBSCAN_TP_FP_center_scale_error(ID_sim,points_per_frame_dict,D_DBSCAN,minPts_DBSCAN,convert=False)\n",
    "                #lets update the collection\n",
    "                TP_collection_DB[i,j,k] = DBSCAN_TP\n",
    "                FP_collection_DB[i,j,k] = DBSCAN_FP\n",
    "                center_error_collection_DB[i,j,k] = DBSCAN_center_error\n",
    "                scale_error_collection_DB[i,j,k] = DBSCAN_scale_error\n",
    "\n",
    "                #lets perform scale selection on the simulated data\n",
    "                for l in range(len(threshold_changes)):\n",
    "                    c_sim_LD = scale_utility(img_map = np.sum(a_sim[\"map\"],axis=0),threshold = threshold_changes[l])\n",
    "                    #lets get the true positives and errors\n",
    "                    true_positive_num,false_positives,true_center_TP_center_error,true_center_TP_scale_error = true_positive_and_erros(ID_sim,c_sim_LD,center_threshold=1)\n",
    "                    #lets update the collection\n",
    "                    TP_collection_scale[i,j,l,k] = true_positive_num\n",
    "                    FP_collection_scale[i,j,l,k] = false_positives\n",
    "                    center_error_collection_scale[i,j,l,k] = true_center_TP_center_error\n",
    "                    scale_error_collection_scale[i,j,l,k] = true_center_TP_scale_error\n",
    "                #print updates\n",
    "                print(\"Completed: \",i+1,\"/\",len(track_lengths),\" \",j+1,\"/\",len(density_dif),\" \",k+1,\"/\",repeats)\n",
    "    #make a collection of the TP and FP and center and scale errors for DBSCAN and scale selection\n",
    "    DBSCAN_collection = [TP_collection_DB,FP_collection_DB,center_error_collection_DB,scale_error_collection_DB]\n",
    "    scale_collection = [TP_collection_scale,FP_collection_scale,center_error_collection_scale,scale_error_collection_scale]\n",
    "    return DBSCAN_collection,scale_collection,map_collection,points_per_frame_collection\n",
    "\n",
    "#utility function to make the initial dicts for various sizes\n",
    "def utility_condensate_size_initial_dict(sizes,diffusion_coefficient,hurst_exponent):\n",
    "    initial_dict_collection = []\n",
    "    for i in range(len(sizes)):\n",
    "        initial_dict = {\n",
    "        \"initial_centers\":np.array([[100,95]]),\n",
    "        \"initial_scale\": np.array([sizes[i]]),\n",
    "        \"diffusion_coefficient\": np.array([diffusion_coefficient]),\n",
    "        \"hurst_exponent\": np.array([hurst_exponent])  \n",
    "        }\n",
    "        initial_dict_collection.append(initial_dict)\n",
    "    return initial_dict_collection"
   ]
  },
  {
   "cell_type": "code",
   "execution_count": null,
   "metadata": {},
   "outputs": [],
   "source": [
    "#lets perform a simple simulation for the condensate movement with 3 diffusion coefficients (0.01, 0.1, 1.0)\n",
    "\n",
    "initial_dict_001 = {\n",
    "    \"initial_centers\":np.array([[100,95],[90,95],[110,95]]),\n",
    "    \"initial_scale\": np.array([2.,2.,2.]),\n",
    "    \"diffusion_coefficient\": np.array([0.01,0.01,0.01]),\n",
    "    \"hurst_exponent\": np.array([0.5,0.5,0.5])  \n",
    "}\n",
    "\n",
    "initial_dict_01 = {\n",
    "    \"initial_centers\":np.array([[100,95],[90,95],[110,95]]),\n",
    "    \"initial_scale\": np.array([2.,2.,2.]),\n",
    "    \"diffusion_coefficient\": np.array([0.1,0.1,0.1]),\n",
    "    \"hurst_exponent\": np.array([0.5,0.5,0.5])\n",
    "}\n",
    "\n",
    "initial_dict_1 = {\n",
    "    \"initial_centers\":np.array([[100,95],[90,95],[110,95]]),\n",
    "    \"initial_scale\": np.array([2.,2.,2.]),\n",
    "    \"diffusion_coefficient\": np.array([1.,1.,1.]),\n",
    "    \"hurst_exponent\": np.array([0.5,0.5,0.5])\n",
    "}\n",
    "\n",
    "sim_001_initial_dict, sim_001_cell_params, sim_001_global_params = utility_params(initial_dict_001,1000,1,5,'constant',1)\n",
    "sim_01_initial_dict, sim_01_cell_params, sim_01_global_params = utility_params(initial_dict_01,1000,1,5,'constant',1)\n",
    "sim_1_initial_dict, sim_1_cell_params, sim_1_global_params = utility_params(initial_dict_1,1000,1,5,'constant',1)\n",
    "\n",
    "# track_lengths = [400,600,800,1000,1200]\n",
    "track_lengths = [1000]\n",
    "density_dif = [5]\n",
    "repeats = 1\n",
    "threshold_range = [1e3]\n",
    "D_DBSCAN = 0.5\n",
    "minP_DBSCAN = 5\n",
    "\n"
   ]
  },
  {
   "cell_type": "code",
   "execution_count": null,
   "metadata": {},
   "outputs": [],
   "source": [
    "#perfrom the simulation\n",
    "DBSCAN_collection_001,scale_collection_001,map_collection_001,points_per_frame_collection_001,sim_cell_collection_001 = perform_sim_for_diff_thresholds_plus_sim_cells(\n",
    "    track_lengths=track_lengths,\n",
    "    density_dif=density_dif,\n",
    "    threshold_changes=threshold_range,\n",
    "    repeats=repeats,\n",
    "    initial_dict_used=sim_001_initial_dict,\n",
    "    D_DBSCAN=D_DBSCAN,\n",
    "    minPts_DBSCAN=minP_DBSCAN)"
   ]
  },
  {
   "cell_type": "code",
   "execution_count": null,
   "metadata": {},
   "outputs": [],
   "source": [
    "#for the 01 case\n",
    "DBSCAN_collection_01,scale_collection_01,map_collection_01,points_per_frame_collection_01,sim_cell_collection_01 = perform_sim_for_diff_thresholds_plus_sim_cells(\n",
    "    track_lengths=track_lengths,\n",
    "    density_dif=density_dif,\n",
    "    threshold_changes=threshold_range,\n",
    "    repeats=repeats,\n",
    "    initial_dict_used=sim_01_initial_dict,\n",
    "    D_DBSCAN=D_DBSCAN,\n",
    "    minPts_DBSCAN=minP_DBSCAN)"
   ]
  },
  {
   "cell_type": "code",
   "execution_count": null,
   "metadata": {},
   "outputs": [],
   "source": [
    "#for the 1 case\n",
    "DBSCAN_collection_1,scale_collection_1,map_collection_1,points_per_frame_collection_1,sim_cell_collection_1 = perform_sim_for_diff_thresholds_plus_sim_cells(\n",
    "    track_lengths=track_lengths,\n",
    "    density_dif=density_dif,\n",
    "    threshold_changes=threshold_range,\n",
    "    repeats=repeats,\n",
    "    initial_dict_used=sim_1_initial_dict,\n",
    "    D_DBSCAN=D_DBSCAN,\n",
    "    minPts_DBSCAN=minP_DBSCAN)"
   ]
  },
  {
   "cell_type": "code",
   "execution_count": null,
   "metadata": {},
   "outputs": [],
   "source": [
    "plt.imshow(map_collection_01[0][0][0], cmap='gray')\n",
    "plt.show()\n",
    "scale_collection_01"
   ]
  },
  {
   "cell_type": "code",
   "execution_count": 6,
   "metadata": {},
   "outputs": [
    {
     "name": "stdout",
     "output_type": "stream",
     "text": [
      "Metal device set to: Apple M2\n",
      "\n",
      "systemMemory: 16.00 GB\n",
      "maxCacheSize: 5.33 GB\n",
      "\n"
     ]
    },
    {
     "name": "stderr",
     "output_type": "stream",
     "text": [
      "2023-08-01 19:29:18.885379: I tensorflow/core/common_runtime/pluggable_device/pluggable_device_factory.cc:306] Could not identify NUMA node of platform GPU ID 0, defaulting to 0. Your kernel may not have been built with NUMA support.\n",
      "2023-08-01 19:29:18.885529: I tensorflow/core/common_runtime/pluggable_device/pluggable_device_factory.cc:272] Created TensorFlow device (/job:localhost/replica:0/task:0/device:GPU:0 with 0 MB memory) -> physical PluggableDevice (device: 0, name: METAL, pci bus id: <undefined>)\n"
     ]
    },
    {
     "name": "stdout",
     "output_type": "stream",
     "text": [
      "Completed:  1 / 3   1 / 1   1 / 10\n",
      "Completed:  1 / 3   1 / 1   2 / 10\n",
      "Completed:  1 / 3   1 / 1   3 / 10\n",
      "Completed:  1 / 3   1 / 1   4 / 10\n",
      "Completed:  1 / 3   1 / 1   5 / 10\n"
     ]
    },
    {
     "name": "stderr",
     "output_type": "stream",
     "text": [
      "/Users/baljyot/opt/anaconda3/envs/py310/lib/python3.10/site-packages/lmfit/minimizer.py:847: RuntimeWarning: invalid value encountered in sqrt\n",
      "  par.stderr = np.sqrt(self.result.covar[ivar, ivar])\n",
      "/Users/baljyot/opt/anaconda3/envs/py310/lib/python3.10/site-packages/lmfit/minimizer.py:854: RuntimeWarning: invalid value encountered in sqrt\n",
      "  (par.stderr * np.sqrt(self.result.covar[jvar, jvar])))\n"
     ]
    },
    {
     "name": "stdout",
     "output_type": "stream",
     "text": [
      "Completed:  1 / 3   1 / 1   6 / 10\n",
      "Completed:  1 / 3   1 / 1   7 / 10\n",
      "Completed:  1 / 3   1 / 1   8 / 10\n",
      "Completed:  1 / 3   1 / 1   9 / 10\n",
      "Completed:  1 / 3   1 / 1   10 / 10\n",
      "Completed:  2 / 3   1 / 1   1 / 10\n",
      "Completed:  2 / 3   1 / 1   2 / 10\n",
      "Completed:  2 / 3   1 / 1   3 / 10\n",
      "Completed:  2 / 3   1 / 1   4 / 10\n",
      "Completed:  2 / 3   1 / 1   5 / 10\n",
      "Completed:  2 / 3   1 / 1   6 / 10\n",
      "Completed:  2 / 3   1 / 1   7 / 10\n",
      "Completed:  2 / 3   1 / 1   8 / 10\n",
      "Completed:  2 / 3   1 / 1   9 / 10\n",
      "Completed:  2 / 3   1 / 1   10 / 10\n",
      "Completed:  3 / 3   1 / 1   1 / 10\n",
      "Completed:  3 / 3   1 / 1   2 / 10\n",
      "Completed:  3 / 3   1 / 1   3 / 10\n",
      "Completed:  3 / 3   1 / 1   4 / 10\n"
     ]
    },
    {
     "name": "stderr",
     "output_type": "stream",
     "text": [
      "/Users/baljyot/opt/anaconda3/envs/py310/lib/python3.10/site-packages/lmfit/minimizer.py:854: RuntimeWarning: invalid value encountered in sqrt\n",
      "  (par.stderr * np.sqrt(self.result.covar[jvar, jvar])))\n",
      "/Users/baljyot/opt/anaconda3/envs/py310/lib/python3.10/site-packages/lmfit/minimizer.py:847: RuntimeWarning: invalid value encountered in sqrt\n",
      "  par.stderr = np.sqrt(self.result.covar[ivar, ivar])\n"
     ]
    },
    {
     "name": "stdout",
     "output_type": "stream",
     "text": [
      "Completed:  3 / 3   1 / 1   5 / 10\n"
     ]
    },
    {
     "name": "stderr",
     "output_type": "stream",
     "text": [
      "/Users/baljyot/opt/anaconda3/envs/py310/lib/python3.10/site-packages/lmfit/minimizer.py:854: RuntimeWarning: invalid value encountered in sqrt\n",
      "  (par.stderr * np.sqrt(self.result.covar[jvar, jvar])))\n",
      "/Users/baljyot/opt/anaconda3/envs/py310/lib/python3.10/site-packages/lmfit/minimizer.py:847: RuntimeWarning: invalid value encountered in sqrt\n",
      "  par.stderr = np.sqrt(self.result.covar[ivar, ivar])\n"
     ]
    },
    {
     "name": "stdout",
     "output_type": "stream",
     "text": [
      "Completed:  3 / 3   1 / 1   6 / 10\n",
      "Completed:  3 / 3   1 / 1   7 / 10\n",
      "Completed:  3 / 3   1 / 1   8 / 10\n",
      "Completed:  3 / 3   1 / 1   9 / 10\n",
      "Completed:  3 / 3   1 / 1   10 / 10\n",
      "Finished size: 0.5\n",
      "Completed:  1 / 3   1 / 1   1 / 10\n",
      "Completed:  1 / 3   1 / 1   2 / 10\n",
      "Completed:  1 / 3   1 / 1   3 / 10\n",
      "Completed:  1 / 3   1 / 1   4 / 10\n",
      "Completed:  1 / 3   1 / 1   5 / 10\n",
      "Completed:  1 / 3   1 / 1   6 / 10\n",
      "Completed:  1 / 3   1 / 1   7 / 10\n",
      "Completed:  1 / 3   1 / 1   8 / 10\n",
      "Completed:  1 / 3   1 / 1   9 / 10\n",
      "Completed:  1 / 3   1 / 1   10 / 10\n",
      "Completed:  2 / 3   1 / 1   1 / 10\n",
      "Completed:  2 / 3   1 / 1   2 / 10\n",
      "Completed:  2 / 3   1 / 1   3 / 10\n",
      "Completed:  2 / 3   1 / 1   4 / 10\n",
      "Completed:  2 / 3   1 / 1   5 / 10\n",
      "Completed:  2 / 3   1 / 1   6 / 10\n",
      "Completed:  2 / 3   1 / 1   7 / 10\n",
      "Completed:  2 / 3   1 / 1   8 / 10\n",
      "Completed:  2 / 3   1 / 1   9 / 10\n"
     ]
    },
    {
     "name": "stderr",
     "output_type": "stream",
     "text": [
      "/Users/baljyot/opt/anaconda3/envs/py310/lib/python3.10/site-packages/lmfit/minimizer.py:854: RuntimeWarning: invalid value encountered in sqrt\n",
      "  (par.stderr * np.sqrt(self.result.covar[jvar, jvar])))\n",
      "/Users/baljyot/opt/anaconda3/envs/py310/lib/python3.10/site-packages/lmfit/minimizer.py:847: RuntimeWarning: invalid value encountered in sqrt\n",
      "  par.stderr = np.sqrt(self.result.covar[ivar, ivar])\n"
     ]
    },
    {
     "name": "stdout",
     "output_type": "stream",
     "text": [
      "Completed:  2 / 3   1 / 1   10 / 10\n",
      "Completed:  3 / 3   1 / 1   1 / 10\n",
      "Completed:  3 / 3   1 / 1   2 / 10\n",
      "Completed:  3 / 3   1 / 1   3 / 10\n",
      "Completed:  3 / 3   1 / 1   4 / 10\n",
      "Completed:  3 / 3   1 / 1   5 / 10\n",
      "Completed:  3 / 3   1 / 1   6 / 10\n",
      "Completed:  3 / 3   1 / 1   7 / 10\n",
      "Completed:  3 / 3   1 / 1   8 / 10\n",
      "Completed:  3 / 3   1 / 1   9 / 10\n",
      "Completed:  3 / 3   1 / 1   10 / 10\n",
      "Finished size: 1.0\n",
      "Completed:  1 / 3   1 / 1   1 / 10\n",
      "Completed:  1 / 3   1 / 1   2 / 10\n",
      "Completed:  1 / 3   1 / 1   3 / 10\n",
      "Completed:  1 / 3   1 / 1   4 / 10\n",
      "Completed:  1 / 3   1 / 1   5 / 10\n"
     ]
    },
    {
     "name": "stderr",
     "output_type": "stream",
     "text": [
      "/Users/baljyot/opt/anaconda3/envs/py310/lib/python3.10/site-packages/lmfit/minimizer.py:847: RuntimeWarning: invalid value encountered in sqrt\n",
      "  par.stderr = np.sqrt(self.result.covar[ivar, ivar])\n",
      "/Users/baljyot/opt/anaconda3/envs/py310/lib/python3.10/site-packages/lmfit/minimizer.py:854: RuntimeWarning: invalid value encountered in sqrt\n",
      "  (par.stderr * np.sqrt(self.result.covar[jvar, jvar])))\n"
     ]
    },
    {
     "name": "stdout",
     "output_type": "stream",
     "text": [
      "Completed:  1 / 3   1 / 1   6 / 10\n"
     ]
    },
    {
     "name": "stderr",
     "output_type": "stream",
     "text": [
      "/Users/baljyot/opt/anaconda3/envs/py310/lib/python3.10/site-packages/lmfit/minimizer.py:854: RuntimeWarning: invalid value encountered in sqrt\n",
      "  (par.stderr * np.sqrt(self.result.covar[jvar, jvar])))\n",
      "/Users/baljyot/opt/anaconda3/envs/py310/lib/python3.10/site-packages/lmfit/minimizer.py:847: RuntimeWarning: invalid value encountered in sqrt\n",
      "  par.stderr = np.sqrt(self.result.covar[ivar, ivar])\n"
     ]
    },
    {
     "name": "stdout",
     "output_type": "stream",
     "text": [
      "Completed:  1 / 3   1 / 1   7 / 10\n",
      "Completed:  1 / 3   1 / 1   8 / 10\n",
      "Completed:  1 / 3   1 / 1   9 / 10\n",
      "Completed:  1 / 3   1 / 1   10 / 10\n",
      "Completed:  2 / 3   1 / 1   1 / 10\n",
      "Completed:  2 / 3   1 / 1   2 / 10\n"
     ]
    },
    {
     "name": "stderr",
     "output_type": "stream",
     "text": [
      "/Users/baljyot/opt/anaconda3/envs/py310/lib/python3.10/site-packages/lmfit/minimizer.py:854: RuntimeWarning: invalid value encountered in sqrt\n",
      "  (par.stderr * np.sqrt(self.result.covar[jvar, jvar])))\n",
      "/Users/baljyot/opt/anaconda3/envs/py310/lib/python3.10/site-packages/lmfit/minimizer.py:847: RuntimeWarning: invalid value encountered in sqrt\n",
      "  par.stderr = np.sqrt(self.result.covar[ivar, ivar])\n"
     ]
    },
    {
     "name": "stdout",
     "output_type": "stream",
     "text": [
      "Completed:  2 / 3   1 / 1   3 / 10\n",
      "Completed:  2 / 3   1 / 1   4 / 10\n",
      "Completed:  2 / 3   1 / 1   5 / 10\n",
      "Completed:  2 / 3   1 / 1   6 / 10\n",
      "Completed:  2 / 3   1 / 1   7 / 10\n",
      "Completed:  2 / 3   1 / 1   8 / 10\n",
      "Completed:  2 / 3   1 / 1   9 / 10\n",
      "Completed:  2 / 3   1 / 1   10 / 10\n",
      "Completed:  3 / 3   1 / 1   1 / 10\n",
      "Completed:  3 / 3   1 / 1   2 / 10\n",
      "Completed:  3 / 3   1 / 1   3 / 10\n",
      "Completed:  3 / 3   1 / 1   4 / 10\n",
      "Completed:  3 / 3   1 / 1   5 / 10\n",
      "Completed:  3 / 3   1 / 1   6 / 10\n",
      "Completed:  3 / 3   1 / 1   7 / 10\n",
      "Completed:  3 / 3   1 / 1   8 / 10\n"
     ]
    },
    {
     "name": "stderr",
     "output_type": "stream",
     "text": [
      "/Users/baljyot/opt/anaconda3/envs/py310/lib/python3.10/site-packages/lmfit/minimizer.py:847: RuntimeWarning: invalid value encountered in sqrt\n",
      "  par.stderr = np.sqrt(self.result.covar[ivar, ivar])\n",
      "/Users/baljyot/opt/anaconda3/envs/py310/lib/python3.10/site-packages/lmfit/minimizer.py:854: RuntimeWarning: invalid value encountered in sqrt\n",
      "  (par.stderr * np.sqrt(self.result.covar[jvar, jvar])))\n"
     ]
    },
    {
     "name": "stdout",
     "output_type": "stream",
     "text": [
      "Completed:  3 / 3   1 / 1   9 / 10\n",
      "Completed:  3 / 3   1 / 1   10 / 10\n",
      "Finished size: 1.5\n",
      "Completed:  1 / 3   1 / 1   1 / 10\n",
      "Completed:  1 / 3   1 / 1   2 / 10\n",
      "Completed:  1 / 3   1 / 1   3 / 10\n",
      "Completed:  1 / 3   1 / 1   4 / 10\n",
      "Completed:  1 / 3   1 / 1   5 / 10\n",
      "Completed:  1 / 3   1 / 1   6 / 10\n",
      "Completed:  1 / 3   1 / 1   7 / 10\n",
      "Completed:  1 / 3   1 / 1   8 / 10\n",
      "Completed:  1 / 3   1 / 1   9 / 10\n",
      "Completed:  1 / 3   1 / 1   10 / 10\n",
      "Completed:  2 / 3   1 / 1   1 / 10\n",
      "Completed:  2 / 3   1 / 1   2 / 10\n",
      "Completed:  2 / 3   1 / 1   3 / 10\n",
      "Completed:  2 / 3   1 / 1   4 / 10\n",
      "Completed:  2 / 3   1 / 1   5 / 10\n",
      "Completed:  2 / 3   1 / 1   6 / 10\n",
      "Completed:  2 / 3   1 / 1   7 / 10\n",
      "Completed:  2 / 3   1 / 1   8 / 10\n",
      "Completed:  2 / 3   1 / 1   9 / 10\n",
      "Completed:  2 / 3   1 / 1   10 / 10\n",
      "Completed:  3 / 3   1 / 1   1 / 10\n",
      "Completed:  3 / 3   1 / 1   2 / 10\n",
      "Completed:  3 / 3   1 / 1   3 / 10\n",
      "Completed:  3 / 3   1 / 1   4 / 10\n",
      "Completed:  3 / 3   1 / 1   5 / 10\n",
      "Completed:  3 / 3   1 / 1   6 / 10\n",
      "Completed:  3 / 3   1 / 1   7 / 10\n"
     ]
    },
    {
     "name": "stderr",
     "output_type": "stream",
     "text": [
      "/Users/baljyot/opt/anaconda3/envs/py310/lib/python3.10/site-packages/lmfit/minimizer.py:847: RuntimeWarning: invalid value encountered in sqrt\n",
      "  par.stderr = np.sqrt(self.result.covar[ivar, ivar])\n",
      "/Users/baljyot/opt/anaconda3/envs/py310/lib/python3.10/site-packages/lmfit/minimizer.py:854: RuntimeWarning: invalid value encountered in sqrt\n",
      "  (par.stderr * np.sqrt(self.result.covar[jvar, jvar])))\n"
     ]
    },
    {
     "name": "stdout",
     "output_type": "stream",
     "text": [
      "Completed:  3 / 3   1 / 1   8 / 10\n",
      "Completed:  3 / 3   1 / 1   9 / 10\n",
      "Completed:  3 / 3   1 / 1   10 / 10\n",
      "Finished size: 2.0\n",
      "Completed:  1 / 3   1 / 1   1 / 10\n",
      "Completed:  1 / 3   1 / 1   2 / 10\n",
      "Completed:  1 / 3   1 / 1   3 / 10\n",
      "Completed:  1 / 3   1 / 1   4 / 10\n",
      "Completed:  1 / 3   1 / 1   5 / 10\n",
      "Completed:  1 / 3   1 / 1   6 / 10\n",
      "Completed:  1 / 3   1 / 1   7 / 10\n",
      "Completed:  1 / 3   1 / 1   8 / 10\n",
      "Completed:  1 / 3   1 / 1   9 / 10\n",
      "Completed:  1 / 3   1 / 1   10 / 10\n",
      "Completed:  2 / 3   1 / 1   1 / 10\n",
      "Completed:  2 / 3   1 / 1   2 / 10\n"
     ]
    },
    {
     "name": "stderr",
     "output_type": "stream",
     "text": [
      "/Users/baljyot/opt/anaconda3/envs/py310/lib/python3.10/site-packages/lmfit/minimizer.py:847: RuntimeWarning: invalid value encountered in sqrt\n",
      "  par.stderr = np.sqrt(self.result.covar[ivar, ivar])\n",
      "/Users/baljyot/opt/anaconda3/envs/py310/lib/python3.10/site-packages/lmfit/minimizer.py:854: RuntimeWarning: invalid value encountered in sqrt\n",
      "  (par.stderr * np.sqrt(self.result.covar[jvar, jvar])))\n"
     ]
    },
    {
     "name": "stdout",
     "output_type": "stream",
     "text": [
      "Completed:  2 / 3   1 / 1   3 / 10\n",
      "Completed:  2 / 3   1 / 1   4 / 10\n",
      "Completed:  2 / 3   1 / 1   5 / 10\n",
      "Completed:  2 / 3   1 / 1   6 / 10\n",
      "Completed:  2 / 3   1 / 1   7 / 10\n",
      "Completed:  2 / 3   1 / 1   8 / 10\n",
      "Completed:  2 / 3   1 / 1   9 / 10\n",
      "Completed:  2 / 3   1 / 1   10 / 10\n",
      "Completed:  3 / 3   1 / 1   1 / 10\n",
      "Completed:  3 / 3   1 / 1   2 / 10\n",
      "Completed:  3 / 3   1 / 1   3 / 10\n",
      "Completed:  3 / 3   1 / 1   4 / 10\n",
      "Completed:  3 / 3   1 / 1   5 / 10\n",
      "Completed:  3 / 3   1 / 1   6 / 10\n",
      "Completed:  3 / 3   1 / 1   7 / 10\n",
      "Completed:  3 / 3   1 / 1   8 / 10\n",
      "Completed:  3 / 3   1 / 1   9 / 10\n",
      "Completed:  3 / 3   1 / 1   10 / 10\n",
      "Finished size: 2.5\n"
     ]
    }
   ],
   "source": [
    "#lets do it for various lengths and sizes at 0001 diffusion coefficient\n",
    "track_lengths = [1000,1500,2000]\n",
    "density_dif = [10]\n",
    "repeats = 10\n",
    "threshold_range = [1e3]\n",
    "D_DBSCAN = 0.5\n",
    "minP_DBSCAN = 5\n",
    "sizes_condensates = np.arange(0.5,3,0.5)\n",
    "diffusion_coefficient_0 = 0\n",
    "hurst_035 = 0.2\n",
    "initial_dict_collection_sizes = utility_condensate_size_initial_dict(sizes=sizes_condensates,\n",
    "                                                                    diffusion_coefficient=diffusion_coefficient_0,\n",
    "                                                                    hurst_exponent=hurst_035)\n",
    "\n",
    "collection_sizes_sim_results = []\n",
    "for i in range(len(sizes_condensates)):\n",
    "    temp = perform_sim_for_diff_thresholds_plus_sim_cells(\n",
    "            track_lengths=track_lengths,\n",
    "            density_dif=density_dif,\n",
    "            threshold_changes=threshold_range,\n",
    "            repeats=repeats,\n",
    "            initial_dict_used=initial_dict_collection_sizes[i],\n",
    "            D_DBSCAN=D_DBSCAN,\n",
    "            minPts_DBSCAN=minP_DBSCAN)\n",
    "    collection_sizes_sim_results.append([temp])\n",
    "    print('Finished size: ' + str(sizes_condensates[i]))"
   ]
  },
  {
   "cell_type": "code",
   "execution_count": 7,
   "metadata": {},
   "outputs": [],
   "source": [
    "#using pickle save the data and the parameters used to /Users/baljyot/Documents/2022-2023/PhD_Thesis/Figures/Chapter_3/Figure_5/diffusion_001\n",
    "\n",
    "SAVE = True\n",
    "\n",
    "if SAVE == True:\n",
    "    with open('/Users/baljyot/Documents/2022-2023/PhD_Thesis/Figures/Chapter_3/Figure_5/upper_sample/diffusion_0/collection_sizes_sim_results.pkl', 'wb') as f:\n",
    "        pickle.dump(collection_sizes_sim_results, f)\n",
    "    with open('/Users/baljyot/Documents/2022-2023/PhD_Thesis/Figures/Chapter_3/Figure_5/upper_sample/diffusion_0/collection_sizes_sim_params.pkl', 'wb') as f:\n",
    "        collection_sizes_sim_params = [track_lengths,density_dif,repeats,threshold_range,D_DBSCAN,minP_DBSCAN,sizes_condensates,diffusion_coefficient_0,hurst_035,initial_dict_collection_sizes]\n",
    "        pickle.dump(collection_sizes_sim_params, f)"
   ]
  },
  {
   "cell_type": "code",
   "execution_count": 8,
   "metadata": {},
   "outputs": [
    {
     "name": "stdout",
     "output_type": "stream",
     "text": [
      "Completed:  1 / 3   1 / 1   1 / 10\n",
      "Completed:  1 / 3   1 / 1   2 / 10\n",
      "Completed:  1 / 3   1 / 1   3 / 10\n"
     ]
    },
    {
     "name": "stderr",
     "output_type": "stream",
     "text": [
      "/Users/baljyot/opt/anaconda3/envs/py310/lib/python3.10/site-packages/lmfit/minimizer.py:847: RuntimeWarning: invalid value encountered in sqrt\n",
      "  par.stderr = np.sqrt(self.result.covar[ivar, ivar])\n",
      "/Users/baljyot/opt/anaconda3/envs/py310/lib/python3.10/site-packages/lmfit/minimizer.py:854: RuntimeWarning: invalid value encountered in sqrt\n",
      "  (par.stderr * np.sqrt(self.result.covar[jvar, jvar])))\n"
     ]
    },
    {
     "name": "stdout",
     "output_type": "stream",
     "text": [
      "Completed:  1 / 3   1 / 1   4 / 10\n"
     ]
    },
    {
     "name": "stderr",
     "output_type": "stream",
     "text": [
      "/Users/baljyot/opt/anaconda3/envs/py310/lib/python3.10/site-packages/lmfit/minimizer.py:854: RuntimeWarning: invalid value encountered in sqrt\n",
      "  (par.stderr * np.sqrt(self.result.covar[jvar, jvar])))\n",
      "/Users/baljyot/opt/anaconda3/envs/py310/lib/python3.10/site-packages/lmfit/minimizer.py:847: RuntimeWarning: invalid value encountered in sqrt\n",
      "  par.stderr = np.sqrt(self.result.covar[ivar, ivar])\n"
     ]
    },
    {
     "name": "stdout",
     "output_type": "stream",
     "text": [
      "Completed:  1 / 3   1 / 1   5 / 10\n",
      "Completed:  1 / 3   1 / 1   6 / 10\n",
      "Completed:  1 / 3   1 / 1   7 / 10\n",
      "Completed:  1 / 3   1 / 1   8 / 10\n",
      "Completed:  1 / 3   1 / 1   9 / 10\n"
     ]
    },
    {
     "name": "stderr",
     "output_type": "stream",
     "text": [
      "/Users/baljyot/opt/anaconda3/envs/py310/lib/python3.10/site-packages/lmfit/minimizer.py:847: RuntimeWarning: invalid value encountered in sqrt\n",
      "  par.stderr = np.sqrt(self.result.covar[ivar, ivar])\n",
      "/Users/baljyot/opt/anaconda3/envs/py310/lib/python3.10/site-packages/lmfit/minimizer.py:854: RuntimeWarning: invalid value encountered in sqrt\n",
      "  (par.stderr * np.sqrt(self.result.covar[jvar, jvar])))\n"
     ]
    },
    {
     "name": "stdout",
     "output_type": "stream",
     "text": [
      "Completed:  1 / 3   1 / 1   10 / 10\n",
      "Completed:  2 / 3   1 / 1   1 / 10\n",
      "Completed:  2 / 3   1 / 1   2 / 10\n",
      "Completed:  2 / 3   1 / 1   3 / 10\n",
      "Completed:  2 / 3   1 / 1   4 / 10\n",
      "Completed:  2 / 3   1 / 1   5 / 10\n",
      "Completed:  2 / 3   1 / 1   6 / 10\n",
      "Completed:  2 / 3   1 / 1   7 / 10\n",
      "Completed:  2 / 3   1 / 1   8 / 10\n"
     ]
    },
    {
     "name": "stderr",
     "output_type": "stream",
     "text": [
      "/Users/baljyot/opt/anaconda3/envs/py310/lib/python3.10/site-packages/lmfit/minimizer.py:847: RuntimeWarning: invalid value encountered in sqrt\n",
      "  par.stderr = np.sqrt(self.result.covar[ivar, ivar])\n",
      "/Users/baljyot/opt/anaconda3/envs/py310/lib/python3.10/site-packages/lmfit/minimizer.py:854: RuntimeWarning: invalid value encountered in sqrt\n",
      "  (par.stderr * np.sqrt(self.result.covar[jvar, jvar])))\n"
     ]
    },
    {
     "name": "stdout",
     "output_type": "stream",
     "text": [
      "Completed:  2 / 3   1 / 1   9 / 10\n",
      "Completed:  2 / 3   1 / 1   10 / 10\n",
      "Completed:  3 / 3   1 / 1   1 / 10\n",
      "Completed:  3 / 3   1 / 1   2 / 10\n",
      "Completed:  3 / 3   1 / 1   3 / 10\n",
      "Completed:  3 / 3   1 / 1   4 / 10\n",
      "Completed:  3 / 3   1 / 1   5 / 10\n",
      "Completed:  3 / 3   1 / 1   6 / 10\n",
      "Completed:  3 / 3   1 / 1   7 / 10\n",
      "Completed:  3 / 3   1 / 1   8 / 10\n",
      "Completed:  3 / 3   1 / 1   9 / 10\n",
      "Completed:  3 / 3   1 / 1   10 / 10\n",
      "Finished size: 0.5\n"
     ]
    },
    {
     "name": "stderr",
     "output_type": "stream",
     "text": [
      "/Users/baljyot/opt/anaconda3/envs/py310/lib/python3.10/site-packages/lmfit/minimizer.py:854: RuntimeWarning: invalid value encountered in sqrt\n",
      "  (par.stderr * np.sqrt(self.result.covar[jvar, jvar])))\n",
      "/Users/baljyot/opt/anaconda3/envs/py310/lib/python3.10/site-packages/lmfit/minimizer.py:847: RuntimeWarning: invalid value encountered in sqrt\n",
      "  par.stderr = np.sqrt(self.result.covar[ivar, ivar])\n"
     ]
    },
    {
     "name": "stdout",
     "output_type": "stream",
     "text": [
      "Completed:  1 / 3   1 / 1   1 / 10\n",
      "Completed:  1 / 3   1 / 1   2 / 10\n",
      "Completed:  1 / 3   1 / 1   3 / 10\n",
      "Completed:  1 / 3   1 / 1   4 / 10\n",
      "Completed:  1 / 3   1 / 1   5 / 10\n",
      "Completed:  1 / 3   1 / 1   6 / 10\n",
      "Completed:  1 / 3   1 / 1   7 / 10\n",
      "Completed:  1 / 3   1 / 1   8 / 10\n",
      "Completed:  1 / 3   1 / 1   9 / 10\n",
      "Completed:  1 / 3   1 / 1   10 / 10\n",
      "Completed:  2 / 3   1 / 1   1 / 10\n",
      "Completed:  2 / 3   1 / 1   2 / 10\n",
      "Completed:  2 / 3   1 / 1   3 / 10\n",
      "Completed:  2 / 3   1 / 1   4 / 10\n",
      "Completed:  2 / 3   1 / 1   5 / 10\n",
      "Completed:  2 / 3   1 / 1   6 / 10\n",
      "Completed:  2 / 3   1 / 1   7 / 10\n",
      "Completed:  2 / 3   1 / 1   8 / 10\n",
      "Completed:  2 / 3   1 / 1   9 / 10\n",
      "Completed:  2 / 3   1 / 1   10 / 10\n"
     ]
    },
    {
     "name": "stderr",
     "output_type": "stream",
     "text": [
      "/Users/baljyot/opt/anaconda3/envs/py310/lib/python3.10/site-packages/lmfit/minimizer.py:847: RuntimeWarning: invalid value encountered in sqrt\n",
      "  par.stderr = np.sqrt(self.result.covar[ivar, ivar])\n",
      "/Users/baljyot/opt/anaconda3/envs/py310/lib/python3.10/site-packages/lmfit/minimizer.py:854: RuntimeWarning: invalid value encountered in sqrt\n",
      "  (par.stderr * np.sqrt(self.result.covar[jvar, jvar])))\n"
     ]
    },
    {
     "name": "stdout",
     "output_type": "stream",
     "text": [
      "Completed:  3 / 3   1 / 1   1 / 10\n",
      "Completed:  3 / 3   1 / 1   2 / 10\n",
      "Completed:  3 / 3   1 / 1   3 / 10\n",
      "Completed:  3 / 3   1 / 1   4 / 10\n",
      "Completed:  3 / 3   1 / 1   5 / 10\n",
      "Completed:  3 / 3   1 / 1   6 / 10\n",
      "Completed:  3 / 3   1 / 1   7 / 10\n"
     ]
    },
    {
     "name": "stderr",
     "output_type": "stream",
     "text": [
      "/Users/baljyot/opt/anaconda3/envs/py310/lib/python3.10/site-packages/lmfit/minimizer.py:847: RuntimeWarning: invalid value encountered in sqrt\n",
      "  par.stderr = np.sqrt(self.result.covar[ivar, ivar])\n",
      "/Users/baljyot/opt/anaconda3/envs/py310/lib/python3.10/site-packages/lmfit/minimizer.py:854: RuntimeWarning: invalid value encountered in sqrt\n",
      "  (par.stderr * np.sqrt(self.result.covar[jvar, jvar])))\n"
     ]
    },
    {
     "name": "stdout",
     "output_type": "stream",
     "text": [
      "Completed:  3 / 3   1 / 1   8 / 10\n",
      "Completed:  3 / 3   1 / 1   9 / 10\n",
      "Completed:  3 / 3   1 / 1   10 / 10\n",
      "Finished size: 1.0\n",
      "Completed:  1 / 3   1 / 1   1 / 10\n",
      "Completed:  1 / 3   1 / 1   2 / 10\n",
      "Completed:  1 / 3   1 / 1   3 / 10\n",
      "Completed:  1 / 3   1 / 1   4 / 10\n",
      "Completed:  1 / 3   1 / 1   5 / 10\n"
     ]
    },
    {
     "name": "stderr",
     "output_type": "stream",
     "text": [
      "/Users/baljyot/opt/anaconda3/envs/py310/lib/python3.10/site-packages/lmfit/minimizer.py:847: RuntimeWarning: invalid value encountered in sqrt\n",
      "  par.stderr = np.sqrt(self.result.covar[ivar, ivar])\n",
      "/Users/baljyot/opt/anaconda3/envs/py310/lib/python3.10/site-packages/lmfit/minimizer.py:854: RuntimeWarning: invalid value encountered in sqrt\n",
      "  (par.stderr * np.sqrt(self.result.covar[jvar, jvar])))\n"
     ]
    },
    {
     "name": "stdout",
     "output_type": "stream",
     "text": [
      "Completed:  1 / 3   1 / 1   6 / 10\n",
      "Completed:  1 / 3   1 / 1   7 / 10\n",
      "Completed:  1 / 3   1 / 1   8 / 10\n",
      "Completed:  1 / 3   1 / 1   9 / 10\n",
      "Completed:  1 / 3   1 / 1   10 / 10\n",
      "Completed:  2 / 3   1 / 1   1 / 10\n",
      "Completed:  2 / 3   1 / 1   2 / 10\n",
      "Completed:  2 / 3   1 / 1   3 / 10\n"
     ]
    },
    {
     "name": "stderr",
     "output_type": "stream",
     "text": [
      "/Users/baljyot/opt/anaconda3/envs/py310/lib/python3.10/site-packages/lmfit/minimizer.py:847: RuntimeWarning: invalid value encountered in sqrt\n",
      "  par.stderr = np.sqrt(self.result.covar[ivar, ivar])\n",
      "/Users/baljyot/opt/anaconda3/envs/py310/lib/python3.10/site-packages/lmfit/minimizer.py:854: RuntimeWarning: invalid value encountered in sqrt\n",
      "  (par.stderr * np.sqrt(self.result.covar[jvar, jvar])))\n"
     ]
    },
    {
     "name": "stdout",
     "output_type": "stream",
     "text": [
      "Completed:  2 / 3   1 / 1   4 / 10\n"
     ]
    },
    {
     "name": "stderr",
     "output_type": "stream",
     "text": [
      "/Users/baljyot/opt/anaconda3/envs/py310/lib/python3.10/site-packages/lmfit/minimizer.py:847: RuntimeWarning: invalid value encountered in sqrt\n",
      "  par.stderr = np.sqrt(self.result.covar[ivar, ivar])\n",
      "/Users/baljyot/opt/anaconda3/envs/py310/lib/python3.10/site-packages/lmfit/minimizer.py:854: RuntimeWarning: invalid value encountered in sqrt\n",
      "  (par.stderr * np.sqrt(self.result.covar[jvar, jvar])))\n"
     ]
    },
    {
     "name": "stdout",
     "output_type": "stream",
     "text": [
      "Completed:  2 / 3   1 / 1   5 / 10\n",
      "Completed:  2 / 3   1 / 1   6 / 10\n",
      "Completed:  2 / 3   1 / 1   7 / 10\n",
      "Completed:  2 / 3   1 / 1   8 / 10\n",
      "Completed:  2 / 3   1 / 1   9 / 10\n",
      "Completed:  2 / 3   1 / 1   10 / 10\n",
      "Completed:  3 / 3   1 / 1   1 / 10\n",
      "Completed:  3 / 3   1 / 1   2 / 10\n",
      "Completed:  3 / 3   1 / 1   3 / 10\n",
      "Completed:  3 / 3   1 / 1   4 / 10\n",
      "Completed:  3 / 3   1 / 1   5 / 10\n"
     ]
    },
    {
     "name": "stderr",
     "output_type": "stream",
     "text": [
      "/Users/baljyot/opt/anaconda3/envs/py310/lib/python3.10/site-packages/lmfit/minimizer.py:847: RuntimeWarning: invalid value encountered in sqrt\n",
      "  par.stderr = np.sqrt(self.result.covar[ivar, ivar])\n",
      "/Users/baljyot/opt/anaconda3/envs/py310/lib/python3.10/site-packages/lmfit/minimizer.py:854: RuntimeWarning: invalid value encountered in sqrt\n",
      "  (par.stderr * np.sqrt(self.result.covar[jvar, jvar])))\n"
     ]
    },
    {
     "name": "stdout",
     "output_type": "stream",
     "text": [
      "Completed:  3 / 3   1 / 1   6 / 10\n",
      "Completed:  3 / 3   1 / 1   7 / 10\n",
      "Completed:  3 / 3   1 / 1   8 / 10\n",
      "Completed:  3 / 3   1 / 1   9 / 10\n",
      "Completed:  3 / 3   1 / 1   10 / 10\n",
      "Finished size: 1.5\n"
     ]
    },
    {
     "name": "stderr",
     "output_type": "stream",
     "text": [
      "/Users/baljyot/opt/anaconda3/envs/py310/lib/python3.10/site-packages/lmfit/minimizer.py:847: RuntimeWarning: invalid value encountered in sqrt\n",
      "  par.stderr = np.sqrt(self.result.covar[ivar, ivar])\n",
      "/Users/baljyot/opt/anaconda3/envs/py310/lib/python3.10/site-packages/lmfit/minimizer.py:854: RuntimeWarning: invalid value encountered in sqrt\n",
      "  (par.stderr * np.sqrt(self.result.covar[jvar, jvar])))\n"
     ]
    },
    {
     "name": "stdout",
     "output_type": "stream",
     "text": [
      "Completed:  1 / 3   1 / 1   1 / 10\n",
      "Completed:  1 / 3   1 / 1   2 / 10\n",
      "Completed:  1 / 3   1 / 1   3 / 10\n",
      "Completed:  1 / 3   1 / 1   4 / 10\n",
      "Completed:  1 / 3   1 / 1   5 / 10\n"
     ]
    },
    {
     "name": "stderr",
     "output_type": "stream",
     "text": [
      "/Users/baljyot/opt/anaconda3/envs/py310/lib/python3.10/site-packages/lmfit/minimizer.py:854: RuntimeWarning: invalid value encountered in sqrt\n",
      "  (par.stderr * np.sqrt(self.result.covar[jvar, jvar])))\n",
      "/Users/baljyot/opt/anaconda3/envs/py310/lib/python3.10/site-packages/lmfit/minimizer.py:847: RuntimeWarning: invalid value encountered in sqrt\n",
      "  par.stderr = np.sqrt(self.result.covar[ivar, ivar])\n"
     ]
    },
    {
     "name": "stdout",
     "output_type": "stream",
     "text": [
      "Completed:  1 / 3   1 / 1   6 / 10\n"
     ]
    },
    {
     "name": "stderr",
     "output_type": "stream",
     "text": [
      "/Users/baljyot/opt/anaconda3/envs/py310/lib/python3.10/site-packages/lmfit/minimizer.py:847: RuntimeWarning: invalid value encountered in sqrt\n",
      "  par.stderr = np.sqrt(self.result.covar[ivar, ivar])\n",
      "/Users/baljyot/opt/anaconda3/envs/py310/lib/python3.10/site-packages/lmfit/minimizer.py:854: RuntimeWarning: invalid value encountered in sqrt\n",
      "  (par.stderr * np.sqrt(self.result.covar[jvar, jvar])))\n"
     ]
    },
    {
     "name": "stdout",
     "output_type": "stream",
     "text": [
      "Completed:  1 / 3   1 / 1   7 / 10\n",
      "Completed:  1 / 3   1 / 1   8 / 10\n",
      "Completed:  1 / 3   1 / 1   9 / 10\n",
      "Completed:  1 / 3   1 / 1   10 / 10\n",
      "Completed:  2 / 3   1 / 1   1 / 10\n",
      "Completed:  2 / 3   1 / 1   2 / 10\n",
      "Completed:  2 / 3   1 / 1   3 / 10\n",
      "Completed:  2 / 3   1 / 1   4 / 10\n",
      "Completed:  2 / 3   1 / 1   5 / 10\n",
      "Completed:  2 / 3   1 / 1   6 / 10\n",
      "Completed:  2 / 3   1 / 1   7 / 10\n",
      "Completed:  2 / 3   1 / 1   8 / 10\n",
      "Completed:  2 / 3   1 / 1   9 / 10\n",
      "Completed:  2 / 3   1 / 1   10 / 10\n",
      "Completed:  3 / 3   1 / 1   1 / 10\n",
      "Completed:  3 / 3   1 / 1   2 / 10\n",
      "Completed:  3 / 3   1 / 1   3 / 10\n"
     ]
    },
    {
     "name": "stderr",
     "output_type": "stream",
     "text": [
      "/Users/baljyot/opt/anaconda3/envs/py310/lib/python3.10/site-packages/lmfit/minimizer.py:847: RuntimeWarning: invalid value encountered in sqrt\n",
      "  par.stderr = np.sqrt(self.result.covar[ivar, ivar])\n",
      "/Users/baljyot/opt/anaconda3/envs/py310/lib/python3.10/site-packages/lmfit/minimizer.py:854: RuntimeWarning: invalid value encountered in sqrt\n",
      "  (par.stderr * np.sqrt(self.result.covar[jvar, jvar])))\n"
     ]
    },
    {
     "name": "stdout",
     "output_type": "stream",
     "text": [
      "Completed:  3 / 3   1 / 1   4 / 10\n"
     ]
    },
    {
     "name": "stderr",
     "output_type": "stream",
     "text": [
      "/Users/baljyot/opt/anaconda3/envs/py310/lib/python3.10/site-packages/lmfit/minimizer.py:847: RuntimeWarning: invalid value encountered in sqrt\n",
      "  par.stderr = np.sqrt(self.result.covar[ivar, ivar])\n",
      "/Users/baljyot/opt/anaconda3/envs/py310/lib/python3.10/site-packages/lmfit/minimizer.py:854: RuntimeWarning: invalid value encountered in sqrt\n",
      "  (par.stderr * np.sqrt(self.result.covar[jvar, jvar])))\n"
     ]
    },
    {
     "name": "stdout",
     "output_type": "stream",
     "text": [
      "Completed:  3 / 3   1 / 1   5 / 10\n",
      "Completed:  3 / 3   1 / 1   6 / 10\n",
      "Completed:  3 / 3   1 / 1   7 / 10\n",
      "Completed:  3 / 3   1 / 1   8 / 10\n"
     ]
    },
    {
     "name": "stderr",
     "output_type": "stream",
     "text": [
      "/Users/baljyot/opt/anaconda3/envs/py310/lib/python3.10/site-packages/lmfit/minimizer.py:847: RuntimeWarning: invalid value encountered in sqrt\n",
      "  par.stderr = np.sqrt(self.result.covar[ivar, ivar])\n",
      "/Users/baljyot/opt/anaconda3/envs/py310/lib/python3.10/site-packages/lmfit/minimizer.py:854: RuntimeWarning: invalid value encountered in sqrt\n",
      "  (par.stderr * np.sqrt(self.result.covar[jvar, jvar])))\n"
     ]
    },
    {
     "name": "stdout",
     "output_type": "stream",
     "text": [
      "Completed:  3 / 3   1 / 1   9 / 10\n",
      "Completed:  3 / 3   1 / 1   10 / 10\n",
      "Finished size: 2.0\n",
      "Completed:  1 / 3   1 / 1   1 / 10\n",
      "Completed:  1 / 3   1 / 1   2 / 10\n",
      "Completed:  1 / 3   1 / 1   3 / 10\n",
      "Completed:  1 / 3   1 / 1   4 / 10\n",
      "Completed:  1 / 3   1 / 1   5 / 10\n",
      "Completed:  1 / 3   1 / 1   6 / 10\n",
      "Completed:  1 / 3   1 / 1   7 / 10\n",
      "Completed:  1 / 3   1 / 1   8 / 10\n"
     ]
    },
    {
     "name": "stderr",
     "output_type": "stream",
     "text": [
      "/Users/baljyot/opt/anaconda3/envs/py310/lib/python3.10/site-packages/lmfit/minimizer.py:854: RuntimeWarning: invalid value encountered in sqrt\n",
      "  (par.stderr * np.sqrt(self.result.covar[jvar, jvar])))\n",
      "/Users/baljyot/opt/anaconda3/envs/py310/lib/python3.10/site-packages/lmfit/minimizer.py:847: RuntimeWarning: invalid value encountered in sqrt\n",
      "  par.stderr = np.sqrt(self.result.covar[ivar, ivar])\n"
     ]
    },
    {
     "name": "stdout",
     "output_type": "stream",
     "text": [
      "Completed:  1 / 3   1 / 1   9 / 10\n",
      "Completed:  1 / 3   1 / 1   10 / 10\n",
      "Completed:  2 / 3   1 / 1   1 / 10\n",
      "Completed:  2 / 3   1 / 1   2 / 10\n",
      "Completed:  2 / 3   1 / 1   3 / 10\n",
      "Completed:  2 / 3   1 / 1   4 / 10\n"
     ]
    },
    {
     "name": "stderr",
     "output_type": "stream",
     "text": [
      "/Users/baljyot/opt/anaconda3/envs/py310/lib/python3.10/site-packages/lmfit/minimizer.py:847: RuntimeWarning: invalid value encountered in sqrt\n",
      "  par.stderr = np.sqrt(self.result.covar[ivar, ivar])\n",
      "/Users/baljyot/opt/anaconda3/envs/py310/lib/python3.10/site-packages/lmfit/minimizer.py:854: RuntimeWarning: invalid value encountered in sqrt\n",
      "  (par.stderr * np.sqrt(self.result.covar[jvar, jvar])))\n"
     ]
    },
    {
     "name": "stdout",
     "output_type": "stream",
     "text": [
      "Completed:  2 / 3   1 / 1   5 / 10\n",
      "Completed:  2 / 3   1 / 1   6 / 10\n",
      "Completed:  2 / 3   1 / 1   7 / 10\n",
      "Completed:  2 / 3   1 / 1   8 / 10\n",
      "Completed:  2 / 3   1 / 1   9 / 10\n",
      "Completed:  2 / 3   1 / 1   10 / 10\n",
      "Completed:  3 / 3   1 / 1   1 / 10\n",
      "Completed:  3 / 3   1 / 1   2 / 10\n",
      "Completed:  3 / 3   1 / 1   3 / 10\n",
      "Completed:  3 / 3   1 / 1   4 / 10\n",
      "Completed:  3 / 3   1 / 1   5 / 10\n",
      "Completed:  3 / 3   1 / 1   6 / 10\n",
      "Completed:  3 / 3   1 / 1   7 / 10\n"
     ]
    },
    {
     "name": "stderr",
     "output_type": "stream",
     "text": [
      "/Users/baljyot/opt/anaconda3/envs/py310/lib/python3.10/site-packages/lmfit/minimizer.py:854: RuntimeWarning: invalid value encountered in sqrt\n",
      "  (par.stderr * np.sqrt(self.result.covar[jvar, jvar])))\n",
      "/Users/baljyot/opt/anaconda3/envs/py310/lib/python3.10/site-packages/lmfit/minimizer.py:847: RuntimeWarning: invalid value encountered in sqrt\n",
      "  par.stderr = np.sqrt(self.result.covar[ivar, ivar])\n"
     ]
    },
    {
     "name": "stdout",
     "output_type": "stream",
     "text": [
      "Completed:  3 / 3   1 / 1   8 / 10\n",
      "Completed:  3 / 3   1 / 1   9 / 10\n",
      "Completed:  3 / 3   1 / 1   10 / 10\n",
      "Finished size: 2.5\n"
     ]
    },
    {
     "name": "stderr",
     "output_type": "stream",
     "text": [
      "/Users/baljyot/opt/anaconda3/envs/py310/lib/python3.10/site-packages/lmfit/minimizer.py:847: RuntimeWarning: invalid value encountered in sqrt\n",
      "  par.stderr = np.sqrt(self.result.covar[ivar, ivar])\n",
      "/Users/baljyot/opt/anaconda3/envs/py310/lib/python3.10/site-packages/lmfit/minimizer.py:854: RuntimeWarning: invalid value encountered in sqrt\n",
      "  (par.stderr * np.sqrt(self.result.covar[jvar, jvar])))\n"
     ]
    }
   ],
   "source": [
    "#lets do it for various lengths and sizes at 01 diffusion coefficient\n",
    "track_lengths = [1000,1500,2000]\n",
    "density_dif = [10]\n",
    "repeats = 10\n",
    "threshold_range = [1e3]\n",
    "D_DBSCAN = 0.5\n",
    "minP_DBSCAN = 5\n",
    "sizes_condensates = np.arange(0.5,3,0.5)\n",
    "diffusion_coefficient_0001 = 0.001\n",
    "hurst_035 = 0.2\n",
    "initial_dict_collection_sizes = utility_condensate_size_initial_dict(sizes=sizes_condensates,\n",
    "                                                                    diffusion_coefficient=diffusion_coefficient_0001,\n",
    "                                                                    hurst_exponent=hurst_035)\n",
    "\n",
    "collection_sizes_sim_results = []\n",
    "for i in range(len(sizes_condensates)):\n",
    "    temp = perform_sim_for_diff_thresholds_plus_sim_cells(\n",
    "            track_lengths=track_lengths,\n",
    "            density_dif=density_dif,\n",
    "            threshold_changes=threshold_range,\n",
    "            repeats=repeats,\n",
    "            initial_dict_used=initial_dict_collection_sizes[i],\n",
    "            D_DBSCAN=D_DBSCAN,\n",
    "            minPts_DBSCAN=minP_DBSCAN)\n",
    "    collection_sizes_sim_results.append([temp])\n",
    "    print('Finished size: ' + str(sizes_condensates[i]))"
   ]
  },
  {
   "cell_type": "code",
   "execution_count": 9,
   "metadata": {},
   "outputs": [],
   "source": [
    "#using pickle save the data and the parameters used to /Users/baljyot/Documents/2022-2023/PhD_Thesis/Figures/Chapter_3/Figure_5/diffusion_1\n",
    "\n",
    "SAVE = True\n",
    "\n",
    "if SAVE == True:\n",
    "    with open('/Users/baljyot/Documents/2022-2023/PhD_Thesis/Figures/Chapter_3/Figure_5/upper_sample/diffusion_0001/collection_sizes_sim_results.pkl', 'wb') as f:\n",
    "        pickle.dump(collection_sizes_sim_results, f)\n",
    "    with open('/Users/baljyot/Documents/2022-2023/PhD_Thesis/Figures/Chapter_3/Figure_5/upper_sample/diffusion_0001/collection_sizes_sim_params.pkl', 'wb') as f:\n",
    "        collection_sizes_sim_params = [track_lengths,density_dif,repeats,threshold_range,D_DBSCAN,minP_DBSCAN,sizes_condensates,diffusion_coefficient_0001,hurst_035,initial_dict_collection_sizes]\n",
    "        pickle.dump(collection_sizes_sim_params, f)"
   ]
  },
  {
   "cell_type": "code",
   "execution_count": null,
   "metadata": {},
   "outputs": [],
   "source": [
    "with open('/Users/baljyot/Documents/2022-2023/PhD_Thesis/Figures/Chapter_3/Figure_5/diffusion_001/collection_sizes_sim_results.pkl','rb') as f:\n",
    "    collection_sizes_sim_results_001 = pickle.load(f)\n",
    "with open('/Users/baljyot/Documents/2022-2023/PhD_Thesis/Figures/Chapter_3/Figure_5/diffusion_01/collection_sizes_sim_results.pkl','rb') as f:\n",
    "    collection_sizes_sim_results_01 = pickle.load(f)\n",
    "with open('/Users/baljyot/Documents/2022-2023/PhD_Thesis/Figures/Chapter_3/Figure_5/diffusion_1/collection_sizes_sim_results.pkl','rb') as f:\n",
    "    collection_sizes_sim_results_1 = pickle.load(f)"
   ]
  },
  {
   "cell_type": "code",
   "execution_count": null,
   "metadata": {},
   "outputs": [],
   "source": [
    "print(collection_sizes_sim_results_001[2][0][1][3])\n",
    "print(np.nanmean(np.nanmean(np.nanmean(collection_sizes_sim_results_001[2][0][1][3], axis=2),axis=2),axis=2))\n",
    "plt.plot(track_lengths,np.nanmean(np.nanmean(np.nanmean(collection_sizes_sim_results_001[3][0][1][3], axis=2),axis=2),axis=2))"
   ]
  },
  {
   "cell_type": "markdown",
   "metadata": {},
   "source": [
    "following is for track movement inside condensates"
   ]
  },
  {
   "cell_type": "code",
   "execution_count": 5,
   "metadata": {},
   "outputs": [],
   "source": [
    "#def for track movement\n",
    "def utility_params_track_diffusion(initial_dict,num_tracks,mean_track_length,density_dif,track_distribution,psf,diffusion_coefficients):\n",
    "    initial_dict = initial_dict\n",
    "    cell_parms = {\n",
    "        \"diffusion_coefficients\":np.array(list(diffusion_coefficients*np.ones(num_tracks))),\n",
    "        \"initials\": initial_dict,\n",
    "        \"num_tracks\":num_tracks,\n",
    "        \"track_type\":\"fbm\",\n",
    "        \"hursts\":np.array(list(0.2*np.ones(num_tracks))),\n",
    "        \"dims\":(200,200),\n",
    "        \"movie_frames\":500,\n",
    "        \"cell_space\":np.array([80,120,90,105])\n",
    "    }     \n",
    "    global_sim_params = {\n",
    "        \"track_length_mean\":mean_track_length,\n",
    "        \"track_distribution\":track_distribution,\n",
    "        \"exposure_time\":20,#ms same as frame_time\n",
    "        \"base_noise\":140,\n",
    "        \"point_intensity\":20,\n",
    "        \"psf_sigma\":psf,\n",
    "        \"frame_time\":20,#ms\n",
    "        \"pixel_size\":130,\n",
    "        \"axial_function\":\"exponential\",\n",
    "        \"density_dif\": density_dif\n",
    "    }\n",
    "    return initial_dict,cell_parms,global_sim_params\n",
    "\n",
    "\n",
    "#make a utility function to perfrom the sim for the different threshold changes, track lengths and density dif\n",
    "def perform_sim_for_diff_thresholds_diffusion_track(track_lengths,density_dif,threshold_changes,repeats,initial_dict_used,D_DBSCAN,minPts_DBSCAN,track_diffusion,mean_track_length=5):\n",
    "    #make the collection of TP and FP and center and scale errors\n",
    "    TP_collection_DB = np.zeros((len(track_lengths),len(density_dif),repeats))\n",
    "    FP_collection_DB = np.zeros((len(track_lengths),len(density_dif),repeats))\n",
    "    center_error_collection_DB = np.zeros((len(track_lengths),len(density_dif),repeats,len(initial_dict_used[\"initial_centers\"])))\n",
    "    scale_error_collection_DB = np.zeros((len(track_lengths),len(density_dif),repeats,len(initial_dict_used[\"initial_centers\"])))\n",
    "\n",
    "    #lets contain the points per frame dict\n",
    "    points_per_frame_collection = []\n",
    "    #TP for the scale selection\n",
    "    TP_collection_scale = np.zeros((len(track_lengths),len(density_dif),len(threshold_changes),repeats))\n",
    "    FP_collection_scale = np.zeros((len(track_lengths),len(density_dif),len(threshold_changes),repeats))\n",
    "    center_error_collection_scale = np.zeros((len(track_lengths),len(density_dif),len(threshold_changes),repeats,len(initial_dict_used[\"initial_centers\"])))\n",
    "    scale_error_collection_scale = np.zeros((len(track_lengths),len(density_dif),len(threshold_changes),repeats,len(initial_dict_used[\"initial_centers\"])))\n",
    "    #lets contain the summed sim maps\n",
    "    map_collection = np.zeros((len(track_lengths),len(density_dif),repeats,200,200))\n",
    "\n",
    "    for i in range(len(track_lengths)):\n",
    "        for j in range(len(density_dif)):\n",
    "            for k in range(repeats):\n",
    "                #okay lets make the initial dict\n",
    "                ID_sim, cell_parms_sim, global_sim_params_sim = utility_params_track_diffusion(initial_dict_used,track_lengths[i],mean_track_length,density_dif[j],\"exponential\",1.,track_diffusion)\n",
    "                #lets simulate the data\n",
    "                cell_sim = simulate_cells.Simulate_cells(cell_parms_sim,global_sim_params_sim)\n",
    "                a_sim = cell_sim.get_cell()\n",
    "                \n",
    "                #store the points per frame dict\n",
    "                points_per_frame_collection.append(a_sim[\"points_per_frame\"])\n",
    "                #store the summed map\n",
    "                map_collection[i,j,k] = np.sum(a_sim[\"map\"],axis=0)\n",
    "\n",
    "                #lets get the points per frame dict\n",
    "                points_per_frame_dict = create_all_points(a_sim[\"points_per_frame\"])\n",
    "                #lets perform DBSCAN using the utility function\n",
    "                DBSCAN_TP,DBSCAN_FP,DBSCAN_center_error,DBSCAN_scale_error = DBSCAN_TP_FP_center_scale_error(ID_sim,points_per_frame_dict,D_DBSCAN,minPts_DBSCAN,convert=False)\n",
    "                #lets update the collection\n",
    "                TP_collection_DB[i,j,k] = DBSCAN_TP\n",
    "                FP_collection_DB[i,j,k] = DBSCAN_FP\n",
    "                center_error_collection_DB[i,j,k] = DBSCAN_center_error\n",
    "                scale_error_collection_DB[i,j,k] = DBSCAN_scale_error\n",
    "\n",
    "                #lets perform scale selection on the simulated data\n",
    "                for l in range(len(threshold_changes)):\n",
    "                    c_sim_LD = scale_utility(img_map = np.sum(a_sim[\"map\"],axis=0),threshold = threshold_changes[l])\n",
    "                    #lets get the true positives and errors\n",
    "                    true_positive_num,false_positives,true_center_TP_center_error,true_center_TP_scale_error = true_positive_and_erros(ID_sim,c_sim_LD,center_threshold=1)\n",
    "                    #lets update the collection\n",
    "                    TP_collection_scale[i,j,l,k] = true_positive_num\n",
    "                    FP_collection_scale[i,j,l,k] = false_positives\n",
    "                    center_error_collection_scale[i,j,l,k] = true_center_TP_center_error\n",
    "                    scale_error_collection_scale[i,j,l,k] = true_center_TP_scale_error\n",
    "                #print updates\n",
    "                print(\"Completed: \",i+1,\"/\",len(track_lengths),\" \",j+1,\"/\",len(density_dif),\" \",k+1,\"/\",repeats)\n",
    "    #make a collection of the TP and FP and center and scale errors for DBSCAN and scale selection\n",
    "    DBSCAN_collection = [TP_collection_DB,FP_collection_DB,center_error_collection_DB,scale_error_collection_DB]\n",
    "    scale_collection = [TP_collection_scale,FP_collection_scale,center_error_collection_scale,scale_error_collection_scale]\n",
    "    return DBSCAN_collection,scale_collection,map_collection,points_per_frame_collection\n"
   ]
  },
  {
   "cell_type": "code",
   "execution_count": 28,
   "metadata": {},
   "outputs": [
    {
     "name": "stdout",
     "output_type": "stream",
     "text": [
      "Completed:  1 / 3   1 / 1   1 / 10\n"
     ]
    },
    {
     "name": "stderr",
     "output_type": "stream",
     "text": [
      "/Users/baljyot/opt/anaconda3/envs/py310/lib/python3.10/site-packages/lmfit/minimizer.py:847: RuntimeWarning: invalid value encountered in sqrt\n",
      "  par.stderr = np.sqrt(self.result.covar[ivar, ivar])\n",
      "/Users/baljyot/opt/anaconda3/envs/py310/lib/python3.10/site-packages/lmfit/minimizer.py:854: RuntimeWarning: invalid value encountered in sqrt\n",
      "  (par.stderr * np.sqrt(self.result.covar[jvar, jvar])))\n"
     ]
    },
    {
     "name": "stdout",
     "output_type": "stream",
     "text": [
      "Completed:  1 / 3   1 / 1   2 / 10\n",
      "Completed:  1 / 3   1 / 1   3 / 10\n",
      "Completed:  1 / 3   1 / 1   4 / 10\n",
      "Completed:  1 / 3   1 / 1   5 / 10\n",
      "Completed:  1 / 3   1 / 1   6 / 10\n",
      "Completed:  1 / 3   1 / 1   7 / 10\n",
      "Completed:  1 / 3   1 / 1   8 / 10\n",
      "Completed:  1 / 3   1 / 1   9 / 10\n"
     ]
    },
    {
     "name": "stderr",
     "output_type": "stream",
     "text": [
      "/Users/baljyot/opt/anaconda3/envs/py310/lib/python3.10/site-packages/lmfit/minimizer.py:854: RuntimeWarning: invalid value encountered in sqrt\n",
      "  (par.stderr * np.sqrt(self.result.covar[jvar, jvar])))\n",
      "/Users/baljyot/opt/anaconda3/envs/py310/lib/python3.10/site-packages/lmfit/minimizer.py:847: RuntimeWarning: invalid value encountered in sqrt\n",
      "  par.stderr = np.sqrt(self.result.covar[ivar, ivar])\n"
     ]
    },
    {
     "name": "stdout",
     "output_type": "stream",
     "text": [
      "Completed:  1 / 3   1 / 1   10 / 10\n",
      "Completed:  2 / 3   1 / 1   1 / 10\n",
      "Completed:  2 / 3   1 / 1   2 / 10\n",
      "Completed:  2 / 3   1 / 1   3 / 10\n",
      "Completed:  2 / 3   1 / 1   4 / 10\n",
      "Completed:  2 / 3   1 / 1   5 / 10\n",
      "Completed:  2 / 3   1 / 1   6 / 10\n",
      "Completed:  2 / 3   1 / 1   7 / 10\n",
      "Completed:  2 / 3   1 / 1   8 / 10\n",
      "Completed:  2 / 3   1 / 1   9 / 10\n",
      "Completed:  2 / 3   1 / 1   10 / 10\n",
      "Completed:  3 / 3   1 / 1   1 / 10\n",
      "Completed:  3 / 3   1 / 1   2 / 10\n"
     ]
    },
    {
     "name": "stderr",
     "output_type": "stream",
     "text": [
      "/Users/baljyot/opt/anaconda3/envs/py310/lib/python3.10/site-packages/lmfit/minimizer.py:847: RuntimeWarning: invalid value encountered in sqrt\n",
      "  par.stderr = np.sqrt(self.result.covar[ivar, ivar])\n",
      "/Users/baljyot/opt/anaconda3/envs/py310/lib/python3.10/site-packages/lmfit/minimizer.py:854: RuntimeWarning: invalid value encountered in sqrt\n",
      "  (par.stderr * np.sqrt(self.result.covar[jvar, jvar])))\n"
     ]
    },
    {
     "name": "stdout",
     "output_type": "stream",
     "text": [
      "Completed:  3 / 3   1 / 1   3 / 10\n"
     ]
    },
    {
     "name": "stderr",
     "output_type": "stream",
     "text": [
      "/Users/baljyot/opt/anaconda3/envs/py310/lib/python3.10/site-packages/lmfit/minimizer.py:847: RuntimeWarning: invalid value encountered in sqrt\n",
      "  par.stderr = np.sqrt(self.result.covar[ivar, ivar])\n",
      "/Users/baljyot/opt/anaconda3/envs/py310/lib/python3.10/site-packages/lmfit/minimizer.py:854: RuntimeWarning: invalid value encountered in sqrt\n",
      "  (par.stderr * np.sqrt(self.result.covar[jvar, jvar])))\n"
     ]
    },
    {
     "name": "stdout",
     "output_type": "stream",
     "text": [
      "Completed:  3 / 3   1 / 1   4 / 10\n"
     ]
    },
    {
     "name": "stderr",
     "output_type": "stream",
     "text": [
      "/Users/baljyot/opt/anaconda3/envs/py310/lib/python3.10/site-packages/lmfit/minimizer.py:847: RuntimeWarning: invalid value encountered in sqrt\n",
      "  par.stderr = np.sqrt(self.result.covar[ivar, ivar])\n",
      "/Users/baljyot/opt/anaconda3/envs/py310/lib/python3.10/site-packages/lmfit/minimizer.py:854: RuntimeWarning: invalid value encountered in sqrt\n",
      "  (par.stderr * np.sqrt(self.result.covar[jvar, jvar])))\n"
     ]
    },
    {
     "name": "stdout",
     "output_type": "stream",
     "text": [
      "Completed:  3 / 3   1 / 1   5 / 10\n",
      "Completed:  3 / 3   1 / 1   6 / 10\n",
      "Completed:  3 / 3   1 / 1   7 / 10\n",
      "Completed:  3 / 3   1 / 1   8 / 10\n",
      "Completed:  3 / 3   1 / 1   9 / 10\n",
      "Completed:  3 / 3   1 / 1   10 / 10\n",
      "Finished size: 0.5\n",
      "Completed:  1 / 3   1 / 1   1 / 10\n",
      "Completed:  1 / 3   1 / 1   2 / 10\n",
      "Completed:  1 / 3   1 / 1   3 / 10\n",
      "Completed:  1 / 3   1 / 1   4 / 10\n"
     ]
    },
    {
     "name": "stderr",
     "output_type": "stream",
     "text": [
      "/Users/baljyot/opt/anaconda3/envs/py310/lib/python3.10/site-packages/lmfit/minimizer.py:847: RuntimeWarning: invalid value encountered in sqrt\n",
      "  par.stderr = np.sqrt(self.result.covar[ivar, ivar])\n",
      "/Users/baljyot/opt/anaconda3/envs/py310/lib/python3.10/site-packages/lmfit/minimizer.py:854: RuntimeWarning: invalid value encountered in sqrt\n",
      "  (par.stderr * np.sqrt(self.result.covar[jvar, jvar])))\n"
     ]
    },
    {
     "name": "stdout",
     "output_type": "stream",
     "text": [
      "Completed:  1 / 3   1 / 1   5 / 10\n"
     ]
    },
    {
     "name": "stderr",
     "output_type": "stream",
     "text": [
      "/Users/baljyot/opt/anaconda3/envs/py310/lib/python3.10/site-packages/lmfit/minimizer.py:847: RuntimeWarning: invalid value encountered in sqrt\n",
      "  par.stderr = np.sqrt(self.result.covar[ivar, ivar])\n",
      "/Users/baljyot/opt/anaconda3/envs/py310/lib/python3.10/site-packages/lmfit/minimizer.py:854: RuntimeWarning: invalid value encountered in sqrt\n",
      "  (par.stderr * np.sqrt(self.result.covar[jvar, jvar])))\n"
     ]
    },
    {
     "name": "stdout",
     "output_type": "stream",
     "text": [
      "Completed:  1 / 3   1 / 1   6 / 10\n",
      "Completed:  1 / 3   1 / 1   7 / 10\n",
      "Completed:  1 / 3   1 / 1   8 / 10\n",
      "Completed:  1 / 3   1 / 1   9 / 10\n",
      "Completed:  1 / 3   1 / 1   10 / 10\n"
     ]
    },
    {
     "name": "stderr",
     "output_type": "stream",
     "text": [
      "/Users/baljyot/opt/anaconda3/envs/py310/lib/python3.10/site-packages/lmfit/minimizer.py:847: RuntimeWarning: invalid value encountered in sqrt\n",
      "  par.stderr = np.sqrt(self.result.covar[ivar, ivar])\n",
      "/Users/baljyot/opt/anaconda3/envs/py310/lib/python3.10/site-packages/lmfit/minimizer.py:854: RuntimeWarning: invalid value encountered in sqrt\n",
      "  (par.stderr * np.sqrt(self.result.covar[jvar, jvar])))\n"
     ]
    },
    {
     "name": "stdout",
     "output_type": "stream",
     "text": [
      "Completed:  2 / 3   1 / 1   1 / 10\n",
      "Completed:  2 / 3   1 / 1   2 / 10\n",
      "Completed:  2 / 3   1 / 1   3 / 10\n",
      "Completed:  2 / 3   1 / 1   4 / 10\n"
     ]
    },
    {
     "name": "stderr",
     "output_type": "stream",
     "text": [
      "/Users/baljyot/opt/anaconda3/envs/py310/lib/python3.10/site-packages/lmfit/minimizer.py:854: RuntimeWarning: invalid value encountered in sqrt\n",
      "  (par.stderr * np.sqrt(self.result.covar[jvar, jvar])))\n",
      "/Users/baljyot/opt/anaconda3/envs/py310/lib/python3.10/site-packages/lmfit/minimizer.py:847: RuntimeWarning: invalid value encountered in sqrt\n",
      "  par.stderr = np.sqrt(self.result.covar[ivar, ivar])\n"
     ]
    },
    {
     "name": "stdout",
     "output_type": "stream",
     "text": [
      "Completed:  2 / 3   1 / 1   5 / 10\n",
      "Completed:  2 / 3   1 / 1   6 / 10\n",
      "Completed:  2 / 3   1 / 1   7 / 10\n",
      "Completed:  2 / 3   1 / 1   8 / 10\n"
     ]
    },
    {
     "name": "stderr",
     "output_type": "stream",
     "text": [
      "/Users/baljyot/opt/anaconda3/envs/py310/lib/python3.10/site-packages/lmfit/minimizer.py:847: RuntimeWarning: invalid value encountered in sqrt\n",
      "  par.stderr = np.sqrt(self.result.covar[ivar, ivar])\n",
      "/Users/baljyot/opt/anaconda3/envs/py310/lib/python3.10/site-packages/lmfit/minimizer.py:854: RuntimeWarning: invalid value encountered in sqrt\n",
      "  (par.stderr * np.sqrt(self.result.covar[jvar, jvar])))\n"
     ]
    },
    {
     "name": "stdout",
     "output_type": "stream",
     "text": [
      "Completed:  2 / 3   1 / 1   9 / 10\n",
      "Completed:  2 / 3   1 / 1   10 / 10\n",
      "Completed:  3 / 3   1 / 1   1 / 10\n"
     ]
    },
    {
     "name": "stderr",
     "output_type": "stream",
     "text": [
      "/Users/baljyot/opt/anaconda3/envs/py310/lib/python3.10/site-packages/lmfit/minimizer.py:847: RuntimeWarning: invalid value encountered in sqrt\n",
      "  par.stderr = np.sqrt(self.result.covar[ivar, ivar])\n",
      "/Users/baljyot/opt/anaconda3/envs/py310/lib/python3.10/site-packages/lmfit/minimizer.py:854: RuntimeWarning: invalid value encountered in sqrt\n",
      "  (par.stderr * np.sqrt(self.result.covar[jvar, jvar])))\n"
     ]
    },
    {
     "name": "stdout",
     "output_type": "stream",
     "text": [
      "Completed:  3 / 3   1 / 1   2 / 10\n",
      "Completed:  3 / 3   1 / 1   3 / 10\n",
      "Completed:  3 / 3   1 / 1   4 / 10\n",
      "Completed:  3 / 3   1 / 1   5 / 10\n",
      "Completed:  3 / 3   1 / 1   6 / 10\n"
     ]
    },
    {
     "name": "stderr",
     "output_type": "stream",
     "text": [
      "/Users/baljyot/opt/anaconda3/envs/py310/lib/python3.10/site-packages/lmfit/minimizer.py:847: RuntimeWarning: invalid value encountered in sqrt\n",
      "  par.stderr = np.sqrt(self.result.covar[ivar, ivar])\n",
      "/Users/baljyot/opt/anaconda3/envs/py310/lib/python3.10/site-packages/lmfit/minimizer.py:854: RuntimeWarning: invalid value encountered in sqrt\n",
      "  (par.stderr * np.sqrt(self.result.covar[jvar, jvar])))\n"
     ]
    },
    {
     "name": "stdout",
     "output_type": "stream",
     "text": [
      "Completed:  3 / 3   1 / 1   7 / 10\n",
      "Completed:  3 / 3   1 / 1   8 / 10\n",
      "Completed:  3 / 3   1 / 1   9 / 10\n",
      "Completed:  3 / 3   1 / 1   10 / 10\n",
      "Finished size: 1.0\n",
      "Completed:  1 / 3   1 / 1   1 / 10\n",
      "Completed:  1 / 3   1 / 1   2 / 10\n"
     ]
    },
    {
     "name": "stderr",
     "output_type": "stream",
     "text": [
      "/Users/baljyot/opt/anaconda3/envs/py310/lib/python3.10/site-packages/lmfit/minimizer.py:847: RuntimeWarning: invalid value encountered in sqrt\n",
      "  par.stderr = np.sqrt(self.result.covar[ivar, ivar])\n",
      "/Users/baljyot/opt/anaconda3/envs/py310/lib/python3.10/site-packages/lmfit/minimizer.py:854: RuntimeWarning: invalid value encountered in sqrt\n",
      "  (par.stderr * np.sqrt(self.result.covar[jvar, jvar])))\n"
     ]
    },
    {
     "name": "stdout",
     "output_type": "stream",
     "text": [
      "Completed:  1 / 3   1 / 1   3 / 10\n",
      "Completed:  1 / 3   1 / 1   4 / 10\n",
      "Completed:  1 / 3   1 / 1   5 / 10\n",
      "Completed:  1 / 3   1 / 1   6 / 10\n",
      "Completed:  1 / 3   1 / 1   7 / 10\n",
      "Completed:  1 / 3   1 / 1   8 / 10\n",
      "Completed:  1 / 3   1 / 1   9 / 10\n",
      "Completed:  1 / 3   1 / 1   10 / 10\n",
      "Completed:  2 / 3   1 / 1   1 / 10\n",
      "Completed:  2 / 3   1 / 1   2 / 10\n",
      "Completed:  2 / 3   1 / 1   3 / 10\n",
      "Completed:  2 / 3   1 / 1   4 / 10\n",
      "Completed:  2 / 3   1 / 1   5 / 10\n",
      "Completed:  2 / 3   1 / 1   6 / 10\n",
      "Completed:  2 / 3   1 / 1   7 / 10\n",
      "Completed:  2 / 3   1 / 1   8 / 10\n",
      "Completed:  2 / 3   1 / 1   9 / 10\n",
      "Completed:  2 / 3   1 / 1   10 / 10\n",
      "Completed:  3 / 3   1 / 1   1 / 10\n",
      "Completed:  3 / 3   1 / 1   2 / 10\n",
      "Completed:  3 / 3   1 / 1   3 / 10\n"
     ]
    },
    {
     "name": "stderr",
     "output_type": "stream",
     "text": [
      "/Users/baljyot/opt/anaconda3/envs/py310/lib/python3.10/site-packages/lmfit/minimizer.py:847: RuntimeWarning: invalid value encountered in sqrt\n",
      "  par.stderr = np.sqrt(self.result.covar[ivar, ivar])\n",
      "/Users/baljyot/opt/anaconda3/envs/py310/lib/python3.10/site-packages/lmfit/minimizer.py:854: RuntimeWarning: invalid value encountered in sqrt\n",
      "  (par.stderr * np.sqrt(self.result.covar[jvar, jvar])))\n"
     ]
    },
    {
     "name": "stdout",
     "output_type": "stream",
     "text": [
      "Completed:  3 / 3   1 / 1   4 / 10\n",
      "Completed:  3 / 3   1 / 1   5 / 10\n",
      "Completed:  3 / 3   1 / 1   6 / 10\n",
      "Completed:  3 / 3   1 / 1   7 / 10\n"
     ]
    },
    {
     "name": "stderr",
     "output_type": "stream",
     "text": [
      "/Users/baljyot/opt/anaconda3/envs/py310/lib/python3.10/site-packages/lmfit/minimizer.py:847: RuntimeWarning: invalid value encountered in sqrt\n",
      "  par.stderr = np.sqrt(self.result.covar[ivar, ivar])\n",
      "/Users/baljyot/opt/anaconda3/envs/py310/lib/python3.10/site-packages/lmfit/minimizer.py:854: RuntimeWarning: invalid value encountered in sqrt\n",
      "  (par.stderr * np.sqrt(self.result.covar[jvar, jvar])))\n"
     ]
    },
    {
     "name": "stdout",
     "output_type": "stream",
     "text": [
      "Completed:  3 / 3   1 / 1   8 / 10\n",
      "Completed:  3 / 3   1 / 1   9 / 10\n",
      "Completed:  3 / 3   1 / 1   10 / 10\n",
      "Finished size: 1.5\n",
      "Completed:  1 / 3   1 / 1   1 / 10\n",
      "Completed:  1 / 3   1 / 1   2 / 10\n",
      "Completed:  1 / 3   1 / 1   3 / 10\n",
      "Completed:  1 / 3   1 / 1   4 / 10\n"
     ]
    },
    {
     "name": "stderr",
     "output_type": "stream",
     "text": [
      "/Users/baljyot/opt/anaconda3/envs/py310/lib/python3.10/site-packages/lmfit/minimizer.py:847: RuntimeWarning: invalid value encountered in sqrt\n",
      "  par.stderr = np.sqrt(self.result.covar[ivar, ivar])\n",
      "/Users/baljyot/opt/anaconda3/envs/py310/lib/python3.10/site-packages/lmfit/minimizer.py:854: RuntimeWarning: invalid value encountered in sqrt\n",
      "  (par.stderr * np.sqrt(self.result.covar[jvar, jvar])))\n"
     ]
    },
    {
     "name": "stdout",
     "output_type": "stream",
     "text": [
      "Completed:  1 / 3   1 / 1   5 / 10\n"
     ]
    },
    {
     "name": "stderr",
     "output_type": "stream",
     "text": [
      "/Users/baljyot/opt/anaconda3/envs/py310/lib/python3.10/site-packages/lmfit/minimizer.py:854: RuntimeWarning: invalid value encountered in sqrt\n",
      "  (par.stderr * np.sqrt(self.result.covar[jvar, jvar])))\n",
      "/Users/baljyot/opt/anaconda3/envs/py310/lib/python3.10/site-packages/lmfit/minimizer.py:847: RuntimeWarning: invalid value encountered in sqrt\n",
      "  par.stderr = np.sqrt(self.result.covar[ivar, ivar])\n"
     ]
    },
    {
     "name": "stdout",
     "output_type": "stream",
     "text": [
      "Completed:  1 / 3   1 / 1   6 / 10\n",
      "Completed:  1 / 3   1 / 1   7 / 10\n",
      "Completed:  1 / 3   1 / 1   8 / 10\n",
      "Completed:  1 / 3   1 / 1   9 / 10\n",
      "Completed:  1 / 3   1 / 1   10 / 10\n",
      "Completed:  2 / 3   1 / 1   1 / 10\n",
      "Completed:  2 / 3   1 / 1   2 / 10\n",
      "Completed:  2 / 3   1 / 1   3 / 10\n"
     ]
    },
    {
     "name": "stderr",
     "output_type": "stream",
     "text": [
      "/Users/baljyot/opt/anaconda3/envs/py310/lib/python3.10/site-packages/lmfit/minimizer.py:847: RuntimeWarning: invalid value encountered in sqrt\n",
      "  par.stderr = np.sqrt(self.result.covar[ivar, ivar])\n",
      "/Users/baljyot/opt/anaconda3/envs/py310/lib/python3.10/site-packages/lmfit/minimizer.py:854: RuntimeWarning: invalid value encountered in sqrt\n",
      "  (par.stderr * np.sqrt(self.result.covar[jvar, jvar])))\n"
     ]
    },
    {
     "name": "stdout",
     "output_type": "stream",
     "text": [
      "Completed:  2 / 3   1 / 1   4 / 10\n",
      "Completed:  2 / 3   1 / 1   5 / 10\n",
      "Completed:  2 / 3   1 / 1   6 / 10\n",
      "Completed:  2 / 3   1 / 1   7 / 10\n"
     ]
    },
    {
     "name": "stderr",
     "output_type": "stream",
     "text": [
      "/Users/baljyot/opt/anaconda3/envs/py310/lib/python3.10/site-packages/lmfit/minimizer.py:847: RuntimeWarning: invalid value encountered in sqrt\n",
      "  par.stderr = np.sqrt(self.result.covar[ivar, ivar])\n",
      "/Users/baljyot/opt/anaconda3/envs/py310/lib/python3.10/site-packages/lmfit/minimizer.py:854: RuntimeWarning: invalid value encountered in sqrt\n",
      "  (par.stderr * np.sqrt(self.result.covar[jvar, jvar])))\n"
     ]
    },
    {
     "name": "stdout",
     "output_type": "stream",
     "text": [
      "Completed:  2 / 3   1 / 1   8 / 10\n",
      "Completed:  2 / 3   1 / 1   9 / 10\n"
     ]
    },
    {
     "name": "stderr",
     "output_type": "stream",
     "text": [
      "/Users/baljyot/opt/anaconda3/envs/py310/lib/python3.10/site-packages/lmfit/minimizer.py:847: RuntimeWarning: invalid value encountered in sqrt\n",
      "  par.stderr = np.sqrt(self.result.covar[ivar, ivar])\n",
      "/Users/baljyot/opt/anaconda3/envs/py310/lib/python3.10/site-packages/lmfit/minimizer.py:854: RuntimeWarning: invalid value encountered in sqrt\n",
      "  (par.stderr * np.sqrt(self.result.covar[jvar, jvar])))\n"
     ]
    },
    {
     "name": "stdout",
     "output_type": "stream",
     "text": [
      "Completed:  2 / 3   1 / 1   10 / 10\n",
      "Completed:  3 / 3   1 / 1   1 / 10\n",
      "Completed:  3 / 3   1 / 1   2 / 10\n"
     ]
    },
    {
     "name": "stderr",
     "output_type": "stream",
     "text": [
      "/Users/baljyot/opt/anaconda3/envs/py310/lib/python3.10/site-packages/lmfit/minimizer.py:854: RuntimeWarning: invalid value encountered in sqrt\n",
      "  (par.stderr * np.sqrt(self.result.covar[jvar, jvar])))\n",
      "/Users/baljyot/opt/anaconda3/envs/py310/lib/python3.10/site-packages/lmfit/minimizer.py:847: RuntimeWarning: invalid value encountered in sqrt\n",
      "  par.stderr = np.sqrt(self.result.covar[ivar, ivar])\n"
     ]
    },
    {
     "name": "stdout",
     "output_type": "stream",
     "text": [
      "Completed:  3 / 3   1 / 1   3 / 10\n",
      "Completed:  3 / 3   1 / 1   4 / 10\n"
     ]
    },
    {
     "name": "stderr",
     "output_type": "stream",
     "text": [
      "/Users/baljyot/opt/anaconda3/envs/py310/lib/python3.10/site-packages/lmfit/minimizer.py:847: RuntimeWarning: invalid value encountered in sqrt\n",
      "  par.stderr = np.sqrt(self.result.covar[ivar, ivar])\n",
      "/Users/baljyot/opt/anaconda3/envs/py310/lib/python3.10/site-packages/lmfit/minimizer.py:854: RuntimeWarning: invalid value encountered in sqrt\n",
      "  (par.stderr * np.sqrt(self.result.covar[jvar, jvar])))\n"
     ]
    },
    {
     "name": "stdout",
     "output_type": "stream",
     "text": [
      "Completed:  3 / 3   1 / 1   5 / 10\n",
      "Completed:  3 / 3   1 / 1   6 / 10\n",
      "Completed:  3 / 3   1 / 1   7 / 10\n"
     ]
    },
    {
     "name": "stderr",
     "output_type": "stream",
     "text": [
      "/Users/baljyot/opt/anaconda3/envs/py310/lib/python3.10/site-packages/lmfit/minimizer.py:854: RuntimeWarning: invalid value encountered in sqrt\n",
      "  (par.stderr * np.sqrt(self.result.covar[jvar, jvar])))\n",
      "/Users/baljyot/opt/anaconda3/envs/py310/lib/python3.10/site-packages/lmfit/minimizer.py:847: RuntimeWarning: invalid value encountered in sqrt\n",
      "  par.stderr = np.sqrt(self.result.covar[ivar, ivar])\n"
     ]
    },
    {
     "name": "stdout",
     "output_type": "stream",
     "text": [
      "Completed:  3 / 3   1 / 1   8 / 10\n"
     ]
    },
    {
     "name": "stderr",
     "output_type": "stream",
     "text": [
      "/Users/baljyot/opt/anaconda3/envs/py310/lib/python3.10/site-packages/lmfit/minimizer.py:854: RuntimeWarning: invalid value encountered in sqrt\n",
      "  (par.stderr * np.sqrt(self.result.covar[jvar, jvar])))\n",
      "/Users/baljyot/opt/anaconda3/envs/py310/lib/python3.10/site-packages/lmfit/minimizer.py:847: RuntimeWarning: invalid value encountered in sqrt\n",
      "  par.stderr = np.sqrt(self.result.covar[ivar, ivar])\n"
     ]
    },
    {
     "name": "stdout",
     "output_type": "stream",
     "text": [
      "Completed:  3 / 3   1 / 1   9 / 10\n",
      "Completed:  3 / 3   1 / 1   10 / 10\n",
      "Finished size: 2.0\n",
      "Completed:  1 / 3   1 / 1   1 / 10\n",
      "Completed:  1 / 3   1 / 1   2 / 10\n",
      "Completed:  1 / 3   1 / 1   3 / 10\n",
      "Completed:  1 / 3   1 / 1   4 / 10\n",
      "Completed:  1 / 3   1 / 1   5 / 10\n",
      "Completed:  1 / 3   1 / 1   6 / 10\n",
      "Completed:  1 / 3   1 / 1   7 / 10\n",
      "Completed:  1 / 3   1 / 1   8 / 10\n",
      "Completed:  1 / 3   1 / 1   9 / 10\n",
      "Completed:  1 / 3   1 / 1   10 / 10\n",
      "Completed:  2 / 3   1 / 1   1 / 10\n",
      "Completed:  2 / 3   1 / 1   2 / 10\n",
      "Completed:  2 / 3   1 / 1   3 / 10\n",
      "Completed:  2 / 3   1 / 1   4 / 10\n"
     ]
    },
    {
     "name": "stderr",
     "output_type": "stream",
     "text": [
      "/Users/baljyot/opt/anaconda3/envs/py310/lib/python3.10/site-packages/lmfit/minimizer.py:847: RuntimeWarning: invalid value encountered in sqrt\n",
      "  par.stderr = np.sqrt(self.result.covar[ivar, ivar])\n",
      "/Users/baljyot/opt/anaconda3/envs/py310/lib/python3.10/site-packages/lmfit/minimizer.py:854: RuntimeWarning: invalid value encountered in sqrt\n",
      "  (par.stderr * np.sqrt(self.result.covar[jvar, jvar])))\n"
     ]
    },
    {
     "name": "stdout",
     "output_type": "stream",
     "text": [
      "Completed:  2 / 3   1 / 1   5 / 10\n",
      "Completed:  2 / 3   1 / 1   6 / 10\n",
      "Completed:  2 / 3   1 / 1   7 / 10\n",
      "Completed:  2 / 3   1 / 1   8 / 10\n",
      "Completed:  2 / 3   1 / 1   9 / 10\n",
      "Completed:  2 / 3   1 / 1   10 / 10\n",
      "Completed:  3 / 3   1 / 1   1 / 10\n",
      "Completed:  3 / 3   1 / 1   2 / 10\n",
      "Completed:  3 / 3   1 / 1   3 / 10\n"
     ]
    },
    {
     "name": "stderr",
     "output_type": "stream",
     "text": [
      "/Users/baljyot/opt/anaconda3/envs/py310/lib/python3.10/site-packages/lmfit/minimizer.py:847: RuntimeWarning: invalid value encountered in sqrt\n",
      "  par.stderr = np.sqrt(self.result.covar[ivar, ivar])\n",
      "/Users/baljyot/opt/anaconda3/envs/py310/lib/python3.10/site-packages/lmfit/minimizer.py:854: RuntimeWarning: invalid value encountered in sqrt\n",
      "  (par.stderr * np.sqrt(self.result.covar[jvar, jvar])))\n"
     ]
    },
    {
     "name": "stdout",
     "output_type": "stream",
     "text": [
      "Completed:  3 / 3   1 / 1   4 / 10\n",
      "Completed:  3 / 3   1 / 1   5 / 10\n",
      "Completed:  3 / 3   1 / 1   6 / 10\n"
     ]
    },
    {
     "name": "stderr",
     "output_type": "stream",
     "text": [
      "/Users/baljyot/opt/anaconda3/envs/py310/lib/python3.10/site-packages/lmfit/minimizer.py:847: RuntimeWarning: invalid value encountered in sqrt\n",
      "  par.stderr = np.sqrt(self.result.covar[ivar, ivar])\n",
      "/Users/baljyot/opt/anaconda3/envs/py310/lib/python3.10/site-packages/lmfit/minimizer.py:854: RuntimeWarning: invalid value encountered in sqrt\n",
      "  (par.stderr * np.sqrt(self.result.covar[jvar, jvar])))\n"
     ]
    },
    {
     "name": "stdout",
     "output_type": "stream",
     "text": [
      "Completed:  3 / 3   1 / 1   7 / 10\n",
      "Completed:  3 / 3   1 / 1   8 / 10\n",
      "Completed:  3 / 3   1 / 1   9 / 10\n",
      "Completed:  3 / 3   1 / 1   10 / 10\n",
      "Finished size: 2.5\n"
     ]
    }
   ],
   "source": [
    "track_lengths = [300,600,1000]\n",
    "density_dif = [10]\n",
    "repeats = 10\n",
    "threshold_range = [1e3]\n",
    "D_DBSCAN = 0.5\n",
    "minP_DBSCAN = 5\n",
    "sizes_condensates = np.arange(0.5,3,0.5)\n",
    "diffusion_coefficient_0 = 0\n",
    "track_diffusion = 0.1\n",
    "hurst_035 = 0.2\n",
    "initial_dict_collection_sizes = utility_condensate_size_initial_dict(sizes=sizes_condensates,\n",
    "                                                                    diffusion_coefficient=diffusion_coefficient_0,\n",
    "                                                                    hurst_exponent=hurst_035)\n",
    "\n",
    "collection_sizes_sim_results = []\n",
    "for i in range(len(sizes_condensates)):\n",
    "    temp = perform_sim_for_diff_thresholds_diffusion_track(\n",
    "            track_lengths=track_lengths,\n",
    "            density_dif=density_dif,\n",
    "            threshold_changes=threshold_range,\n",
    "            repeats=repeats,\n",
    "            initial_dict_used=initial_dict_collection_sizes[i],\n",
    "            D_DBSCAN=D_DBSCAN,\n",
    "            minPts_DBSCAN=minP_DBSCAN,\n",
    "            track_diffusion=track_diffusion)\n",
    "    collection_sizes_sim_results.append([temp])\n",
    "    print('Finished size: ' + str(sizes_condensates[i]))"
   ]
  },
  {
   "cell_type": "code",
   "execution_count": 29,
   "metadata": {},
   "outputs": [],
   "source": [
    "SAVE = True\n",
    "\n",
    "if SAVE == True:\n",
    "    with open('/Users/baljyot/Documents/2022-2023/PhD_Thesis/Figures/Chapter_3/Figure_6/track_diffusion_01/collection_sizes_sim_results.pkl', 'wb') as f:\n",
    "        pickle.dump(collection_sizes_sim_results, f)\n",
    "    with open('/Users/baljyot/Documents/2022-2023/PhD_Thesis/Figures/Chapter_3/Figure_6/track_diffusion_01/collection_sizes_sim_params.pkl', 'wb') as f:\n",
    "        collection_sizes_sim_params = [track_lengths,density_dif,repeats,threshold_range,D_DBSCAN,minP_DBSCAN,sizes_condensates,diffusion_coefficient_0,hurst_035,initial_dict_collection_sizes,track_diffusion]\n",
    "        pickle.dump(collection_sizes_sim_params, f)\n"
   ]
  },
  {
   "cell_type": "code",
   "execution_count": 8,
   "metadata": {},
   "outputs": [
    {
     "name": "stdout",
     "output_type": "stream",
     "text": [
      "Completed:  1 / 3   1 / 1   1 / 10\n",
      "Completed:  1 / 3   1 / 1   2 / 10\n",
      "Completed:  1 / 3   1 / 1   3 / 10\n",
      "Completed:  1 / 3   1 / 1   4 / 10\n",
      "Completed:  1 / 3   1 / 1   5 / 10\n",
      "Completed:  1 / 3   1 / 1   6 / 10\n",
      "Completed:  1 / 3   1 / 1   7 / 10\n",
      "Completed:  1 / 3   1 / 1   8 / 10\n"
     ]
    },
    {
     "name": "stderr",
     "output_type": "stream",
     "text": [
      "/Users/baljyot/opt/anaconda3/envs/py310/lib/python3.10/site-packages/lmfit/minimizer.py:854: RuntimeWarning: invalid value encountered in sqrt\n",
      "  (par.stderr * np.sqrt(self.result.covar[jvar, jvar])))\n",
      "/Users/baljyot/opt/anaconda3/envs/py310/lib/python3.10/site-packages/lmfit/minimizer.py:847: RuntimeWarning: invalid value encountered in sqrt\n",
      "  par.stderr = np.sqrt(self.result.covar[ivar, ivar])\n"
     ]
    },
    {
     "name": "stdout",
     "output_type": "stream",
     "text": [
      "Completed:  1 / 3   1 / 1   9 / 10\n",
      "Completed:  1 / 3   1 / 1   10 / 10\n",
      "Completed:  2 / 3   1 / 1   1 / 10\n",
      "Completed:  2 / 3   1 / 1   2 / 10\n",
      "Completed:  2 / 3   1 / 1   3 / 10\n",
      "Completed:  2 / 3   1 / 1   4 / 10\n",
      "Completed:  2 / 3   1 / 1   5 / 10\n",
      "Completed:  2 / 3   1 / 1   6 / 10\n",
      "Completed:  2 / 3   1 / 1   7 / 10\n",
      "Completed:  2 / 3   1 / 1   8 / 10\n",
      "Completed:  2 / 3   1 / 1   9 / 10\n",
      "Completed:  2 / 3   1 / 1   10 / 10\n",
      "Completed:  3 / 3   1 / 1   1 / 10\n",
      "Completed:  3 / 3   1 / 1   2 / 10\n",
      "Completed:  3 / 3   1 / 1   3 / 10\n",
      "Completed:  3 / 3   1 / 1   4 / 10\n",
      "Completed:  3 / 3   1 / 1   5 / 10\n",
      "Completed:  3 / 3   1 / 1   6 / 10\n",
      "Completed:  3 / 3   1 / 1   7 / 10\n",
      "Completed:  3 / 3   1 / 1   8 / 10\n",
      "Completed:  3 / 3   1 / 1   9 / 10\n",
      "Completed:  3 / 3   1 / 1   10 / 10\n",
      "Finished size: 1.0\n",
      "Completed:  1 / 3   1 / 1   1 / 10\n",
      "Completed:  1 / 3   1 / 1   2 / 10\n",
      "Completed:  1 / 3   1 / 1   3 / 10\n",
      "Completed:  1 / 3   1 / 1   4 / 10\n",
      "Completed:  1 / 3   1 / 1   5 / 10\n",
      "Completed:  1 / 3   1 / 1   6 / 10\n",
      "Completed:  1 / 3   1 / 1   7 / 10\n",
      "Completed:  1 / 3   1 / 1   8 / 10\n",
      "Completed:  1 / 3   1 / 1   9 / 10\n",
      "Completed:  1 / 3   1 / 1   10 / 10\n",
      "Completed:  2 / 3   1 / 1   1 / 10\n",
      "Completed:  2 / 3   1 / 1   2 / 10\n",
      "Completed:  2 / 3   1 / 1   3 / 10\n",
      "Completed:  2 / 3   1 / 1   4 / 10\n",
      "Completed:  2 / 3   1 / 1   5 / 10\n",
      "Completed:  2 / 3   1 / 1   6 / 10\n"
     ]
    },
    {
     "name": "stderr",
     "output_type": "stream",
     "text": [
      "/Users/baljyot/opt/anaconda3/envs/py310/lib/python3.10/site-packages/lmfit/minimizer.py:847: RuntimeWarning: invalid value encountered in sqrt\n",
      "  par.stderr = np.sqrt(self.result.covar[ivar, ivar])\n",
      "/Users/baljyot/opt/anaconda3/envs/py310/lib/python3.10/site-packages/lmfit/minimizer.py:854: RuntimeWarning: invalid value encountered in sqrt\n",
      "  (par.stderr * np.sqrt(self.result.covar[jvar, jvar])))\n"
     ]
    },
    {
     "name": "stdout",
     "output_type": "stream",
     "text": [
      "Completed:  2 / 3   1 / 1   7 / 10\n",
      "Completed:  2 / 3   1 / 1   8 / 10\n",
      "Completed:  2 / 3   1 / 1   9 / 10\n",
      "Completed:  2 / 3   1 / 1   10 / 10\n",
      "Completed:  3 / 3   1 / 1   1 / 10\n",
      "Completed:  3 / 3   1 / 1   2 / 10\n",
      "Completed:  3 / 3   1 / 1   3 / 10\n",
      "Completed:  3 / 3   1 / 1   4 / 10\n",
      "Completed:  3 / 3   1 / 1   5 / 10\n",
      "Completed:  3 / 3   1 / 1   6 / 10\n"
     ]
    }
   ],
   "source": [
    "track_lengths = [300,600,1000]\n",
    "density_dif = [10]\n",
    "repeats = 10\n",
    "threshold_range = [1e3]\n",
    "D_DBSCAN = 0.5\n",
    "minP_DBSCAN = 5\n",
    "sizes_condensates = np.arange(1,3,0.5)\n",
    "diffusion_coefficient_0 = 0\n",
    "track_diffusion = 0.6\n",
    "hurst_035 = 0.2\n",
    "initial_dict_collection_sizes = utility_condensate_size_initial_dict(sizes=sizes_condensates,\n",
    "                                                                    diffusion_coefficient=diffusion_coefficient_0,\n",
    "                                                                    hurst_exponent=hurst_035)\n",
    "\n",
    "collection_sizes_sim_results = []\n",
    "for i in range(len(sizes_condensates)):\n",
    "    temp = perform_sim_for_diff_thresholds_diffusion_track(\n",
    "            track_lengths=track_lengths,\n",
    "            density_dif=density_dif,\n",
    "            threshold_changes=threshold_range,\n",
    "            repeats=repeats,\n",
    "            initial_dict_used=initial_dict_collection_sizes[i],\n",
    "            D_DBSCAN=D_DBSCAN,\n",
    "            minPts_DBSCAN=minP_DBSCAN,\n",
    "            track_diffusion=track_diffusion)\n",
    "    collection_sizes_sim_results.append([temp])\n",
    "    print('Finished size: ' + str(sizes_condensates[i]))"
   ]
  },
  {
   "cell_type": "code",
   "execution_count": null,
   "metadata": {},
   "outputs": [],
   "source": [
    "SAVE = True\n",
    "\n",
    "if SAVE == True:\n",
    "    with open('/Users/baljyot/Documents/2022-2023/PhD_Thesis/Figures/Chapter_3/Figure_6/track_diffusion_1/collection_sizes_sim_results.pkl', 'wb') as f:\n",
    "        pickle.dump(collection_sizes_sim_results, f)\n",
    "    with open('/Users/baljyot/Documents/2022-2023/PhD_Thesis/Figures/Chapter_3/Figure_6/track_diffusion_1/collection_sizes_sim_params.pkl', 'wb') as f:\n",
    "        collection_sizes_sim_params = [track_lengths,density_dif,repeats,threshold_range,D_DBSCAN,minP_DBSCAN,sizes_condensates,diffusion_coefficient_0,hurst_035,initial_dict_collection_sizes,track_diffusion]\n",
    "        pickle.dump(collection_sizes_sim_params, f)"
   ]
  },
  {
   "cell_type": "code",
   "execution_count": null,
   "metadata": {},
   "outputs": [],
   "source": [
    "track_lengths = [300,600,1000]\n",
    "density_dif = [10]\n",
    "repeats = 10\n",
    "threshold_range = [1e3]\n",
    "D_DBSCAN = 0.5\n",
    "minP_DBSCAN = 5\n",
    "sizes_condensates = np.arange(0.5,3,0.5)\n",
    "diffusion_coefficient_0 = 0\n",
    "track_diffusion = 1\n",
    "hurst_035 = 0.2\n",
    "initial_dict_collection_sizes = utility_condensate_size_initial_dict(sizes=sizes_condensates,\n",
    "                                                                    diffusion_coefficient=diffusion_coefficient_0,\n",
    "                                                                    hurst_exponent=hurst_035)\n",
    "\n",
    "collection_sizes_sim_results = []\n",
    "for i in range(len(sizes_condensates)):\n",
    "    temp = perform_sim_for_diff_thresholds_diffusion_track(\n",
    "            track_lengths=track_lengths,\n",
    "            density_dif=density_dif,\n",
    "            threshold_changes=threshold_range,\n",
    "            repeats=repeats,\n",
    "            initial_dict_used=initial_dict_collection_sizes[i],\n",
    "            D_DBSCAN=D_DBSCAN,\n",
    "            minPts_DBSCAN=minP_DBSCAN,\n",
    "            track_diffusion=track_diffusion)\n",
    "    collection_sizes_sim_results.append([temp])\n",
    "    print('Finished size: ' + str(sizes_condensates[i]))"
   ]
  },
  {
   "cell_type": "code",
   "execution_count": null,
   "metadata": {},
   "outputs": [],
   "source": [
    "SAVE = True\n",
    "\n",
    "if SAVE == True:\n",
    "    with open('/Users/baljyot/Documents/2022-2023/PhD_Thesis/Figures/Chapter_3/Figure_6/track_diffusion_1/collection_sizes_sim_results.pkl', 'wb') as f:\n",
    "        pickle.dump(collection_sizes_sim_results, f)\n",
    "    with open('/Users/baljyot/Documents/2022-2023/PhD_Thesis/Figures/Chapter_3/Figure_6/track_diffusion_1/collection_sizes_sim_params.pkl', 'wb') as f:\n",
    "        collection_sizes_sim_params = [track_lengths,density_dif,repeats,threshold_range,D_DBSCAN,minP_DBSCAN,sizes_condensates,diffusion_coefficient_0,hurst_035,initial_dict_collection_sizes,track_diffusion]\n",
    "        pickle.dump(collection_sizes_sim_params, f)"
   ]
  },
  {
   "cell_type": "code",
   "execution_count": 27,
   "metadata": {},
   "outputs": [
    {
     "data": {
      "text/plain": [
       "<matplotlib.image.AxesImage at 0x17c11e950>"
      ]
     },
     "execution_count": 27,
     "metadata": {},
     "output_type": "execute_result"
    },
    {
     "data": {
      "image/png": "[encoded data removed]",
      "text/plain": [
       "<Figure size 640x480 with 1 Axes>"
      ]
     },
     "metadata": {},
     "output_type": "display_data"
    }
   ],
   "source": [
    "plt.imshow(collection_sizes_sim_results[0][0][2][0][0][0])"
   ]
  },
  {
   "cell_type": "code",
   "execution_count": 7,
   "metadata": {},
   "outputs": [],
   "source": [
    "with open(\"/Users/baljyot/Documents/2022-2023/PhD_Thesis/Figures/Chapter_3/Figure_6/track_diffusion_01/collection_sizes_sim_results.pkl\",'rb') as f:\n",
    "    collection_sizes_sim_results = pickle.load(f)\n"
   ]
  },
  {
   "cell_type": "code",
   "execution_count": 19,
   "metadata": {},
   "outputs": [
    {
     "data": {
      "text/plain": [
       "array([[[[[0.62743225],\n",
       "          [0.82810434],\n",
       "          [       nan],\n",
       "          [0.46811158],\n",
       "          [0.54285733],\n",
       "          [0.72376599],\n",
       "          [0.14427936],\n",
       "          [       nan],\n",
       "          [0.34618695],\n",
       "          [0.2666779 ]]]],\n",
       "\n",
       "\n",
       "\n",
       "       [[[[       nan],\n",
       "          [0.42551021],\n",
       "          [0.20084809],\n",
       "          [0.1812645 ],\n",
       "          [0.28188058],\n",
       "          [0.13025226],\n",
       "          [0.23390199],\n",
       "          [0.30427839],\n",
       "          [0.62088979],\n",
       "          [0.32058834]]]],\n",
       "\n",
       "\n",
       "\n",
       "       [[[[0.2146447 ],\n",
       "          [0.18087351],\n",
       "          [0.55845638],\n",
       "          [0.24342808],\n",
       "          [0.20070227],\n",
       "          [0.09734511],\n",
       "          [0.73075451],\n",
       "          [0.27285998],\n",
       "          [0.30290416],\n",
       "          [0.24050309]]]]])"
      ]
     },
     "execution_count": 19,
     "metadata": {},
     "output_type": "execute_result"
    }
   ],
   "source": [
    "collection_sizes_sim_results[1][0][1][2]"
   ]
  },
  {
   "cell_type": "code",
   "execution_count": null,
   "metadata": {},
   "outputs": [],
   "source": []
  }
 ],
 "metadata": {
  "kernelspec": {
   "display_name": "py310",
   "language": "python",
   "name": "python3"
  },
  "language_info": {
   "codemirror_mode": {
    "name": "ipython",
    "version": 3
   },
   "file_extension": ".py",
   "mimetype": "text/x-python",
   "name": "python",
   "nbconvert_exporter": "python",
   "pygments_lexer": "ipython3",
   "version": "3.10.4"
  },
  "orig_nbformat": 4
 },
 "nbformat": 4,
 "nbformat_minor": 2
}
