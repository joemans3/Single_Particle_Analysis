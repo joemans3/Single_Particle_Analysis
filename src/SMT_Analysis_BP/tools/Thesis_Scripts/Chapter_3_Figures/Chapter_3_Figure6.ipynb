{
 "cells": [
  {
   "cell_type": "code",
   "execution_count": 1,
   "metadata": {},
   "outputs": [],
   "source": [
    "if __name__==\"__main__\":\n",
    "\timport sys\n",
    "\tsys.path.append('/Users/baljyot/Documents/CODE/GitHub_t2/Baljyot_EXP_RPOC/Scripts')"
   ]
  },
  {
   "cell_type": "code",
   "execution_count": 2,
   "metadata": {},
   "outputs": [],
   "source": [
    "import numpy as np\n",
    "import os\n",
    "import scipy.stats as stats\n",
    "import matplotlib.pyplot as plt\n",
    "import tifffile as tiff\n",
    "from src.SMT_Analysis_BP.helpers.Analysis_functions import *\n",
    "from src.SMT_Analysis_BP.helpers.blob_detection import *\n",
    "from skimage import io\n",
    "#import curve_fit \n",
    "from scipy.optimize import curve_fit\n",
    "import src.SMT_Analysis_BP.helpers.fbm_utility as fbm_utility\n",
    "import src.SMT_Analysis_BP.helpers.simulate_foci as simulate_foci\n",
    "import src.SMT_Analysis_BP.helpers.simulate_cells as simulate_cells\n",
    "import src.SMT_Analysis_BP.helpers.SMT_converters as smt\n",
    "import src.SMT_Analysis_BP.helpers.smallestenclosingcircle as smallestenclosingcircle\n",
    "#import convexhull\n",
    "from scipy.spatial import ConvexHull\n",
    "from sklearn.cluster import DBSCAN\n",
    "import pickle"
   ]
  },
  {
   "cell_type": "code",
   "execution_count": 30,
   "metadata": {},
   "outputs": [],
   "source": [
    "initial_dict = {\n",
    "    \"initial_centers\":np.array([[30,15]]),\n",
    "    \"initial_scale\": np.array([2.]),\n",
    "    \"diffusion_coefficient\": np.array([0]),\n",
    "    \"hurst_exponent\": np.array([0.5])  \n",
    "}\n",
    "cell_parms = {\n",
    "    \"diffusion_coefficients\":np.array(list(0.09*np.ones(1000))),\n",
    "    \"initials\": initial_dict,\n",
    "    \"num_tracks\":1000,\n",
    "    \"track_type\":\"fbm\",\n",
    "    \"hursts\":np.array(list(0.2*np.ones(1000))),\n",
    "    \"dims\":(60,60),\n",
    "    \"movie_frames\":500,\n",
    "    \"cell_space\":np.array([10,50,10,22])\n",
    "}     \n",
    "global_sim_params = {\n",
    "    \"track_length_mean\":7,\n",
    "    \"track_distribution\":\"exponential\",\n",
    "    \"exposure_time\":20,#ms same as frame_time\n",
    "    \"base_noise\":140,\n",
    "    \"point_intensity\":20,\n",
    "    \"psf_sigma\":1.,\n",
    "    \"frame_time\":20,#ms\n",
    "    \"pixel_size\":130,\n",
    "    \"axial_function\":\"exponential\",\n",
    "    \"density_dif\": 5\n",
    "}"
   ]
  },
  {
   "cell_type": "code",
   "execution_count": 31,
   "metadata": {},
   "outputs": [],
   "source": [
    "cell_sim = simulate_cells.Simulate_cells(cell_parms,global_sim_params)\n",
    "a_sim = cell_sim.get_cell()"
   ]
  },
  {
   "cell_type": "code",
   "execution_count": 32,
   "metadata": {},
   "outputs": [
    {
     "data": {
      "text/plain": [
       "<matplotlib.image.AxesImage at 0x2838ca620>"
      ]
     },
     "execution_count": 32,
     "metadata": {},
     "output_type": "execute_result"
    },
    {
     "data": {
      "image/png": "[encoded data removed]",
      "text/plain": [
       "<Figure size 640x480 with 1 Axes>"
      ]
     },
     "metadata": {},
     "output_type": "display_data"
    }
   ],
   "source": [
    "plt.imshow(np.sum(a_sim[\"map\"],axis=0),cmap=\"Greys\")"
   ]
  },
  {
   "cell_type": "code",
   "execution_count": null,
   "metadata": {},
   "outputs": [],
   "source": []
  }
 ],
 "metadata": {
  "kernelspec": {
   "display_name": "py310",
   "language": "python",
   "name": "python3"
  },
  "language_info": {
   "codemirror_mode": {
    "name": "ipython",
    "version": 3
   },
   "file_extension": ".py",
   "mimetype": "text/x-python",
   "name": "python",
   "nbconvert_exporter": "python",
   "pygments_lexer": "ipython3",
   "version": "3.10.4"
  },
  "orig_nbformat": 4
 },
 "nbformat": 4,
 "nbformat_minor": 2
}
