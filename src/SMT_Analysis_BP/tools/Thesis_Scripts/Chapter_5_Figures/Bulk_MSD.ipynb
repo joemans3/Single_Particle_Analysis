{
 "cells": [
  {
   "cell_type": "code",
   "execution_count": 1,
   "metadata": {},
   "outputs": [
    {
     "name": "stderr",
     "output_type": "stream",
     "text": [
      "/var/folders/_t/qlzp5l894v16vmr8m_81x5x80000gn/T/ipykernel_7935/3446417043.py:41: DeprecationWarning: `set_matplotlib_formats` is deprecated since IPython 7.23, directly use `matplotlib_inline.backend_inline.set_matplotlib_formats()`\n",
      "  set_matplotlib_formats('svg')\n"
     ]
    }
   ],
   "source": [
    "if __name__==\"__main__\":\n",
    "\timport sys\n",
    "\tsys.path.append('/Users/baljyot/Documents/CODE/GitHub_t2/Baljyot_EXP_RPOC/Scripts')\n",
    "\t\n",
    "from src.SMT_Analysis_BP.databases.trajectory_analysis_script import *\n",
    "from scipy.interpolate import griddata\n",
    "from scipy.stats import norm\n",
    "import matplotlib.pyplot as plt\n",
    "import matplotlib.image as mpimg\n",
    "import matplotlib.colors\n",
    "from mpl_toolkits.mplot3d import Axes3D\n",
    "import matplotlib.animation as animation\n",
    "import matplotlib.colors as mcolors\n",
    "import matplotlib.cm as cm\n",
    "from scipy.stats import gaussian_kde\n",
    "import pandas as pd\n",
    "import os\n",
    "import datetime\n",
    "import numpy as np\n",
    "from src.SMT_Analysis_BP.helpers.MSD_Utils import *\n",
    "from src.SMT_Analysis_BP.helpers.plotting_functions import *\n",
    "from src.SMT_Analysis_BP.helpers.import_functions import *\n",
    "from src.SMT_Analysis_BP.helpers.Analysis_functions import *\n",
    "from src.SMT_Analysis_BP.helpers.diff_mw import *\n",
    "import mpl_toolkits.mplot3d.art3d as art3d\n",
    "from mpl_toolkits.axes_grid1.inset_locator import zoomed_inset_axes\n",
    "from mpl_toolkits.axes_grid1.inset_locator import mark_inset\n",
    "from mpl_toolkits.axes_grid1 import make_axes_locatable\n",
    "import matplotlib as mpl\n",
    "from src.SMT_Analysis_BP.Random.scalebars import *\n",
    "from src.SMT_Analysis_BP.Random.Convert_csv_mat import *\n",
    "from matplotlib.collections import LineCollection\n",
    "from matplotlib.colors import ListedColormap, BoundaryNorm\n",
    "from scipy import stats, ndimage,io\n",
    "import json\n",
    "import matplotlib.gridspec as gs\n",
    "import csv  \n",
    "from sklearn.cluster import OPTICS\n",
    "%matplotlib inline\n",
    "from IPython.display import set_matplotlib_formats\n",
    "set_matplotlib_formats('svg')  \n",
    "from sklearn.cluster import DBSCAN\n",
    "from cgitb import small\n",
    "import src.SMT_Analysis_BP.helpers.smallestenclosingcircle as smallestenclosingcircle\n",
    "import math\n",
    "import src.SMT_Analysis_BP.Random.guassian_fit as gaussian_fit\n",
    "import src.SMT_Analysis_BP.helpers.fbm_utility as fbm_utility\n",
    "import src.SMT_Analysis_BP.helpers.simulate_foci as simulate_foci\n",
    "import src.SMT_Analysis_BP.helpers.simulate_cells as simulate_cells\n",
    "import src.SMT_Analysis_BP.helpers.SMT_converters as smt\n",
    "import matplotlib.patches as mpatches\n",
    "import pickle\n",
    "import src.SMT_Analysis_BP.Parameter_Store.global_params as param_store"
   ]
  },
  {
   "cell_type": "code",
   "execution_count": 2,
   "metadata": {},
   "outputs": [],
   "source": [
    "globals = param_store.PIXELSIZES\n",
    "from warnings import filterwarnings\n",
    "filterwarnings('ignore',module=\"DeprecationWarning\")\n",
    "#ignore deprecated warnings\n",
    "#ignore stacklevel=2 warnings"
   ]
  },
  {
   "cell_type": "code",
   "execution_count": 3,
   "metadata": {},
   "outputs": [],
   "source": [
    "def perform_run_analysis_bulk(path_keyword_dict:dict,**kwargs)->list:\n",
    "    '''\n",
    "    We will do the run analysis in bulk for a set of data which are repeats of a condition\n",
    "\n",
    "    Parameters:\n",
    "    -----------\n",
    "    path_keyword_dict:dict\n",
    "        A dictionary of the form {cd:{t_string:_,unique_name:_}}\n",
    "        CD: is the condition directory\n",
    "        t_string: is the string which if of internal use and signifies the file naming convention\n",
    "        unique_name: is the unique name of the condition\n",
    "    **kwargs:\n",
    "        Keyword arguments which are passed to the run_analysis function\n",
    "        TODO update this to be more specific\n",
    "\n",
    "    Returns:\n",
    "    --------\n",
    "    list\n",
    "        A list of the results of the run_analysis function for each condition.\n",
    "        Each index is a realization of the trajectory_analysis_script.run_analysis class\n",
    "    '''\n",
    "    results = {key:{} for key in path_keyword_dict.keys()}\n",
    "    for data_type,data in path_keyword_dict.items():\n",
    "        for cd,names in data.items():\n",
    "            obj= run_analysis(cd,names.get(\"t_string\"),unique_name=names.get(\"name\"))\n",
    "            obj.read_parameters(minimum_percent_per_drop_in = 0.5, \n",
    "                                t_len_u = 100, \n",
    "                                t_len_l = 1, \n",
    "                                minimum_tracks_per_drop = 3,\n",
    "                                cluster_t_len_l=7)\n",
    "            \n",
    "            obj.get_blob_parameters(threshold=1e-4,\n",
    "                                    overlap=0,\n",
    "                                    detection_name='bp',\n",
    "                                    min_sigma=1/np.sqrt(2),\n",
    "                                    max_sigma=2.5/np.sqrt(2),\n",
    "                                    num_sigma=100,\n",
    "                                    median = False)\n",
    "\n",
    "            obj.get_fitting_parameters(kwargs={\"mask_size\":3,\n",
    "                                                \"plot_fit\":False,\n",
    "                                                \"fitting_image\":\"LAP\",\n",
    "                                                \"radius_func\":np.mean,#identity,\n",
    "                                                \"residual_func\":residuals_gaus2d,\n",
    "                                                \"sigma_range\":0.5,\n",
    "                                                \"centroid_range\":0.5,\n",
    "                                                \"height_range\":2})\n",
    "            obj.type_of_blob =\"Scale\"\n",
    "            obj.a_file_style = \"new\"\n",
    "            obj.overwrite_cell_localizations = True\n",
    "            obj.run_flow(masked_movies=True)\n",
    "            if kwargs.get(\"save\",True):\n",
    "                obj._make_SMAUG_files(dir_name = \"SMAUG_AUTO\")\n",
    "                obj._store_combined_SMAUG_files(combined_dir_name=\"/Users/baljyot/Documents/CODE/GitHub_t2/Baljyot_EXP_RPOC/DATA/Combined_SMT_THESIS_CHAPTER_5/Combined_SMAUG/AUTO_STYLE/{}\".format(data_type))\n",
    "            results[data_type][names.get(\"name\")] = obj\n",
    "    #pickle the results\n",
    "    with open(\"/Users/baljyot/Documents/CODE/GitHub_t2/Baljyot_EXP_RPOC/DATA/Combined_SMT_THESIS_CHAPTER_5/{}_results.pkl\".format(data_type),\"wb\") as f:\n",
    "        pickle.dump(results,f)\n",
    "                "
   ]
  },
  {
   "cell_type": "code",
   "execution_count": null,
   "metadata": {},
   "outputs": [],
   "source": [
    "rpoc_ez_paths_keywords = {\"RPOC_EZ\":{\n",
    "    \"/Users/baljyot/Documents/CODE/GitHub_t2/Baljyot_EXP_RPOC/DATA/Other_RPOC\":{\"t_string\":\"rpoc\",\"name\":\"20180813_Other_RPOC\"},\n",
    "    \"/Users/baljyot/Documents/CODE/GitHub_t2/Baljyot_EXP_RPOC/DATA/RPOC_new\":{\"t_string\":\"RPOC\",\"name\":\"20181003_RPOC_new\"},\n",
    "    \"/Users/baljyot/Documents/CODE/GitHub_t2/Baljyot_EXP_RPOC/DATA/new_days/2019052MIN_TRACK_LENGTH/rpoc_ez\":{\"t_string\":\"rpoc_ez\",\"name\":\"newdays_2019052MIN_TRACK_LENGTH_rpoc_ez\"} \n",
    "    }\n",
    "}\n",
    "rpoc_m9_paths_keywords = {\"RPOC_M9\":{\n",
    "    \"/Users/baljyot/Documents/CODE/GitHub_t2/Baljyot_EXP_RPOC/DATA/12/rpoc_m9\":{\"t_string\":\"rpoc_m9\",\"name\":\"12_rpoc_m9\"}, \n",
    "    \"/Users/baljyot/Documents/CODE/GitHub_t2/Baljyot_EXP_RPOC/DATA/12/rpoc_m9_2\":{\"t_string\":\"rpoc_m9\",\"name\":\"12_rpoc_m9_2\"},\n",
    "    \"/Users/baljyot/Documents/CODE/GitHub_t2/Baljyot_EXP_RPOC/DATA/rpoc_M9/20190515\":{\"t_string\":\"rpoc_M9\",\"name\":\"20190515_rpoc_m9\"}\n",
    "    }\n",
    "}\n",
    "rpoc_hex5_paths_keywords = {\"RPOC_Hex5\":{\n",
    "    \"/Users/baljyot/Documents/CODE/GitHub_t2/Baljyot_EXP_RPOC/DATA/15/rp_ez_hex5\":{\"t_string\":\"rp_ez_hex5\",\"name\":\"15_rp_hex5\"}, \n",
    "    \"/Users/baljyot/Documents/CODE/GitHub_t2/Baljyot_EXP_RPOC/DATA/15/rp_ez_hex5_2\":{\"t_string\":\"rp_ez_hex5\",\"name\":\"15_rp_hex5_2\"},\n",
    "    \"/Users/baljyot/Documents/CODE/GitHub_t2/Baljyot_EXP_RPOC/DATA/16/rp_ez_hex5\":{\"t_string\":\"rp_ez_hex5\",\"name\":\"16_rp_hex5\"} \n",
    "    }\n",
    "}\n",
    "laci_laco_ez_paths_keywords = {\"LL_EZ\":{\n",
    "    \"/Users/baljyot/Documents/CODE/GitHub_t2/Baljyot_EXP_RPOC/DATA/new_days/20190527/ll_ez\":{\"t_string\":\"laco_laci_ez\",\"name\":\"newdays_20190527_ll_ez\"}, \n",
    "    \"/Users/baljyot/Documents/CODE/GitHub_t2/Baljyot_EXP_RPOC/DATA/17/ll_ez\":{\"t_string\":\"ll_ez\",\"name\":\"17_ll_ez\"},\n",
    "    \"/Users/baljyot/Documents/CODE/GitHub_t2/Baljyot_EXP_RPOC/DATA/17/ll_ez_2\":{\"t_string\":\"ll_ez\",\"name\":\"17_ll_ez_2\"}\n",
    "    }\n",
    "}\n",
    "laci_laco_m9_paths_keywords = {\"LL_M9\":{\n",
    "    \"/Users/baljyot/Documents/CODE/GitHub_t2/Baljyot_EXP_RPOC/DATA/16/ll_m9\":{\"t_string\":\"ll_m9\",\"name\":\"16_ll_m9\"},\n",
    "    \"/Users/baljyot/Documents/CODE/GitHub_t2/Baljyot_EXP_RPOC/DATA/16/ll_m9_2\":{\"t_string\":\"ll_m9\",\"name\":\"16_ll_m9_2\"},\n",
    "    \"/Users/baljyot/Documents/CODE/GitHub_t2/Baljyot_EXP_RPOC/DATA/16/ll_m9_3\":{\"t_string\":\"ll_m9\",\"name\":\"16_ll_m9_3\"}\n",
    "    }\n",
    "}\n",
    "laci_laco_hex5_paths_keywords = {\"LL_Hex5\":{\n",
    "    \"/Users/baljyot/Documents/CODE/GitHub_t2/Baljyot_EXP_RPOC/DATA/16/ll_hex5\":{\"t_string\":\"ll_ez_hex5\",\"name\":\"16_ll_hex5\"},\n",
    "    \"/Users/baljyot/Documents/CODE/GitHub_t2/Baljyot_EXP_RPOC/DATA/16/ll_hex5_2\":{\"t_string\":\"ll_ez_hex5\",\"name\":\"16_ll_hex5_2\"},\n",
    "    \"/Users/baljyot/Documents/CODE/GitHub_t2/Baljyot_EXP_RPOC/DATA/16/ll_hex5_3\":{\"t_string\":\"ll_ez_hex5\",\"name\":\"16_ll_hex5_3\"}\n",
    "}\n",
    "}\n",
    "    "
   ]
  },
  {
   "cell_type": "code",
   "execution_count": null,
   "metadata": {},
   "outputs": [],
   "source": [
    "#do the analysis\n",
    "# perform_run_analysis_bulk(rpoc_ez_paths_keywords,save=True)\n",
    "# perform_run_analysis_bulk(rpoc_m9_paths_keywords,save=True)\n",
    "# perform_run_analysis_bulk(rpoc_hex5_paths_keywords,save=True)\n",
    "\n",
    "# perform_run_analysis_bulk(laci_laco_ez_paths_keywords,save=True)\n",
    "# perform_run_analysis_bulk(laci_laco_m9_paths_keywords,save=True)\n",
    "# perform_run_analysis_bulk(laci_laco_hex5_paths_keywords,save=True)"
   ]
  },
  {
   "cell_type": "code",
   "execution_count": null,
   "metadata": {},
   "outputs": [],
   "source": [
    "#load the pickle files\n",
    "rp_ez_pickle = \"/Users/baljyot/Documents/CODE/GitHub_t2/Baljyot_EXP_RPOC/DATA/Combined_SMT_THESIS_CHAPTER_5/RPOC_EZ_results.pkl\"\n",
    "rp_m9_pickle = \"/Users/baljyot/Documents/CODE/GitHub_t2/Baljyot_EXP_RPOC/DATA/Combined_SMT_THESIS_CHAPTER_5/RPOC_M9_results.pkl\"\n",
    "rp_hex5_pickle = \"/Users/baljyot/Documents/CODE/GitHub_t2/Baljyot_EXP_RPOC/DATA/Combined_SMT_THESIS_CHAPTER_5/RPOC_Hex5_results.pkl\"\n",
    "\n",
    "ll_ez_pickle = \"/Users/baljyot/Documents/CODE/GitHub_t2/Baljyot_EXP_RPOC/DATA/Combined_SMT_THESIS_CHAPTER_5/LL_EZ_results.pkl\"\n",
    "ll_m9_pickle = \"/Users/baljyot/Documents/CODE/GitHub_t2/Baljyot_EXP_RPOC/DATA/Combined_SMT_THESIS_CHAPTER_5/LL_M9_results.pkl\"\n",
    "ll_hex5_pickle = \"/Users/baljyot/Documents/CODE/GitHub_t2/Baljyot_EXP_RPOC/DATA/Combined_SMT_THESIS_CHAPTER_5/LL_Hex5_results.pkl\""
   ]
  },
  {
   "cell_type": "code",
   "execution_count": null,
   "metadata": {},
   "outputs": [],
   "source": [
    "#load them\n",
    "with open(rp_ez_pickle,\"rb\") as f:\n",
    "    rp_ez_results = pickle.load(f)\n",
    "with open(rp_m9_pickle,\"rb\") as f:\n",
    "    rp_m9_results = pickle.load(f)\n",
    "with open(rp_hex5_pickle,\"rb\") as f:\n",
    "    rp_hex5_results = pickle.load(f)\n",
    "with open(ll_ez_pickle,\"rb\") as f:\n",
    "    ll_ez_results = pickle.load(f)\n",
    "with open(ll_m9_pickle,\"rb\") as f:\n",
    "    ll_m9_results = pickle.load(f)\n",
    "with open(ll_hex5_pickle,\"rb\") as f:\n",
    "    ll_hex5_results = pickle.load(f)\n",
    "\n"
   ]
  },
  {
   "cell_type": "code",
   "execution_count": null,
   "metadata": {},
   "outputs": [],
   "source": [
    "MIN_TRACK_LENGTH = 7\n",
    "MAX_TRACK_LENGTH = 15"
   ]
  },
  {
   "cell_type": "code",
   "execution_count": null,
   "metadata": {},
   "outputs": [],
   "source": [
    "from src.SMT_Analysis_BP.helpers.MSD_Utils import MSD_Calculations\n",
    "\n",
    "RPOC_ez_MSD = MSD_Calculations(list(list(rp_ez_results.values())[0].values()),min_track_length=MIN_TRACK_LENGTH,max_track_length=MAX_TRACK_LENGTH)\n",
    "RPOC_m9_MSD = MSD_Calculations(list(list(rp_m9_results.values())[0].values()),min_track_length=MIN_TRACK_LENGTH,max_track_length=MAX_TRACK_LENGTH)\n",
    "RPOC_hex5_MSD = MSD_Calculations(list(list(rp_hex5_results.values())[0].values()),min_track_length=MIN_TRACK_LENGTH,max_track_length=MAX_TRACK_LENGTH)\n",
    "\n",
    "LL_ez_MSD = MSD_Calculations(list(list(ll_ez_results.values())[0].values()),min_track_length=MIN_TRACK_LENGTH,max_track_length=MAX_TRACK_LENGTH)\n",
    "LL_m9_MSD = MSD_Calculations(list(list(ll_m9_results.values())[0].values()),min_track_length=MIN_TRACK_LENGTH,max_track_length=MAX_TRACK_LENGTH)\n",
    "LL_hex5_MSD = MSD_Calculations(list(list(ll_hex5_results.values())[0].values()),min_track_length=MIN_TRACK_LENGTH,max_track_length=MAX_TRACK_LENGTH)\n",
    "\n",
    "#save to pickle in the Combined MSD folder\n",
    "MSD_folder_combined = \"/Users/baljyot/Documents/CODE/GitHub_t2/Baljyot_EXP_RPOC/DATA/Combined_SMT_THESIS_CHAPTER_5/Combined_MSD\"\n",
    "if not os.path.exists(MSD_folder_combined):\n",
    "    os.makedirs(MSD_folder_combined)\n",
    "with open(os.path.join(MSD_folder_combined,\"RPOC_ez_MSD_min_{0}_max_{1}.pkl\".format(MIN_TRACK_LENGTH,MAX_TRACK_LENGTH)),\"wb\") as f:\n",
    "    pickle.dump(RPOC_ez_MSD,f)\n",
    "with open(os.path.join(MSD_folder_combined,\"RPOC_m9_MSD_min_{0}_max_{1}.pkl\".format(MIN_TRACK_LENGTH,MAX_TRACK_LENGTH)),\"wb\") as f:\n",
    "    pickle.dump(RPOC_m9_MSD,f)\n",
    "with open(os.path.join(MSD_folder_combined,\"RPOC_hex5_MSD_min_{0}_max_{1}.pkl\".format(MIN_TRACK_LENGTH,MAX_TRACK_LENGTH)),\"wb\") as f:\n",
    "    pickle.dump(RPOC_hex5_MSD,f)\n",
    "with open(os.path.join(MSD_folder_combined,\"LL_ez_MSD_min_{0}_max_{1}.pkl\".format(MIN_TRACK_LENGTH,MAX_TRACK_LENGTH)),\"wb\") as f:\n",
    "    pickle.dump(LL_ez_MSD,f)\n",
    "with open(os.path.join(MSD_folder_combined,\"LL_m9_MSD_min_{0}_max_{1}.pkl\".format(MIN_TRACK_LENGTH,MAX_TRACK_LENGTH)),\"wb\") as f:\n",
    "    pickle.dump(LL_m9_MSD,f)\n",
    "with open(os.path.join(MSD_folder_combined,\"LL_hex5_MSD_min_{0}_max_{1}.pkl\".format(MIN_TRACK_LENGTH,MAX_TRACK_LENGTH)),\"wb\") as f:\n",
    "    pickle.dump(LL_hex5_MSD,f)\n",
    "\n",
    "# #save a json with the parameter used in the MSD calculations\n",
    "# with open(os.path.join(MSD_folder_combined,\"MSD_parameters.json\"),\"w\") as f:\n",
    "#     json.dump({\"min_track_length\":MIN_TRACK_LENGTH,\"max_track_length\":MAX_TRACK_LENGTH},f)\n",
    "\n",
    "\n",
    "    \n"
   ]
  },
  {
   "cell_type": "code",
   "execution_count": null,
   "metadata": {},
   "outputs": [],
   "source": [
    "#load the MSD files\n",
    "RPOC_ez_MSD = pickle.load(open(\"/Users/baljyot/Documents/CODE/GitHub_t2/Baljyot_EXP_RPOC/DATA/Combined_SMT_THESIS_CHAPTER_5/Combined_MSD/RPOC_ez_MSD_min_{0}_max_{1}.pkl\".format(MIN_TRACK_LENGTH,MAX_TRACK_LENGTH),\"rb\"))\n",
    "RPOC_m9_MSD = pickle.load(open(\"/Users/baljyot/Documents/CODE/GitHub_t2/Baljyot_EXP_RPOC/DATA/Combined_SMT_THESIS_CHAPTER_5/Combined_MSD/RPOC_m9_MSD_min_{0}_max_{1}.pkl\".format(MIN_TRACK_LENGTH,MAX_TRACK_LENGTH),\"rb\"))\n",
    "RPOC_hex5_MSD = pickle.load(open(\"/Users/baljyot/Documents/CODE/GitHub_t2/Baljyot_EXP_RPOC/DATA/Combined_SMT_THESIS_CHAPTER_5/Combined_MSD/RPOC_hex5_MSD_min_{0}_max_{1}.pkl\".format(MIN_TRACK_LENGTH,MAX_TRACK_LENGTH),\"rb\"))\n",
    "\n",
    "LL_ez_MSD = pickle.load(open(\"/Users/baljyot/Documents/CODE/GitHub_t2/Baljyot_EXP_RPOC/DATA/Combined_SMT_THESIS_CHAPTER_5/Combined_MSD/LL_ez_MSD_min_{0}_max_{1}.pkl\".format(MIN_TRACK_LENGTH,MAX_TRACK_LENGTH),\"rb\"))\n",
    "LL_m9_MSD = pickle.load(open(\"/Users/baljyot/Documents/CODE/GitHub_t2/Baljyot_EXP_RPOC/DATA/Combined_SMT_THESIS_CHAPTER_5/Combined_MSD/LL_m9_MSD_min_{0}_max_{1}.pkl\".format(MIN_TRACK_LENGTH,MAX_TRACK_LENGTH),\"rb\"))\n",
    "LL_hex5_MSD = pickle.load(open(\"/Users/baljyot/Documents/CODE/GitHub_t2/Baljyot_EXP_RPOC/DATA/Combined_SMT_THESIS_CHAPTER_5/Combined_MSD/LL_hex5_MSD_min_{0}_max_{1}.pkl\".format(MIN_TRACK_LENGTH,MAX_TRACK_LENGTH),\"rb\"))\n"
   ]
  },
  {
   "cell_type": "code",
   "execution_count": null,
   "metadata": {},
   "outputs": [],
   "source": [
    "msd_rpoc_ez_curve_in = RPOC_ez_MSD.combined_store[\"IN\"].ensemble_MSD\n",
    "msd_error_rpoc_ez_curve_in = RPOC_ez_MSD.combined_store[\"IN\"].ensemble_MSD_error\n",
    "msd_rpoc_ez_curve_io = RPOC_ez_MSD.combined_store[\"IO\"].ensemble_MSD\n",
    "msd_error_rpoc_ez_curve_io = RPOC_ez_MSD.combined_store[\"IO\"].ensemble_MSD_error\n",
    "msd_rpoc_ez_curve_out = RPOC_ez_MSD.combined_store[\"OUT\"].ensemble_MSD\n",
    "msd_error_rpoc_ez_curve_out = RPOC_ez_MSD.combined_store[\"OUT\"].ensemble_MSD_error\n",
    "msd_rpoc_ez_curve_all = RPOC_ez_MSD.combined_store[\"ALL\"].ensemble_MSD\n",
    "msd_error_rpoc_ez_curve_all = RPOC_ez_MSD.combined_store[\"ALL\"].ensemble_MSD_error\n",
    "\n",
    "#repeat for the LL\n",
    "msd_ll_ez_curve_in = LL_ez_MSD.combined_store[\"IN\"].ensemble_MSD\n",
    "msd_error_ll_ez_curve_in = LL_ez_MSD.combined_store[\"IN\"].ensemble_MSD_error\n",
    "msd_ll_ez_curve_io = LL_ez_MSD.combined_store[\"IO\"].ensemble_MSD\n",
    "msd_error_ll_ez_curve_io = LL_ez_MSD.combined_store[\"IO\"].ensemble_MSD_error\n",
    "msd_ll_ez_curve_out = LL_ez_MSD.combined_store[\"OUT\"].ensemble_MSD\n",
    "msd_error_ll_ez_curve_out = LL_ez_MSD.combined_store[\"OUT\"].ensemble_MSD_error\n",
    "msd_ll_ez_curve_all = LL_ez_MSD.combined_store[\"ALL\"].ensemble_MSD\n",
    "msd_error_ll_ez_curve_all = LL_ez_MSD.combined_store[\"ALL\"].ensemble_MSD_error\n",
    "\n",
    "import matplotlib.gridspec as gs\n",
    "fig =plt.figure(figsize=(5,5))\n",
    "gspec = gs.GridSpec(1,1)\n",
    "ax = fig.add_subplot(gspec[0,0])\n",
    "\n",
    "ax.errorbar(list(msd_rpoc_ez_curve_in.keys()),list(msd_rpoc_ez_curve_in.values()),yerr=np.array(list(msd_error_rpoc_ez_curve_in.values()))*1.96,label=\"IN\",color=\"red\")\n",
    "ax.errorbar(list(msd_ll_ez_curve_in.keys()),list(msd_ll_ez_curve_in.values()),yerr=np.array(list(msd_error_ll_ez_curve_in.values()))*1.96,label=\"IN\",color=\"blue\")\n",
    "ax.errorbar(list(msd_rpoc_ez_curve_io.keys()),list(msd_rpoc_ez_curve_io.values()),yerr=np.array(list(msd_error_rpoc_ez_curve_io.values()))*1.96,label=\"IO\",color=\"red\")\n",
    "ax.errorbar(list(msd_ll_ez_curve_io.keys()),list(msd_ll_ez_curve_io.values()),yerr=np.array(list(msd_error_ll_ez_curve_io.values()))*1.96,label=\"IO\",color=\"blue\")\n",
    "ax.errorbar(list(msd_rpoc_ez_curve_out.keys()),list(msd_rpoc_ez_curve_out.values()),yerr=np.array(list(msd_error_rpoc_ez_curve_out.values()))*1.96,label=\"OUT\",color=\"red\")\n",
    "ax.errorbar(list(msd_ll_ez_curve_out.keys()),list(msd_ll_ez_curve_out.values()),yerr=np.array(list(msd_error_ll_ez_curve_out.values()))*1.96,label=\"OUT\",color=\"blue\")\n",
    "ax.errorbar(list(msd_rpoc_ez_curve_all.keys()),list(msd_rpoc_ez_curve_all.values()),yerr=np.array(list(msd_error_rpoc_ez_curve_all.values()))*1.96,label=\"ALL\",color=\"red\")\n",
    "ax.errorbar(list(msd_ll_ez_curve_all.keys()),list(msd_ll_ez_curve_all.values()),yerr=np.array(list(msd_error_ll_ez_curve_all.values()))*1.96,label=\"ALL\",color=\"blue\")\n",
    "ax.set_xlabel(\"Time (s)\")\n",
    "ax.set_ylabel(\"MSD (um^2)\")\n",
    "ax.set_title(\"RPOC EZ\")\n",
    "ax.set_yscale(\"log\")\n",
    "ax.set_xscale(\"log\")\n",
    "ax.legend()\n",
    "plt.show()\n",
    "\n"
   ]
  },
  {
   "cell_type": "code",
   "execution_count": null,
   "metadata": {},
   "outputs": [],
   "source": [
    "msd_rpoc_m9_curve_all = RPOC_m9_MSD.combined_store[\"ALL\"].ensemble_MSD\n",
    "msd_rpoc_hex5_curve_all = RPOC_hex5_MSD.combined_store[\"ALL\"].ensemble_MSD\n",
    "\n",
    "msd_ll_m9_curve_all = LL_m9_MSD.combined_store[\"ALL\"].ensemble_MSD\n",
    "msd_ll_hex5_curve_all = LL_hex5_MSD.combined_store[\"ALL\"].ensemble_MSD\n",
    "\n",
    "fig =plt.figure(figsize=(5,5))\n",
    "gspec = gs.GridSpec(1,1)\n",
    "ax = fig.add_subplot(gspec[0,0])\n",
    "\n",
    "ax.errorbar(list(msd_rpoc_ez_curve_all.keys()),list(msd_rpoc_ez_curve_all.values()),yerr=np.array(list(msd_error_rpoc_ez_curve_all.values()))*1.96,label=\"RPOC_EZ_ALL\",color=\"red\")\n",
    "ax.errorbar(list(msd_ll_ez_curve_all.keys()),list(msd_ll_ez_curve_all.values()),yerr=np.array(list(msd_error_ll_ez_curve_all.values()))*1.96,label=\"LL_EZ_ALL\",color=\"blue\")\n",
    "ax.errorbar(list(msd_rpoc_m9_curve_all.keys()),list(msd_rpoc_m9_curve_all.values()),yerr=np.array(list(RPOC_m9_MSD.combined_store[\"ALL\"].ensemble_MSD_error.values()))*1.96,label=\"RPOC_M9_ALL\",color=\"green\")\n",
    "ax.errorbar(list(msd_ll_m9_curve_all.keys()),list(msd_ll_m9_curve_all.values()),yerr=np.array(list(LL_m9_MSD.combined_store[\"ALL\"].ensemble_MSD_error.values()))*1.96,label=\"LL_M9_ALL\",color=\"black\")\n",
    "ax.errorbar(list(msd_rpoc_hex5_curve_all.keys()),list(msd_rpoc_hex5_curve_all.values()),yerr=np.array(list(RPOC_hex5_MSD.combined_store[\"ALL\"].ensemble_MSD_error.values()))*1.96,label=\"RPOC_HEX5_ALL\",color=\"orange\")\n",
    "ax.errorbar(list(msd_ll_hex5_curve_all.keys()),list(msd_ll_hex5_curve_all.values()),yerr=np.array(list(LL_hex5_MSD.combined_store[\"ALL\"].ensemble_MSD_error.values()))*1.96,label=\"LL_HEX5_ALL\",color=\"purple\")\n",
    "\n",
    "\n",
    "# #plot a line using tau = 0.02 -> 0.15\n",
    "# tau = np.linspace(0.02,0.35,100)\n",
    "# ax.plot(tau,4*0.004*tau**0.4 ,color=\"black\",label=\"slope = 0.4\",linestyle=\"--\")\n",
    "# ax.plot(tau,4*0.2*tau**0.7 ,color=\"blue\",label=\"slope = 0.7\",linestyle=\"--\")\n",
    "\n",
    "\n",
    "\n",
    "ax.set_xlabel(\"Time (s)\")\n",
    "ax.set_ylabel(\"MSD (um^2)\")\n",
    "ax.set_title(\"RPOC EZ\")\n",
    "ax.set_yscale(\"log\")\n",
    "ax.set_xscale(\"log\")\n",
    "\n",
    "# ax.set_xlim(0,0.24)\n",
    "ax.legend()\n",
    "plt.show()\n"
   ]
  },
  {
   "cell_type": "code",
   "execution_count": null,
   "metadata": {},
   "outputs": [],
   "source": [
    "#repeat for IN\n",
    "msd_rpoc_ez_curve_in = RPOC_ez_MSD.combined_store[\"IN\"].ensemble_MSD\n",
    "msd_error_rpoc_ez_curve_in = RPOC_ez_MSD.combined_store[\"IN\"].ensemble_MSD_error\n",
    "msd_rpoc_m9_curve_in = RPOC_m9_MSD.combined_store[\"IN\"].ensemble_MSD\n",
    "msd_error_rpoc_m9_curve_in = RPOC_m9_MSD.combined_store[\"IN\"].ensemble_MSD_error\n",
    "msd_rpoc_hex5_curve_in = RPOC_hex5_MSD.combined_store[\"IN\"].ensemble_MSD\n",
    "msd_error_rpoc_hex5_curve_in = RPOC_hex5_MSD.combined_store[\"IN\"].ensemble_MSD_error\n",
    "\n",
    "msd_ll_ez_curve_in = LL_ez_MSD.combined_store[\"IN\"].ensemble_MSD\n",
    "msd_error_ll_ez_curve_in = LL_ez_MSD.combined_store[\"IN\"].ensemble_MSD_error\n",
    "msd_ll_m9_curve_in = LL_m9_MSD.combined_store[\"IN\"].ensemble_MSD\n",
    "msd_error_ll_m9_curve_in = LL_m9_MSD.combined_store[\"IN\"].ensemble_MSD_error\n",
    "msd_ll_hex5_curve_in = LL_hex5_MSD.combined_store[\"IN\"].ensemble_MSD\n",
    "msd_error_ll_hex5_curve_in = LL_hex5_MSD.combined_store[\"IN\"].ensemble_MSD_error\n",
    "\n",
    "fig =plt.figure(figsize=(5,5))\n",
    "gspec = gs.GridSpec(1,1)\n",
    "ax = fig.add_subplot(gspec[0,0])\n",
    "\n",
    "#ax.errorbar(list(msd_rpoc_ez_curve_in.keys()),list(msd_rpoc_ez_curve_in.values()),yerr=np.array(list(msd_error_rpoc_ez_curve_in.values()))*1.96,label=\"RPOC_EZ_IN\",color=\"red\")\n",
    "ax.errorbar(list(msd_ll_ez_curve_in.keys()),list(msd_ll_ez_curve_in.values()),yerr=np.array(list(msd_error_ll_ez_curve_in.values()))*1.96,label=\"LL_EZ_IN\",color=\"blue\")\n",
    "#ax.errorbar(list(msd_rpoc_m9_curve_in.keys()),list(msd_rpoc_m9_curve_in.values()),yerr=np.array(list(msd_error_rpoc_m9_curve_in.values()))*1.96,label=\"RPOC_M9_IN\",color=\"green\")\n",
    "ax.errorbar(list(msd_ll_m9_curve_in.keys()),list(msd_ll_m9_curve_in.values()),yerr=np.array(list(msd_error_ll_m9_curve_in.values()))*1.96,label=\"LL_M9_IN\",color=\"black\")\n",
    "#ax.errorbar(list(msd_rpoc_hex5_curve_in.keys()),list(msd_rpoc_hex5_curve_in.values()),yerr=np.array(list(msd_error_rpoc_hex5_curve_in.values()))*1.96,label=\"RPOC_HEX5_IN\",color=\"orange\")\n",
    "ax.errorbar(list(msd_ll_hex5_curve_in.keys()),list(msd_ll_hex5_curve_in.values()),yerr=np.array(list(msd_error_ll_hex5_curve_in.values()))*1.96,label=\"LL_HEX5_IN\",color=\"purple\")\n",
    "\n",
    "#plot a line using tau = 0.02 -> 0.15\n",
    "# tau = np.linspace(0.02,0.35,100)\n",
    "# ax.plot(tau,4*0.0004*tau**0.4 ,color=\"black\",label=\"slope = 0.4\",linestyle=\"--\")\n",
    "# ax.plot(tau,4*0.2*tau**0.7 ,color=\"blue\",label=\"slope = 0.7\",linestyle=\"--\")\n",
    "\n",
    "\n",
    "\n",
    "ax.set_xlabel(\"Time (s)\")\n",
    "ax.set_ylabel(\"MSD (um^2)\")\n",
    "ax.set_title(\"RPOC EZ\")\n",
    "# ax.set_yscale(\"log\")\n",
    "# ax.set_xscale(\"log\")\n",
    "#ax.set_xlim(0,0.24)\n",
    "ax.legend()\n",
    "plt.show()\n"
   ]
  },
  {
   "cell_type": "code",
   "execution_count": null,
   "metadata": {},
   "outputs": [],
   "source": [
    "#for ALL lets plot the track msds\n",
    "rp_ez_ALL_track_msd = RPOC_ez_MSD.combined_store[\"ALL\"].track_MSD\n",
    "rp_m9_ALL_track_msd = RPOC_m9_MSD.combined_store[\"ALL\"].track_MSD\n",
    "rp_hex5_ALL_track_msd = RPOC_hex5_MSD.combined_store[\"ALL\"].track_MSD\n",
    "ll_ez_ALL_track_msd = LL_ez_MSD.combined_store[\"ALL\"].track_MSD\n",
    "ll_m9_ALL_track_msd = LL_m9_MSD.combined_store[\"ALL\"].track_MSD\n",
    "ll_hex5_ALL_track_msd = LL_hex5_MSD.combined_store[\"ALL\"].track_MSD\n",
    "\n",
    "fig =plt.figure(figsize=(5,5))\n",
    "gspec = gs.GridSpec(1,1)\n",
    "ax = fig.add_subplot(gspec[0,0])\n",
    "\n",
    "# counter = 0\n",
    "# for track_ID,track in ll_ez_ALL_track_msd.items():\n",
    "#     counter+=1\n",
    "#     if counter<1000:\n",
    "#         tau = list(track.keys())\n",
    "#         msd = list(track.values())\n",
    "#         ax.plot(tau,msd,color=\"red\",alpha=0.2)\n",
    "counter = 0\n",
    "for track_ID,track in ll_hex5_ALL_track_msd.items():\n",
    "    counter+=1\n",
    "    if counter<1000:\n",
    "        tau = list(track.keys())\n",
    "        msd = list(track.values())\n",
    "        ax.plot(tau,msd,color=\"green\",alpha=0.2)\n",
    "\n",
    "\n",
    "#plot a line using tau = 0.02 -> 0.15\n",
    "tau = np.linspace(0.02,0.35,100)\n",
    "ax.plot(tau,4*0.0004*tau**0.4 ,color=\"black\",label=\"slope = 0.4\",linestyle=\"--\")\n",
    "ax.plot(tau,4*0.9*tau**0.7 ,color=\"blue\",label=\"slope = 0.7\",linestyle=\"--\")\n",
    "\n",
    "plt.xscale(\"log\")\n",
    "plt.yscale(\"log\")\n",
    "\n",
    "ax.set_ylim(0.0001)\n",
    "\n",
    "plt.show()\n",
    "\n"
   ]
  },
  {
   "cell_type": "code",
   "execution_count": 5,
   "metadata": {},
   "outputs": [
    {
     "name": "stdout",
     "output_type": "stream",
     "text": [
      "All files in the dataset:\n",
      "/Users/baljyot/Documents/CODE/GitHub_t2/Baljyot_EXP_RPOC/DATA/Rifampacin_Data/20230528/rpoc_ez_rif_100ugml_5min/Analysis_new/OD030_1_seg.tif_spots.csv\n",
      "/Users/baljyot/Documents/CODE/GitHub_t2/Baljyot_EXP_RPOC/DATA/Rifampacin_Data/20230528/rpoc_ez_rif_100ugml_5min/Analysis_new/OD030_2_seg.tif_spots.csv\n",
      "/Users/baljyot/Documents/CODE/GitHub_t2/Baljyot_EXP_RPOC/DATA/Rifampacin_Data/20230528/rpoc_ez_rif_100ugml_5min/Analysis_new/OD030_3_seg.tif_spots.csv\n",
      "/Users/baljyot/Documents/CODE/GitHub_t2/Baljyot_EXP_RPOC/DATA/Rifampacin_Data/20230528/rpoc_ez_rif_100ugml_5min/Analysis_new/OD030_4_seg.tif_spots.csv\n",
      "/Users/baljyot/Documents/CODE/GitHub_t2/Baljyot_EXP_RPOC/DATA/Rifampacin_Data/20230528/rpoc_ez_rif_100ugml_5min/Analysis_new/OD030_5_seg.tif_spots.csv\n",
      "/Users/baljyot/Documents/CODE/GitHub_t2/Baljyot_EXP_RPOC/DATA/Rifampacin_Data/20230528/rpoc_ez_rif_100ugml_5min/Analysis_new/OD030_6_seg.tif_spots.csv\n",
      "\n",
      "max_tag: 150\n",
      "min_tag: 150\n",
      "seg_files ['/Users/baljyot/Documents/CODE/GitHub_t2/Baljyot_EXP_RPOC/DATA/Rifampacin_Data/20230528/rpoc_ez_rif_100ugml_5min/Segmented_mean/1_OD030_1_seg.tif', '/Users/baljyot/Documents/CODE/GitHub_t2/Baljyot_EXP_RPOC/DATA/Rifampacin_Data/20230528/rpoc_ez_rif_100ugml_5min/Segmented_mean/2_OD030_1_seg.tif', '/Users/baljyot/Documents/CODE/GitHub_t2/Baljyot_EXP_RPOC/DATA/Rifampacin_Data/20230528/rpoc_ez_rif_100ugml_5min/Segmented_mean/3_OD030_1_seg.tif', '/Users/baljyot/Documents/CODE/GitHub_t2/Baljyot_EXP_RPOC/DATA/Rifampacin_Data/20230528/rpoc_ez_rif_100ugml_5min/Segmented_mean/4_OD030_1_seg.tif', '/Users/baljyot/Documents/CODE/GitHub_t2/Baljyot_EXP_RPOC/DATA/Rifampacin_Data/20230528/rpoc_ez_rif_100ugml_5min/Segmented_mean/5_OD030_1_seg.tif']\n",
      "drop_files []\n",
      "seg_files ['/Users/baljyot/Documents/CODE/GitHub_t2/Baljyot_EXP_RPOC/DATA/Rifampacin_Data/20230528/rpoc_ez_rif_100ugml_5min/Segmented_mean/1_OD030_2_seg.tif', '/Users/baljyot/Documents/CODE/GitHub_t2/Baljyot_EXP_RPOC/DATA/Rifampacin_Data/20230528/rpoc_ez_rif_100ugml_5min/Segmented_mean/2_OD030_2_seg.tif', '/Users/baljyot/Documents/CODE/GitHub_t2/Baljyot_EXP_RPOC/DATA/Rifampacin_Data/20230528/rpoc_ez_rif_100ugml_5min/Segmented_mean/3_OD030_2_seg.tif', '/Users/baljyot/Documents/CODE/GitHub_t2/Baljyot_EXP_RPOC/DATA/Rifampacin_Data/20230528/rpoc_ez_rif_100ugml_5min/Segmented_mean/4_OD030_2_seg.tif', '/Users/baljyot/Documents/CODE/GitHub_t2/Baljyot_EXP_RPOC/DATA/Rifampacin_Data/20230528/rpoc_ez_rif_100ugml_5min/Segmented_mean/5_OD030_2_seg.tif']\n",
      "drop_files []\n",
      "seg_files ['/Users/baljyot/Documents/CODE/GitHub_t2/Baljyot_EXP_RPOC/DATA/Rifampacin_Data/20230528/rpoc_ez_rif_100ugml_5min/Segmented_mean/1_OD030_3_seg.tif', '/Users/baljyot/Documents/CODE/GitHub_t2/Baljyot_EXP_RPOC/DATA/Rifampacin_Data/20230528/rpoc_ez_rif_100ugml_5min/Segmented_mean/2_OD030_3_seg.tif', '/Users/baljyot/Documents/CODE/GitHub_t2/Baljyot_EXP_RPOC/DATA/Rifampacin_Data/20230528/rpoc_ez_rif_100ugml_5min/Segmented_mean/3_OD030_3_seg.tif', '/Users/baljyot/Documents/CODE/GitHub_t2/Baljyot_EXP_RPOC/DATA/Rifampacin_Data/20230528/rpoc_ez_rif_100ugml_5min/Segmented_mean/4_OD030_3_seg.tif', '/Users/baljyot/Documents/CODE/GitHub_t2/Baljyot_EXP_RPOC/DATA/Rifampacin_Data/20230528/rpoc_ez_rif_100ugml_5min/Segmented_mean/5_OD030_3_seg.tif']\n",
      "drop_files []\n",
      "seg_files ['/Users/baljyot/Documents/CODE/GitHub_t2/Baljyot_EXP_RPOC/DATA/Rifampacin_Data/20230528/rpoc_ez_rif_100ugml_5min/Segmented_mean/1_OD030_4_seg.tif', '/Users/baljyot/Documents/CODE/GitHub_t2/Baljyot_EXP_RPOC/DATA/Rifampacin_Data/20230528/rpoc_ez_rif_100ugml_5min/Segmented_mean/2_OD030_4_seg.tif', '/Users/baljyot/Documents/CODE/GitHub_t2/Baljyot_EXP_RPOC/DATA/Rifampacin_Data/20230528/rpoc_ez_rif_100ugml_5min/Segmented_mean/3_OD030_4_seg.tif', '/Users/baljyot/Documents/CODE/GitHub_t2/Baljyot_EXP_RPOC/DATA/Rifampacin_Data/20230528/rpoc_ez_rif_100ugml_5min/Segmented_mean/4_OD030_4_seg.tif', '/Users/baljyot/Documents/CODE/GitHub_t2/Baljyot_EXP_RPOC/DATA/Rifampacin_Data/20230528/rpoc_ez_rif_100ugml_5min/Segmented_mean/5_OD030_4_seg.tif']\n",
      "drop_files []\n",
      "seg_files ['/Users/baljyot/Documents/CODE/GitHub_t2/Baljyot_EXP_RPOC/DATA/Rifampacin_Data/20230528/rpoc_ez_rif_100ugml_5min/Segmented_mean/1_OD030_5_seg.tif', '/Users/baljyot/Documents/CODE/GitHub_t2/Baljyot_EXP_RPOC/DATA/Rifampacin_Data/20230528/rpoc_ez_rif_100ugml_5min/Segmented_mean/2_OD030_5_seg.tif', '/Users/baljyot/Documents/CODE/GitHub_t2/Baljyot_EXP_RPOC/DATA/Rifampacin_Data/20230528/rpoc_ez_rif_100ugml_5min/Segmented_mean/3_OD030_5_seg.tif', '/Users/baljyot/Documents/CODE/GitHub_t2/Baljyot_EXP_RPOC/DATA/Rifampacin_Data/20230528/rpoc_ez_rif_100ugml_5min/Segmented_mean/4_OD030_5_seg.tif', '/Users/baljyot/Documents/CODE/GitHub_t2/Baljyot_EXP_RPOC/DATA/Rifampacin_Data/20230528/rpoc_ez_rif_100ugml_5min/Segmented_mean/5_OD030_5_seg.tif']\n",
      "drop_files []\n",
      "seg_files ['/Users/baljyot/Documents/CODE/GitHub_t2/Baljyot_EXP_RPOC/DATA/Rifampacin_Data/20230528/rpoc_ez_rif_100ugml_5min/Segmented_mean/1_OD030_6_seg.tif', '/Users/baljyot/Documents/CODE/GitHub_t2/Baljyot_EXP_RPOC/DATA/Rifampacin_Data/20230528/rpoc_ez_rif_100ugml_5min/Segmented_mean/2_OD030_6_seg.tif', '/Users/baljyot/Documents/CODE/GitHub_t2/Baljyot_EXP_RPOC/DATA/Rifampacin_Data/20230528/rpoc_ez_rif_100ugml_5min/Segmented_mean/3_OD030_6_seg.tif', '/Users/baljyot/Documents/CODE/GitHub_t2/Baljyot_EXP_RPOC/DATA/Rifampacin_Data/20230528/rpoc_ez_rif_100ugml_5min/Segmented_mean/4_OD030_6_seg.tif', '/Users/baljyot/Documents/CODE/GitHub_t2/Baljyot_EXP_RPOC/DATA/Rifampacin_Data/20230528/rpoc_ez_rif_100ugml_5min/Segmented_mean/5_OD030_6_seg.tif']\n",
      "drop_files []\n"
     ]
    },
    {
     "name": "stderr",
     "output_type": "stream",
     "text": [
      "/Users/baljyot/opt/anaconda3/envs/SMT_env_BP/lib/python3.10/site-packages/numpy/core/fromnumeric.py:3504: RuntimeWarning: Mean of empty slice.\n",
      "  return _methods._mean(a, axis=axis, dtype=dtype,\n",
      "/Users/baljyot/opt/anaconda3/envs/SMT_env_BP/lib/python3.10/site-packages/numpy/core/_methods.py:129: RuntimeWarning: invalid value encountered in scalar divide\n",
      "  ret = ret.dtype.type(ret / rcount)\n"
     ]
    },
    {
     "name": "stdout",
     "output_type": "stream",
     "text": [
      "SMAUG files saved to: /Users/baljyot/Documents/CODE/GitHub_t2/Baljyot_EXP_RPOC/DATA/Rifampacin_Data/20230528/rpoc_ez_rif_100ugml_5min/OD030_MATLAB_dat/SMAUG_AUTO\n",
      "All files in the dataset:\n",
      "/Users/baljyot/Documents/CODE/GitHub_t2/Baljyot_EXP_RPOC/DATA/Rifampacin_Data/20230617/rpoc_rif_100ugml/Analysis_new/rpoc_rif_1_seg.tif_spots.csv\n",
      "/Users/baljyot/Documents/CODE/GitHub_t2/Baljyot_EXP_RPOC/DATA/Rifampacin_Data/20230617/rpoc_rif_100ugml/Analysis_new/rpoc_rif_2_seg.tif_spots.csv\n",
      "/Users/baljyot/Documents/CODE/GitHub_t2/Baljyot_EXP_RPOC/DATA/Rifampacin_Data/20230617/rpoc_rif_100ugml/Analysis_new/rpoc_rif_3_seg.tif_spots.csv\n",
      "/Users/baljyot/Documents/CODE/GitHub_t2/Baljyot_EXP_RPOC/DATA/Rifampacin_Data/20230617/rpoc_rif_100ugml/Analysis_new/rpoc_rif_4_seg.tif_spots.csv\n",
      "/Users/baljyot/Documents/CODE/GitHub_t2/Baljyot_EXP_RPOC/DATA/Rifampacin_Data/20230617/rpoc_rif_100ugml/Analysis_new/rpoc_rif_5_seg.tif_spots.csv\n",
      "/Users/baljyot/Documents/CODE/GitHub_t2/Baljyot_EXP_RPOC/DATA/Rifampacin_Data/20230617/rpoc_rif_100ugml/Analysis_new/rpoc_rif_6_seg.tif_spots.csv\n",
      "/Users/baljyot/Documents/CODE/GitHub_t2/Baljyot_EXP_RPOC/DATA/Rifampacin_Data/20230617/rpoc_rif_100ugml/Analysis_new/rpoc_rif_7_seg.tif_spots.csv\n",
      "/Users/baljyot/Documents/CODE/GitHub_t2/Baljyot_EXP_RPOC/DATA/Rifampacin_Data/20230617/rpoc_rif_100ugml/Analysis_new/rpoc_rif_8_seg.tif_spots.csv\n",
      "/Users/baljyot/Documents/CODE/GitHub_t2/Baljyot_EXP_RPOC/DATA/Rifampacin_Data/20230617/rpoc_rif_100ugml/Analysis_new/rpoc_rif_9_seg.tif_spots.csv\n",
      "\n",
      "max_tag: 145\n",
      "min_tag: 145\n",
      "seg_files ['/Users/baljyot/Documents/CODE/GitHub_t2/Baljyot_EXP_RPOC/DATA/Rifampacin_Data/20230617/rpoc_rif_100ugml/Segmented_mean/1_rpoc_rif_1_seg.tif', '/Users/baljyot/Documents/CODE/GitHub_t2/Baljyot_EXP_RPOC/DATA/Rifampacin_Data/20230617/rpoc_rif_100ugml/Segmented_mean/2_rpoc_rif_1_seg.tif', '/Users/baljyot/Documents/CODE/GitHub_t2/Baljyot_EXP_RPOC/DATA/Rifampacin_Data/20230617/rpoc_rif_100ugml/Segmented_mean/3_rpoc_rif_1_seg.tif', '/Users/baljyot/Documents/CODE/GitHub_t2/Baljyot_EXP_RPOC/DATA/Rifampacin_Data/20230617/rpoc_rif_100ugml/Segmented_mean/4_rpoc_rif_1_seg.tif', '/Users/baljyot/Documents/CODE/GitHub_t2/Baljyot_EXP_RPOC/DATA/Rifampacin_Data/20230617/rpoc_rif_100ugml/Segmented_mean/5_rpoc_rif_1_seg.tif']\n",
      "drop_files []\n"
     ]
    },
    {
     "name": "stderr",
     "output_type": "stream",
     "text": [
      "/Users/baljyot/opt/anaconda3/envs/SMT_env_BP/lib/python3.10/site-packages/lmfit/minimizer.py:810: RuntimeWarning: invalid value encountered in sqrt\n",
      "  par.stderr = np.sqrt(self.result.covar[ivar, ivar])\n",
      "/Users/baljyot/opt/anaconda3/envs/SMT_env_BP/lib/python3.10/site-packages/lmfit/minimizer.py:817: RuntimeWarning: invalid value encountered in sqrt\n",
      "  (par.stderr * np.sqrt(self.result.covar[jvar, jvar])))\n"
     ]
    },
    {
     "name": "stdout",
     "output_type": "stream",
     "text": [
      "seg_files ['/Users/baljyot/Documents/CODE/GitHub_t2/Baljyot_EXP_RPOC/DATA/Rifampacin_Data/20230617/rpoc_rif_100ugml/Segmented_mean/1_rpoc_rif_2_seg.tif', '/Users/baljyot/Documents/CODE/GitHub_t2/Baljyot_EXP_RPOC/DATA/Rifampacin_Data/20230617/rpoc_rif_100ugml/Segmented_mean/2_rpoc_rif_2_seg.tif', '/Users/baljyot/Documents/CODE/GitHub_t2/Baljyot_EXP_RPOC/DATA/Rifampacin_Data/20230617/rpoc_rif_100ugml/Segmented_mean/3_rpoc_rif_2_seg.tif', '/Users/baljyot/Documents/CODE/GitHub_t2/Baljyot_EXP_RPOC/DATA/Rifampacin_Data/20230617/rpoc_rif_100ugml/Segmented_mean/4_rpoc_rif_2_seg.tif', '/Users/baljyot/Documents/CODE/GitHub_t2/Baljyot_EXP_RPOC/DATA/Rifampacin_Data/20230617/rpoc_rif_100ugml/Segmented_mean/5_rpoc_rif_2_seg.tif']\n",
      "drop_files []\n"
     ]
    },
    {
     "name": "stderr",
     "output_type": "stream",
     "text": [
      "/Users/baljyot/opt/anaconda3/envs/SMT_env_BP/lib/python3.10/site-packages/lmfit/minimizer.py:810: RuntimeWarning: invalid value encountered in sqrt\n",
      "  par.stderr = np.sqrt(self.result.covar[ivar, ivar])\n",
      "/Users/baljyot/opt/anaconda3/envs/SMT_env_BP/lib/python3.10/site-packages/lmfit/minimizer.py:817: RuntimeWarning: invalid value encountered in sqrt\n",
      "  (par.stderr * np.sqrt(self.result.covar[jvar, jvar])))\n"
     ]
    },
    {
     "name": "stdout",
     "output_type": "stream",
     "text": [
      "seg_files ['/Users/baljyot/Documents/CODE/GitHub_t2/Baljyot_EXP_RPOC/DATA/Rifampacin_Data/20230617/rpoc_rif_100ugml/Segmented_mean/1_rpoc_rif_3_seg.tif', '/Users/baljyot/Documents/CODE/GitHub_t2/Baljyot_EXP_RPOC/DATA/Rifampacin_Data/20230617/rpoc_rif_100ugml/Segmented_mean/2_rpoc_rif_3_seg.tif', '/Users/baljyot/Documents/CODE/GitHub_t2/Baljyot_EXP_RPOC/DATA/Rifampacin_Data/20230617/rpoc_rif_100ugml/Segmented_mean/3_rpoc_rif_3_seg.tif', '/Users/baljyot/Documents/CODE/GitHub_t2/Baljyot_EXP_RPOC/DATA/Rifampacin_Data/20230617/rpoc_rif_100ugml/Segmented_mean/4_rpoc_rif_3_seg.tif', '/Users/baljyot/Documents/CODE/GitHub_t2/Baljyot_EXP_RPOC/DATA/Rifampacin_Data/20230617/rpoc_rif_100ugml/Segmented_mean/5_rpoc_rif_3_seg.tif']\n",
      "drop_files []\n",
      "seg_files ['/Users/baljyot/Documents/CODE/GitHub_t2/Baljyot_EXP_RPOC/DATA/Rifampacin_Data/20230617/rpoc_rif_100ugml/Segmented_mean/1_rpoc_rif_4_seg.tif', '/Users/baljyot/Documents/CODE/GitHub_t2/Baljyot_EXP_RPOC/DATA/Rifampacin_Data/20230617/rpoc_rif_100ugml/Segmented_mean/2_rpoc_rif_4_seg.tif', '/Users/baljyot/Documents/CODE/GitHub_t2/Baljyot_EXP_RPOC/DATA/Rifampacin_Data/20230617/rpoc_rif_100ugml/Segmented_mean/3_rpoc_rif_4_seg.tif', '/Users/baljyot/Documents/CODE/GitHub_t2/Baljyot_EXP_RPOC/DATA/Rifampacin_Data/20230617/rpoc_rif_100ugml/Segmented_mean/4_rpoc_rif_4_seg.tif', '/Users/baljyot/Documents/CODE/GitHub_t2/Baljyot_EXP_RPOC/DATA/Rifampacin_Data/20230617/rpoc_rif_100ugml/Segmented_mean/5_rpoc_rif_4_seg.tif']\n",
      "drop_files []\n"
     ]
    },
    {
     "name": "stderr",
     "output_type": "stream",
     "text": [
      "/Users/baljyot/opt/anaconda3/envs/SMT_env_BP/lib/python3.10/site-packages/lmfit/minimizer.py:810: RuntimeWarning: invalid value encountered in sqrt\n",
      "  par.stderr = np.sqrt(self.result.covar[ivar, ivar])\n",
      "/Users/baljyot/opt/anaconda3/envs/SMT_env_BP/lib/python3.10/site-packages/lmfit/minimizer.py:817: RuntimeWarning: invalid value encountered in sqrt\n",
      "  (par.stderr * np.sqrt(self.result.covar[jvar, jvar])))\n"
     ]
    },
    {
     "name": "stdout",
     "output_type": "stream",
     "text": [
      "seg_files ['/Users/baljyot/Documents/CODE/GitHub_t2/Baljyot_EXP_RPOC/DATA/Rifampacin_Data/20230617/rpoc_rif_100ugml/Segmented_mean/1_rpoc_rif_5_seg.tif', '/Users/baljyot/Documents/CODE/GitHub_t2/Baljyot_EXP_RPOC/DATA/Rifampacin_Data/20230617/rpoc_rif_100ugml/Segmented_mean/2_rpoc_rif_5_seg.tif', '/Users/baljyot/Documents/CODE/GitHub_t2/Baljyot_EXP_RPOC/DATA/Rifampacin_Data/20230617/rpoc_rif_100ugml/Segmented_mean/3_rpoc_rif_5_seg.tif', '/Users/baljyot/Documents/CODE/GitHub_t2/Baljyot_EXP_RPOC/DATA/Rifampacin_Data/20230617/rpoc_rif_100ugml/Segmented_mean/4_rpoc_rif_5_seg.tif', '/Users/baljyot/Documents/CODE/GitHub_t2/Baljyot_EXP_RPOC/DATA/Rifampacin_Data/20230617/rpoc_rif_100ugml/Segmented_mean/5_rpoc_rif_5_seg.tif']\n",
      "drop_files []\n"
     ]
    },
    {
     "name": "stderr",
     "output_type": "stream",
     "text": [
      "/Users/baljyot/opt/anaconda3/envs/SMT_env_BP/lib/python3.10/site-packages/lmfit/minimizer.py:810: RuntimeWarning: invalid value encountered in sqrt\n",
      "  par.stderr = np.sqrt(self.result.covar[ivar, ivar])\n",
      "/Users/baljyot/opt/anaconda3/envs/SMT_env_BP/lib/python3.10/site-packages/lmfit/minimizer.py:817: RuntimeWarning: invalid value encountered in sqrt\n",
      "  (par.stderr * np.sqrt(self.result.covar[jvar, jvar])))\n"
     ]
    },
    {
     "name": "stdout",
     "output_type": "stream",
     "text": [
      "seg_files ['/Users/baljyot/Documents/CODE/GitHub_t2/Baljyot_EXP_RPOC/DATA/Rifampacin_Data/20230617/rpoc_rif_100ugml/Segmented_mean/1_rpoc_rif_6_seg.tif', '/Users/baljyot/Documents/CODE/GitHub_t2/Baljyot_EXP_RPOC/DATA/Rifampacin_Data/20230617/rpoc_rif_100ugml/Segmented_mean/2_rpoc_rif_6_seg.tif', '/Users/baljyot/Documents/CODE/GitHub_t2/Baljyot_EXP_RPOC/DATA/Rifampacin_Data/20230617/rpoc_rif_100ugml/Segmented_mean/3_rpoc_rif_6_seg.tif', '/Users/baljyot/Documents/CODE/GitHub_t2/Baljyot_EXP_RPOC/DATA/Rifampacin_Data/20230617/rpoc_rif_100ugml/Segmented_mean/4_rpoc_rif_6_seg.tif', '/Users/baljyot/Documents/CODE/GitHub_t2/Baljyot_EXP_RPOC/DATA/Rifampacin_Data/20230617/rpoc_rif_100ugml/Segmented_mean/5_rpoc_rif_6_seg.tif']\n",
      "drop_files []\n"
     ]
    },
    {
     "name": "stderr",
     "output_type": "stream",
     "text": [
      "/Users/baljyot/opt/anaconda3/envs/SMT_env_BP/lib/python3.10/site-packages/lmfit/minimizer.py:810: RuntimeWarning: invalid value encountered in sqrt\n",
      "  par.stderr = np.sqrt(self.result.covar[ivar, ivar])\n",
      "/Users/baljyot/opt/anaconda3/envs/SMT_env_BP/lib/python3.10/site-packages/lmfit/minimizer.py:817: RuntimeWarning: invalid value encountered in sqrt\n",
      "  (par.stderr * np.sqrt(self.result.covar[jvar, jvar])))\n"
     ]
    },
    {
     "name": "stdout",
     "output_type": "stream",
     "text": [
      "seg_files ['/Users/baljyot/Documents/CODE/GitHub_t2/Baljyot_EXP_RPOC/DATA/Rifampacin_Data/20230617/rpoc_rif_100ugml/Segmented_mean/1_rpoc_rif_7_seg.tif', '/Users/baljyot/Documents/CODE/GitHub_t2/Baljyot_EXP_RPOC/DATA/Rifampacin_Data/20230617/rpoc_rif_100ugml/Segmented_mean/2_rpoc_rif_7_seg.tif', '/Users/baljyot/Documents/CODE/GitHub_t2/Baljyot_EXP_RPOC/DATA/Rifampacin_Data/20230617/rpoc_rif_100ugml/Segmented_mean/3_rpoc_rif_7_seg.tif', '/Users/baljyot/Documents/CODE/GitHub_t2/Baljyot_EXP_RPOC/DATA/Rifampacin_Data/20230617/rpoc_rif_100ugml/Segmented_mean/4_rpoc_rif_7_seg.tif', '/Users/baljyot/Documents/CODE/GitHub_t2/Baljyot_EXP_RPOC/DATA/Rifampacin_Data/20230617/rpoc_rif_100ugml/Segmented_mean/5_rpoc_rif_7_seg.tif']\n",
      "drop_files []\n"
     ]
    },
    {
     "name": "stderr",
     "output_type": "stream",
     "text": [
      "/Users/baljyot/opt/anaconda3/envs/SMT_env_BP/lib/python3.10/site-packages/lmfit/minimizer.py:810: RuntimeWarning: invalid value encountered in sqrt\n",
      "  par.stderr = np.sqrt(self.result.covar[ivar, ivar])\n",
      "/Users/baljyot/opt/anaconda3/envs/SMT_env_BP/lib/python3.10/site-packages/lmfit/minimizer.py:817: RuntimeWarning: invalid value encountered in sqrt\n",
      "  (par.stderr * np.sqrt(self.result.covar[jvar, jvar])))\n"
     ]
    },
    {
     "name": "stdout",
     "output_type": "stream",
     "text": [
      "seg_files ['/Users/baljyot/Documents/CODE/GitHub_t2/Baljyot_EXP_RPOC/DATA/Rifampacin_Data/20230617/rpoc_rif_100ugml/Segmented_mean/1_rpoc_rif_8_seg.tif', '/Users/baljyot/Documents/CODE/GitHub_t2/Baljyot_EXP_RPOC/DATA/Rifampacin_Data/20230617/rpoc_rif_100ugml/Segmented_mean/2_rpoc_rif_8_seg.tif', '/Users/baljyot/Documents/CODE/GitHub_t2/Baljyot_EXP_RPOC/DATA/Rifampacin_Data/20230617/rpoc_rif_100ugml/Segmented_mean/3_rpoc_rif_8_seg.tif', '/Users/baljyot/Documents/CODE/GitHub_t2/Baljyot_EXP_RPOC/DATA/Rifampacin_Data/20230617/rpoc_rif_100ugml/Segmented_mean/4_rpoc_rif_8_seg.tif', '/Users/baljyot/Documents/CODE/GitHub_t2/Baljyot_EXP_RPOC/DATA/Rifampacin_Data/20230617/rpoc_rif_100ugml/Segmented_mean/5_rpoc_rif_8_seg.tif']\n",
      "drop_files []\n"
     ]
    },
    {
     "name": "stderr",
     "output_type": "stream",
     "text": [
      "/Users/baljyot/opt/anaconda3/envs/SMT_env_BP/lib/python3.10/site-packages/lmfit/minimizer.py:810: RuntimeWarning: invalid value encountered in sqrt\n",
      "  par.stderr = np.sqrt(self.result.covar[ivar, ivar])\n",
      "/Users/baljyot/opt/anaconda3/envs/SMT_env_BP/lib/python3.10/site-packages/lmfit/minimizer.py:817: RuntimeWarning: invalid value encountered in sqrt\n",
      "  (par.stderr * np.sqrt(self.result.covar[jvar, jvar])))\n"
     ]
    },
    {
     "name": "stdout",
     "output_type": "stream",
     "text": [
      "seg_files ['/Users/baljyot/Documents/CODE/GitHub_t2/Baljyot_EXP_RPOC/DATA/Rifampacin_Data/20230617/rpoc_rif_100ugml/Segmented_mean/1_rpoc_rif_9_seg.tif', '/Users/baljyot/Documents/CODE/GitHub_t2/Baljyot_EXP_RPOC/DATA/Rifampacin_Data/20230617/rpoc_rif_100ugml/Segmented_mean/2_rpoc_rif_9_seg.tif', '/Users/baljyot/Documents/CODE/GitHub_t2/Baljyot_EXP_RPOC/DATA/Rifampacin_Data/20230617/rpoc_rif_100ugml/Segmented_mean/3_rpoc_rif_9_seg.tif', '/Users/baljyot/Documents/CODE/GitHub_t2/Baljyot_EXP_RPOC/DATA/Rifampacin_Data/20230617/rpoc_rif_100ugml/Segmented_mean/4_rpoc_rif_9_seg.tif', '/Users/baljyot/Documents/CODE/GitHub_t2/Baljyot_EXP_RPOC/DATA/Rifampacin_Data/20230617/rpoc_rif_100ugml/Segmented_mean/5_rpoc_rif_9_seg.tif']\n",
      "drop_files []\n"
     ]
    },
    {
     "name": "stderr",
     "output_type": "stream",
     "text": [
      "/Users/baljyot/opt/anaconda3/envs/SMT_env_BP/lib/python3.10/site-packages/numpy/core/fromnumeric.py:3504: RuntimeWarning: Mean of empty slice.\n",
      "  return _methods._mean(a, axis=axis, dtype=dtype,\n",
      "/Users/baljyot/opt/anaconda3/envs/SMT_env_BP/lib/python3.10/site-packages/numpy/core/_methods.py:129: RuntimeWarning: invalid value encountered in scalar divide\n",
      "  ret = ret.dtype.type(ret / rcount)\n"
     ]
    },
    {
     "name": "stdout",
     "output_type": "stream",
     "text": [
      "SMAUG files saved to: /Users/baljyot/Documents/CODE/GitHub_t2/Baljyot_EXP_RPOC/DATA/Rifampacin_Data/20230617/rpoc_rif_100ugml/rpoc_rif_MATLAB_dat/SMAUG_AUTO\n",
      "All files in the dataset:\n",
      "/Users/baljyot/Documents/CODE/GitHub_t2/Baljyot_EXP_RPOC/DATA/Rifampacin_Data/20230617/rpoc_rif_100ugml_2/Analysis_new/rpoc_rif_1_seg.tif_spots.csv\n",
      "/Users/baljyot/Documents/CODE/GitHub_t2/Baljyot_EXP_RPOC/DATA/Rifampacin_Data/20230617/rpoc_rif_100ugml_2/Analysis_new/rpoc_rif_2_seg.tif_spots.csv\n",
      "/Users/baljyot/Documents/CODE/GitHub_t2/Baljyot_EXP_RPOC/DATA/Rifampacin_Data/20230617/rpoc_rif_100ugml_2/Analysis_new/rpoc_rif_3_seg.tif_spots.csv\n",
      "/Users/baljyot/Documents/CODE/GitHub_t2/Baljyot_EXP_RPOC/DATA/Rifampacin_Data/20230617/rpoc_rif_100ugml_2/Analysis_new/rpoc_rif_4_seg.tif_spots.csv\n",
      "/Users/baljyot/Documents/CODE/GitHub_t2/Baljyot_EXP_RPOC/DATA/Rifampacin_Data/20230617/rpoc_rif_100ugml_2/Analysis_new/rpoc_rif_5_seg.tif_spots.csv\n",
      "/Users/baljyot/Documents/CODE/GitHub_t2/Baljyot_EXP_RPOC/DATA/Rifampacin_Data/20230617/rpoc_rif_100ugml_2/Analysis_new/rpoc_rif_6_seg.tif_spots.csv\n",
      "/Users/baljyot/Documents/CODE/GitHub_t2/Baljyot_EXP_RPOC/DATA/Rifampacin_Data/20230617/rpoc_rif_100ugml_2/Analysis_new/rpoc_rif_7_seg.tif_spots.csv\n",
      "\n",
      "max_tag: 147\n",
      "min_tag: 147\n",
      "seg_files ['/Users/baljyot/Documents/CODE/GitHub_t2/Baljyot_EXP_RPOC/DATA/Rifampacin_Data/20230617/rpoc_rif_100ugml_2/Segmented_mean/1_rpoc_rif_1_seg.tif', '/Users/baljyot/Documents/CODE/GitHub_t2/Baljyot_EXP_RPOC/DATA/Rifampacin_Data/20230617/rpoc_rif_100ugml_2/Segmented_mean/2_rpoc_rif_1_seg.tif', '/Users/baljyot/Documents/CODE/GitHub_t2/Baljyot_EXP_RPOC/DATA/Rifampacin_Data/20230617/rpoc_rif_100ugml_2/Segmented_mean/3_rpoc_rif_1_seg.tif', '/Users/baljyot/Documents/CODE/GitHub_t2/Baljyot_EXP_RPOC/DATA/Rifampacin_Data/20230617/rpoc_rif_100ugml_2/Segmented_mean/4_rpoc_rif_1_seg.tif', '/Users/baljyot/Documents/CODE/GitHub_t2/Baljyot_EXP_RPOC/DATA/Rifampacin_Data/20230617/rpoc_rif_100ugml_2/Segmented_mean/5_rpoc_rif_1_seg.tif']\n",
      "drop_files []\n",
      "seg_files ['/Users/baljyot/Documents/CODE/GitHub_t2/Baljyot_EXP_RPOC/DATA/Rifampacin_Data/20230617/rpoc_rif_100ugml_2/Segmented_mean/1_rpoc_rif_2_seg.tif', '/Users/baljyot/Documents/CODE/GitHub_t2/Baljyot_EXP_RPOC/DATA/Rifampacin_Data/20230617/rpoc_rif_100ugml_2/Segmented_mean/2_rpoc_rif_2_seg.tif', '/Users/baljyot/Documents/CODE/GitHub_t2/Baljyot_EXP_RPOC/DATA/Rifampacin_Data/20230617/rpoc_rif_100ugml_2/Segmented_mean/3_rpoc_rif_2_seg.tif', '/Users/baljyot/Documents/CODE/GitHub_t2/Baljyot_EXP_RPOC/DATA/Rifampacin_Data/20230617/rpoc_rif_100ugml_2/Segmented_mean/4_rpoc_rif_2_seg.tif', '/Users/baljyot/Documents/CODE/GitHub_t2/Baljyot_EXP_RPOC/DATA/Rifampacin_Data/20230617/rpoc_rif_100ugml_2/Segmented_mean/5_rpoc_rif_2_seg.tif']\n",
      "drop_files []\n",
      "seg_files ['/Users/baljyot/Documents/CODE/GitHub_t2/Baljyot_EXP_RPOC/DATA/Rifampacin_Data/20230617/rpoc_rif_100ugml_2/Segmented_mean/1_rpoc_rif_3_seg.tif', '/Users/baljyot/Documents/CODE/GitHub_t2/Baljyot_EXP_RPOC/DATA/Rifampacin_Data/20230617/rpoc_rif_100ugml_2/Segmented_mean/2_rpoc_rif_3_seg.tif', '/Users/baljyot/Documents/CODE/GitHub_t2/Baljyot_EXP_RPOC/DATA/Rifampacin_Data/20230617/rpoc_rif_100ugml_2/Segmented_mean/3_rpoc_rif_3_seg.tif', '/Users/baljyot/Documents/CODE/GitHub_t2/Baljyot_EXP_RPOC/DATA/Rifampacin_Data/20230617/rpoc_rif_100ugml_2/Segmented_mean/4_rpoc_rif_3_seg.tif', '/Users/baljyot/Documents/CODE/GitHub_t2/Baljyot_EXP_RPOC/DATA/Rifampacin_Data/20230617/rpoc_rif_100ugml_2/Segmented_mean/5_rpoc_rif_3_seg.tif']\n",
      "drop_files []\n"
     ]
    },
    {
     "name": "stderr",
     "output_type": "stream",
     "text": [
      "/Users/baljyot/opt/anaconda3/envs/SMT_env_BP/lib/python3.10/site-packages/lmfit/minimizer.py:810: RuntimeWarning: invalid value encountered in sqrt\n",
      "  par.stderr = np.sqrt(self.result.covar[ivar, ivar])\n",
      "/Users/baljyot/opt/anaconda3/envs/SMT_env_BP/lib/python3.10/site-packages/lmfit/minimizer.py:817: RuntimeWarning: invalid value encountered in sqrt\n",
      "  (par.stderr * np.sqrt(self.result.covar[jvar, jvar])))\n"
     ]
    },
    {
     "name": "stdout",
     "output_type": "stream",
     "text": [
      "seg_files ['/Users/baljyot/Documents/CODE/GitHub_t2/Baljyot_EXP_RPOC/DATA/Rifampacin_Data/20230617/rpoc_rif_100ugml_2/Segmented_mean/1_rpoc_rif_4_seg.tif', '/Users/baljyot/Documents/CODE/GitHub_t2/Baljyot_EXP_RPOC/DATA/Rifampacin_Data/20230617/rpoc_rif_100ugml_2/Segmented_mean/2_rpoc_rif_4_seg.tif', '/Users/baljyot/Documents/CODE/GitHub_t2/Baljyot_EXP_RPOC/DATA/Rifampacin_Data/20230617/rpoc_rif_100ugml_2/Segmented_mean/3_rpoc_rif_4_seg.tif', '/Users/baljyot/Documents/CODE/GitHub_t2/Baljyot_EXP_RPOC/DATA/Rifampacin_Data/20230617/rpoc_rif_100ugml_2/Segmented_mean/4_rpoc_rif_4_seg.tif', '/Users/baljyot/Documents/CODE/GitHub_t2/Baljyot_EXP_RPOC/DATA/Rifampacin_Data/20230617/rpoc_rif_100ugml_2/Segmented_mean/5_rpoc_rif_4_seg.tif']\n",
      "drop_files []\n"
     ]
    },
    {
     "name": "stderr",
     "output_type": "stream",
     "text": [
      "/Users/baljyot/opt/anaconda3/envs/SMT_env_BP/lib/python3.10/site-packages/lmfit/minimizer.py:810: RuntimeWarning: invalid value encountered in sqrt\n",
      "  par.stderr = np.sqrt(self.result.covar[ivar, ivar])\n",
      "/Users/baljyot/opt/anaconda3/envs/SMT_env_BP/lib/python3.10/site-packages/lmfit/minimizer.py:817: RuntimeWarning: invalid value encountered in sqrt\n",
      "  (par.stderr * np.sqrt(self.result.covar[jvar, jvar])))\n"
     ]
    },
    {
     "name": "stdout",
     "output_type": "stream",
     "text": [
      "seg_files ['/Users/baljyot/Documents/CODE/GitHub_t2/Baljyot_EXP_RPOC/DATA/Rifampacin_Data/20230617/rpoc_rif_100ugml_2/Segmented_mean/1_rpoc_rif_5_seg.tif', '/Users/baljyot/Documents/CODE/GitHub_t2/Baljyot_EXP_RPOC/DATA/Rifampacin_Data/20230617/rpoc_rif_100ugml_2/Segmented_mean/2_rpoc_rif_5_seg.tif', '/Users/baljyot/Documents/CODE/GitHub_t2/Baljyot_EXP_RPOC/DATA/Rifampacin_Data/20230617/rpoc_rif_100ugml_2/Segmented_mean/3_rpoc_rif_5_seg.tif', '/Users/baljyot/Documents/CODE/GitHub_t2/Baljyot_EXP_RPOC/DATA/Rifampacin_Data/20230617/rpoc_rif_100ugml_2/Segmented_mean/4_rpoc_rif_5_seg.tif', '/Users/baljyot/Documents/CODE/GitHub_t2/Baljyot_EXP_RPOC/DATA/Rifampacin_Data/20230617/rpoc_rif_100ugml_2/Segmented_mean/5_rpoc_rif_5_seg.tif']\n",
      "drop_files []\n",
      "seg_files ['/Users/baljyot/Documents/CODE/GitHub_t2/Baljyot_EXP_RPOC/DATA/Rifampacin_Data/20230617/rpoc_rif_100ugml_2/Segmented_mean/1_rpoc_rif_6_seg.tif', '/Users/baljyot/Documents/CODE/GitHub_t2/Baljyot_EXP_RPOC/DATA/Rifampacin_Data/20230617/rpoc_rif_100ugml_2/Segmented_mean/2_rpoc_rif_6_seg.tif', '/Users/baljyot/Documents/CODE/GitHub_t2/Baljyot_EXP_RPOC/DATA/Rifampacin_Data/20230617/rpoc_rif_100ugml_2/Segmented_mean/3_rpoc_rif_6_seg.tif', '/Users/baljyot/Documents/CODE/GitHub_t2/Baljyot_EXP_RPOC/DATA/Rifampacin_Data/20230617/rpoc_rif_100ugml_2/Segmented_mean/4_rpoc_rif_6_seg.tif', '/Users/baljyot/Documents/CODE/GitHub_t2/Baljyot_EXP_RPOC/DATA/Rifampacin_Data/20230617/rpoc_rif_100ugml_2/Segmented_mean/5_rpoc_rif_6_seg.tif']\n",
      "drop_files []\n"
     ]
    },
    {
     "name": "stderr",
     "output_type": "stream",
     "text": [
      "/Users/baljyot/opt/anaconda3/envs/SMT_env_BP/lib/python3.10/site-packages/lmfit/minimizer.py:810: RuntimeWarning: invalid value encountered in sqrt\n",
      "  par.stderr = np.sqrt(self.result.covar[ivar, ivar])\n",
      "/Users/baljyot/opt/anaconda3/envs/SMT_env_BP/lib/python3.10/site-packages/lmfit/minimizer.py:817: RuntimeWarning: invalid value encountered in sqrt\n",
      "  (par.stderr * np.sqrt(self.result.covar[jvar, jvar])))\n"
     ]
    },
    {
     "name": "stdout",
     "output_type": "stream",
     "text": [
      "seg_files ['/Users/baljyot/Documents/CODE/GitHub_t2/Baljyot_EXP_RPOC/DATA/Rifampacin_Data/20230617/rpoc_rif_100ugml_2/Segmented_mean/1_rpoc_rif_7_seg.tif', '/Users/baljyot/Documents/CODE/GitHub_t2/Baljyot_EXP_RPOC/DATA/Rifampacin_Data/20230617/rpoc_rif_100ugml_2/Segmented_mean/2_rpoc_rif_7_seg.tif', '/Users/baljyot/Documents/CODE/GitHub_t2/Baljyot_EXP_RPOC/DATA/Rifampacin_Data/20230617/rpoc_rif_100ugml_2/Segmented_mean/3_rpoc_rif_7_seg.tif', '/Users/baljyot/Documents/CODE/GitHub_t2/Baljyot_EXP_RPOC/DATA/Rifampacin_Data/20230617/rpoc_rif_100ugml_2/Segmented_mean/4_rpoc_rif_7_seg.tif', '/Users/baljyot/Documents/CODE/GitHub_t2/Baljyot_EXP_RPOC/DATA/Rifampacin_Data/20230617/rpoc_rif_100ugml_2/Segmented_mean/5_rpoc_rif_7_seg.tif']\n",
      "drop_files []\n"
     ]
    },
    {
     "name": "stderr",
     "output_type": "stream",
     "text": [
      "/Users/baljyot/opt/anaconda3/envs/SMT_env_BP/lib/python3.10/site-packages/numpy/core/fromnumeric.py:3504: RuntimeWarning: Mean of empty slice.\n",
      "  return _methods._mean(a, axis=axis, dtype=dtype,\n",
      "/Users/baljyot/opt/anaconda3/envs/SMT_env_BP/lib/python3.10/site-packages/numpy/core/_methods.py:129: RuntimeWarning: invalid value encountered in scalar divide\n",
      "  ret = ret.dtype.type(ret / rcount)\n"
     ]
    },
    {
     "name": "stdout",
     "output_type": "stream",
     "text": [
      "SMAUG files saved to: /Users/baljyot/Documents/CODE/GitHub_t2/Baljyot_EXP_RPOC/DATA/Rifampacin_Data/20230617/rpoc_rif_100ugml_2/rpoc_rif_MATLAB_dat/SMAUG_AUTO\n"
     ]
    }
   ],
   "source": [
    "rpoc_rif_paths = {\"RPOC_RIF\":{\n",
    "    \"/Users/baljyot/Documents/CODE/GitHub_t2/Baljyot_EXP_RPOC/DATA/Rifampacin_Data/20230528/rpoc_ez_rif_100ugml_5min\":{\"t_string\":\"OD030\",\"name\":\"20230528_rpoc_ez_rif_100ugml_5min\"},\n",
    "    \"/Users/baljyot/Documents/CODE/GitHub_t2/Baljyot_EXP_RPOC/DATA/Rifampacin_Data/20230617/rpoc_rif_100ugml\":{\"t_string\":\"rpoc_rif\",\"name\":\"20230617_rpoc_rif_100ugml\"},\n",
    "    \"/Users/baljyot/Documents/CODE/GitHub_t2/Baljyot_EXP_RPOC/DATA/Rifampacin_Data/20230617/rpoc_rif_100ugml_2\":{\"t_string\":\"rpoc_rif\",\"name\":\"20230617_rpoc_rif_100ugml_2\"}\n",
    "}\n",
    "}\n",
    "\n",
    "perform_run_analysis_bulk(rpoc_rif_paths,save=True)"
   ]
  },
  {
   "cell_type": "code",
   "execution_count": null,
   "metadata": {},
   "outputs": [],
   "source": []
  }
 ],
 "metadata": {
  "kernelspec": {
   "display_name": "SMT_env_BP",
   "language": "python",
   "name": "python3"
  },
  "language_info": {
   "codemirror_mode": {
    "name": "ipython",
    "version": 3
   },
   "file_extension": ".py",
   "mimetype": "text/x-python",
   "name": "python",
   "nbconvert_exporter": "python",
   "pygments_lexer": "ipython3",
   "version": "3.10.12"
  },
  "orig_nbformat": 4
 },
 "nbformat": 4,
 "nbformat_minor": 2
}
